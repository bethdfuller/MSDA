{
  "nbformat": 4,
  "nbformat_minor": 0,
  "metadata": {
    "colab": {
      "provenance": [],
      "toc_visible": true,
      "authorship_tag": "ABX9TyPHYn+ES87bRNbIxSh0F+d7",
      "include_colab_link": true
    },
    "kernelspec": {
      "name": "python3",
      "display_name": "Python 3"
    },
    "language_info": {
      "name": "python"
    }
  },
  "cells": [
    {
      "cell_type": "markdown",
      "metadata": {
        "id": "view-in-github",
        "colab_type": "text"
      },
      "source": [
        "<a href=\"https://colab.research.google.com/github/bethdfuller/MSDA/blob/main/D209_1.ipynb\" target=\"_parent\"><img src=\"https://colab.research.google.com/assets/colab-badge.svg\" alt=\"Open In Colab\"/></a>"
      ]
    },
    {
      "cell_type": "markdown",
      "source": [
        "# D209: Task 1: Classification Analysis\n",
        "\n",
        "### Beth Fuller\n",
        "\n",
        "### July 2024"
      ],
      "metadata": {
        "id": "T6EJlpFQxxjZ"
      }
    },
    {
      "cell_type": "markdown",
      "source": [
        "## A1: Research Question"
      ],
      "metadata": {
        "id": "zdFmYWyjvpEm"
      }
    },
    {
      "cell_type": "markdown",
      "source": [
        "Can customer churn be accurately predicted using the Naive Bayes model with the provided categorical data?"
      ],
      "metadata": {
        "id": "frHszOfX_CEI"
      }
    },
    {
      "cell_type": "markdown",
      "source": [
        "## A2: Goal"
      ],
      "metadata": {
        "id": "BdFelJrx_C63"
      }
    },
    {
      "cell_type": "markdown",
      "source": [
        "The goal of this analysis is to accurately predict customer churn probability using the Naive Bayes classification algorithm. This will benefit the telecommunications company in that it would allow them to focus on retaining established customers."
      ],
      "metadata": {
        "id": "UjyUkK77_Ez7"
      }
    },
    {
      "cell_type": "markdown",
      "source": [
        "## B1: Naive Bayes Method"
      ],
      "metadata": {
        "id": "6Ur0AjIyWhu4"
      }
    },
    {
      "cell_type": "markdown",
      "source": [
        "Predicting customer churn is an ongoing project for the telecommunications company, making the Naive Bayes classification model an excellent fit for now and the future. Based on Bayes' Theorem, the Naive Bayes model can update its observations with new information, leading to more accurate classifications (Larose, 2019). This model provides probabilities of customer churn based on the features provided."
      ],
      "metadata": {
        "id": "PaiIVIdxWkSJ"
      }
    },
    {
      "cell_type": "markdown",
      "source": [
        "## B2: Assumptions of Naive Bayes"
      ],
      "metadata": {
        "id": "itwtLCOCW9gO"
      }
    },
    {
      "cell_type": "markdown",
      "source": [
        "The Naive Bayes model assumes that the effect of each feature is independent of others. Despite this unrealistic assumption, the model has been historically successful and accurate in use cases like spam filters (Grus, 2019)."
      ],
      "metadata": {
        "id": "A3tMTWj8XHfD"
      }
    },
    {
      "cell_type": "markdown",
      "source": [
        "## B3: Python Packages & Libraries"
      ],
      "metadata": {
        "id": "sb_kwQuMXKvk"
      }
    },
    {
      "cell_type": "markdown",
      "source": [
        "* pandas\n",
        "  * reading and displaying csv\n",
        "  * data transformation - get_dummies\n",
        "* seaborn\n",
        "  * visualization - heatmap\n",
        "* matplotlib\n",
        "  * plots - boxplots, confusion matrix plot\n",
        "* sklearn -\n",
        "  * split the data for the Naive Bayes model - train_test_split\n",
        "  * Naive Bayes model - naive_bayes GaussianNB\n",
        "  * metrics - confusion matrix\n",
        "  * model performance metrics\n",
        "* numpy\n",
        "  * random number\n"
      ],
      "metadata": {
        "id": "Y3fi46YIcs1M"
      }
    },
    {
      "cell_type": "markdown",
      "source": [
        "## C1: Data Preprocessing Goal"
      ],
      "metadata": {
        "id": "_-J_d9tVhIWC"
      }
    },
    {
      "cell_type": "markdown",
      "source": [
        "The primary goal of preprocessing was to get the data into a format that will be able to be used with the Naive Bayes model. The main issue in the data were several Yes/No columns (e.g. Techie, Tablet) and several categorical variable columns (e.g. Area, Marital). One hot encoding was utilized to perform this step."
      ],
      "metadata": {
        "id": "TzRgVeiiyuaw"
      }
    },
    {
      "cell_type": "markdown",
      "source": [
        "## C2: Variables"
      ],
      "metadata": {
        "id": "QX_GNohYj42k"
      }
    },
    {
      "cell_type": "markdown",
      "source": [
        "Target/Dependent Variable: Churn\n",
        "Churn is a categorical variable.\n",
        "\n",
        "Numeric Variables:\n",
        "* Children\n",
        "* Age\n",
        "* Income\n",
        "* Outage_sec_perweek\n",
        "* Email\n",
        "* Contacts\n",
        "* Yearly_equip_failure\n",
        "* Tenure\n",
        "* Monthly Charge\n",
        "* Bandwidth GB Year\n",
        "\n",
        "Categorical Variables:\n",
        "* Area\n",
        "* Marital\n",
        "* Gender\n",
        "* Internet Service\n",
        "* PaymentMethod\n",
        "* Contract\n",
        "* Techie\n",
        "* Port_modem\n",
        "* Tablet\n",
        "* Phone\n",
        "* Multiple\n",
        "* OnlineSecurity\n",
        "* OnlineBackup\n",
        "* DeviceProtection\n",
        "* TechSupport\n",
        "* StreamingTV\n",
        "* StreamingMovies\n",
        "* PaperlessBilling"
      ],
      "metadata": {
        "id": "7HtZQUSRy6Cb"
      }
    },
    {
      "cell_type": "markdown",
      "source": [
        "## C3: Data Cleaning\n",
        "\n"
      ],
      "metadata": {
        "id": "-VLYZv6VuT3c"
      }
    },
    {
      "cell_type": "markdown",
      "source": [
        "The initial data inspection showed 10,000 records and 50 attributes. The data will be cleaned via the following steps which follows previous work (Fuller, 2024):\n",
        "\n",
        "* **Drop** - columns that are unnecessary.\n",
        "* **Missing values** - check for and address missing values (i.e. delete, input).\n",
        "  * .isnull.sum()\n",
        "* **Duplicate values** - check for and address duplicate values (i.e remove).\n",
        "  * .duplicated()\n",
        "  * .duplicated().valuecounts()\n",
        "* **Outliers** - check for and address outliers.\n",
        "  * .describe()\n",
        "  * .plot to create box plots\n",
        "* **One Hot Encoding** - categorical that does not have an ordinal relationship will be transformed via one hot encoding.\n",
        "  * .get_dummies\n",
        "  * drop_first=True will be used with boolean categorical variables\n",
        "  * drop_first=False will be used when there are 2+ categorical options"
      ],
      "metadata": {
        "id": "xNvb3nZ5uXFM"
      }
    },
    {
      "cell_type": "markdown",
      "source": [
        "# Code"
      ],
      "metadata": {
        "id": "LGQlt63UvxKw"
      }
    },
    {
      "cell_type": "code",
      "source": [
        "# Import libraries\n",
        "import pandas as pd\n",
        "import seaborn as sns\n",
        "import matplotlib.pyplot as plt\n",
        "from sklearn.model_selection import train_test_split\n",
        "from sklearn.naive_bayes import GaussianNB\n",
        "import numpy as np\n",
        "from sklearn import metrics\n",
        "\n",
        "\n",
        "# Display maximum columns and rows\n",
        "pd.set_option(\"display.max_columns\", None)\n",
        "pd.set_option(\"display.max_rows\", 60)\n",
        "\n",
        "# URL to churn data set\n",
        "url = 'https://raw.githubusercontent.com/bethdfuller/MSDA/main/D209/churn_clean.csv'\n",
        "\n",
        "# Read churn data set / use keep_default_na to correctly read InternetService value of None\n",
        "churndf = pd.read_csv(url, keep_default_na=False)"
      ],
      "metadata": {
        "id": "TRk8uf9ONcNU"
      },
      "execution_count": null,
      "outputs": []
    },
    {
      "cell_type": "code",
      "source": [
        "churndf.info()"
      ],
      "metadata": {
        "colab": {
          "base_uri": "https://localhost:8080/"
        },
        "id": "dNPpJo_zOz5P",
        "outputId": "f33ea48c-4650-464f-c933-706d826147fe"
      },
      "execution_count": null,
      "outputs": [
        {
          "output_type": "stream",
          "name": "stdout",
          "text": [
            "<class 'pandas.core.frame.DataFrame'>\n",
            "RangeIndex: 10000 entries, 0 to 9999\n",
            "Data columns (total 50 columns):\n",
            " #   Column                Non-Null Count  Dtype  \n",
            "---  ------                --------------  -----  \n",
            " 0   CaseOrder             10000 non-null  int64  \n",
            " 1   Customer_id           10000 non-null  object \n",
            " 2   Interaction           10000 non-null  object \n",
            " 3   UID                   10000 non-null  object \n",
            " 4   City                  10000 non-null  object \n",
            " 5   State                 10000 non-null  object \n",
            " 6   County                10000 non-null  object \n",
            " 7   Zip                   10000 non-null  int64  \n",
            " 8   Lat                   10000 non-null  float64\n",
            " 9   Lng                   10000 non-null  float64\n",
            " 10  Population            10000 non-null  int64  \n",
            " 11  Area                  10000 non-null  object \n",
            " 12  TimeZone              10000 non-null  object \n",
            " 13  Job                   10000 non-null  object \n",
            " 14  Children              10000 non-null  int64  \n",
            " 15  Age                   10000 non-null  int64  \n",
            " 16  Income                10000 non-null  float64\n",
            " 17  Marital               10000 non-null  object \n",
            " 18  Gender                10000 non-null  object \n",
            " 19  Churn                 10000 non-null  object \n",
            " 20  Outage_sec_perweek    10000 non-null  float64\n",
            " 21  Email                 10000 non-null  int64  \n",
            " 22  Contacts              10000 non-null  int64  \n",
            " 23  Yearly_equip_failure  10000 non-null  int64  \n",
            " 24  Techie                10000 non-null  object \n",
            " 25  Contract              10000 non-null  object \n",
            " 26  Port_modem            10000 non-null  object \n",
            " 27  Tablet                10000 non-null  object \n",
            " 28  InternetService       10000 non-null  object \n",
            " 29  Phone                 10000 non-null  object \n",
            " 30  Multiple              10000 non-null  object \n",
            " 31  OnlineSecurity        10000 non-null  object \n",
            " 32  OnlineBackup          10000 non-null  object \n",
            " 33  DeviceProtection      10000 non-null  object \n",
            " 34  TechSupport           10000 non-null  object \n",
            " 35  StreamingTV           10000 non-null  object \n",
            " 36  StreamingMovies       10000 non-null  object \n",
            " 37  PaperlessBilling      10000 non-null  object \n",
            " 38  PaymentMethod         10000 non-null  object \n",
            " 39  Tenure                10000 non-null  float64\n",
            " 40  MonthlyCharge         10000 non-null  float64\n",
            " 41  Bandwidth_GB_Year     10000 non-null  float64\n",
            " 42  Item1                 10000 non-null  int64  \n",
            " 43  Item2                 10000 non-null  int64  \n",
            " 44  Item3                 10000 non-null  int64  \n",
            " 45  Item4                 10000 non-null  int64  \n",
            " 46  Item5                 10000 non-null  int64  \n",
            " 47  Item6                 10000 non-null  int64  \n",
            " 48  Item7                 10000 non-null  int64  \n",
            " 49  Item8                 10000 non-null  int64  \n",
            "dtypes: float64(7), int64(16), object(27)\n",
            "memory usage: 3.8+ MB\n"
          ]
        }
      ]
    },
    {
      "cell_type": "markdown",
      "source": [
        "### C3: Drop Columns"
      ],
      "metadata": {
        "id": "oaLzIOzfOkBk"
      }
    },
    {
      "cell_type": "code",
      "execution_count": null,
      "metadata": {
        "id": "WZut-etDjZeb",
        "colab": {
          "base_uri": "https://localhost:8080/"
        },
        "outputId": "9e5616c0-9f5a-46b6-b559-6eaaf7f865b8"
      },
      "outputs": [
        {
          "output_type": "stream",
          "name": "stdout",
          "text": [
            "<class 'pandas.core.frame.DataFrame'>\n",
            "RangeIndex: 10000 entries, 0 to 9999\n",
            "Data columns (total 30 columns):\n",
            " #   Column                Non-Null Count  Dtype  \n",
            "---  ------                --------------  -----  \n",
            " 0   Customer_id           10000 non-null  object \n",
            " 1   Area                  10000 non-null  object \n",
            " 2   Children              10000 non-null  int64  \n",
            " 3   Age                   10000 non-null  int64  \n",
            " 4   Income                10000 non-null  float64\n",
            " 5   Marital               10000 non-null  object \n",
            " 6   Gender                10000 non-null  object \n",
            " 7   Churn                 10000 non-null  object \n",
            " 8   Outage_sec_perweek    10000 non-null  float64\n",
            " 9   Email                 10000 non-null  int64  \n",
            " 10  Contacts              10000 non-null  int64  \n",
            " 11  Yearly_equip_failure  10000 non-null  int64  \n",
            " 12  Techie                10000 non-null  object \n",
            " 13  Contract              10000 non-null  object \n",
            " 14  Port_modem            10000 non-null  object \n",
            " 15  Tablet                10000 non-null  object \n",
            " 16  InternetService       10000 non-null  object \n",
            " 17  Phone                 10000 non-null  object \n",
            " 18  Multiple              10000 non-null  object \n",
            " 19  OnlineSecurity        10000 non-null  object \n",
            " 20  OnlineBackup          10000 non-null  object \n",
            " 21  DeviceProtection      10000 non-null  object \n",
            " 22  TechSupport           10000 non-null  object \n",
            " 23  StreamingTV           10000 non-null  object \n",
            " 24  StreamingMovies       10000 non-null  object \n",
            " 25  PaperlessBilling      10000 non-null  object \n",
            " 26  PaymentMethod         10000 non-null  object \n",
            " 27  Tenure                10000 non-null  float64\n",
            " 28  MonthlyCharge         10000 non-null  float64\n",
            " 29  Bandwidth_GB_Year     10000 non-null  float64\n",
            "dtypes: float64(5), int64(5), object(20)\n",
            "memory usage: 2.3+ MB\n"
          ]
        }
      ],
      "source": [
        "# Columns to drop\n",
        "drop_columns = ['CaseOrder', 'Interaction', 'UID', 'City', 'State',\n",
        "                'County', 'Zip', 'Lat', 'Lng', 'Population', 'TimeZone', 'Job',\n",
        "                'Item1', 'Item2', 'Item3', 'Item4', 'Item5', 'Item6', 'Item7',\n",
        "                'Item8']\n",
        "\n",
        "# Drop columns\n",
        "\n",
        "churndf.drop(columns=drop_columns, inplace=True)\n",
        "\n",
        "churndf.info()"
      ]
    },
    {
      "cell_type": "markdown",
      "source": [
        "### C3: Missing Values"
      ],
      "metadata": {
        "id": "427ARzGCVZW6"
      }
    },
    {
      "cell_type": "code",
      "execution_count": null,
      "metadata": {
        "id": "koJ85ynhtDKp",
        "colab": {
          "base_uri": "https://localhost:8080/",
          "height": 1000
        },
        "outputId": "350f1db4-d011-4ecd-abe9-89f8fae2da96"
      },
      "outputs": [
        {
          "output_type": "execute_result",
          "data": {
            "text/plain": [
              "Customer_id             0\n",
              "Area                    0\n",
              "Children                0\n",
              "Age                     0\n",
              "Income                  0\n",
              "Marital                 0\n",
              "Gender                  0\n",
              "Churn                   0\n",
              "Outage_sec_perweek      0\n",
              "Email                   0\n",
              "Contacts                0\n",
              "Yearly_equip_failure    0\n",
              "Techie                  0\n",
              "Contract                0\n",
              "Port_modem              0\n",
              "Tablet                  0\n",
              "InternetService         0\n",
              "Phone                   0\n",
              "Multiple                0\n",
              "OnlineSecurity          0\n",
              "OnlineBackup            0\n",
              "DeviceProtection        0\n",
              "TechSupport             0\n",
              "StreamingTV             0\n",
              "StreamingMovies         0\n",
              "PaperlessBilling        0\n",
              "PaymentMethod           0\n",
              "Tenure                  0\n",
              "MonthlyCharge           0\n",
              "Bandwidth_GB_Year       0\n",
              "dtype: int64"
            ],
            "text/html": [
              "<div>\n",
              "<style scoped>\n",
              "    .dataframe tbody tr th:only-of-type {\n",
              "        vertical-align: middle;\n",
              "    }\n",
              "\n",
              "    .dataframe tbody tr th {\n",
              "        vertical-align: top;\n",
              "    }\n",
              "\n",
              "    .dataframe thead th {\n",
              "        text-align: right;\n",
              "    }\n",
              "</style>\n",
              "<table border=\"1\" class=\"dataframe\">\n",
              "  <thead>\n",
              "    <tr style=\"text-align: right;\">\n",
              "      <th></th>\n",
              "      <th>0</th>\n",
              "    </tr>\n",
              "  </thead>\n",
              "  <tbody>\n",
              "    <tr>\n",
              "      <th>Customer_id</th>\n",
              "      <td>0</td>\n",
              "    </tr>\n",
              "    <tr>\n",
              "      <th>Area</th>\n",
              "      <td>0</td>\n",
              "    </tr>\n",
              "    <tr>\n",
              "      <th>Children</th>\n",
              "      <td>0</td>\n",
              "    </tr>\n",
              "    <tr>\n",
              "      <th>Age</th>\n",
              "      <td>0</td>\n",
              "    </tr>\n",
              "    <tr>\n",
              "      <th>Income</th>\n",
              "      <td>0</td>\n",
              "    </tr>\n",
              "    <tr>\n",
              "      <th>Marital</th>\n",
              "      <td>0</td>\n",
              "    </tr>\n",
              "    <tr>\n",
              "      <th>Gender</th>\n",
              "      <td>0</td>\n",
              "    </tr>\n",
              "    <tr>\n",
              "      <th>Churn</th>\n",
              "      <td>0</td>\n",
              "    </tr>\n",
              "    <tr>\n",
              "      <th>Outage_sec_perweek</th>\n",
              "      <td>0</td>\n",
              "    </tr>\n",
              "    <tr>\n",
              "      <th>Email</th>\n",
              "      <td>0</td>\n",
              "    </tr>\n",
              "    <tr>\n",
              "      <th>Contacts</th>\n",
              "      <td>0</td>\n",
              "    </tr>\n",
              "    <tr>\n",
              "      <th>Yearly_equip_failure</th>\n",
              "      <td>0</td>\n",
              "    </tr>\n",
              "    <tr>\n",
              "      <th>Techie</th>\n",
              "      <td>0</td>\n",
              "    </tr>\n",
              "    <tr>\n",
              "      <th>Contract</th>\n",
              "      <td>0</td>\n",
              "    </tr>\n",
              "    <tr>\n",
              "      <th>Port_modem</th>\n",
              "      <td>0</td>\n",
              "    </tr>\n",
              "    <tr>\n",
              "      <th>Tablet</th>\n",
              "      <td>0</td>\n",
              "    </tr>\n",
              "    <tr>\n",
              "      <th>InternetService</th>\n",
              "      <td>0</td>\n",
              "    </tr>\n",
              "    <tr>\n",
              "      <th>Phone</th>\n",
              "      <td>0</td>\n",
              "    </tr>\n",
              "    <tr>\n",
              "      <th>Multiple</th>\n",
              "      <td>0</td>\n",
              "    </tr>\n",
              "    <tr>\n",
              "      <th>OnlineSecurity</th>\n",
              "      <td>0</td>\n",
              "    </tr>\n",
              "    <tr>\n",
              "      <th>OnlineBackup</th>\n",
              "      <td>0</td>\n",
              "    </tr>\n",
              "    <tr>\n",
              "      <th>DeviceProtection</th>\n",
              "      <td>0</td>\n",
              "    </tr>\n",
              "    <tr>\n",
              "      <th>TechSupport</th>\n",
              "      <td>0</td>\n",
              "    </tr>\n",
              "    <tr>\n",
              "      <th>StreamingTV</th>\n",
              "      <td>0</td>\n",
              "    </tr>\n",
              "    <tr>\n",
              "      <th>StreamingMovies</th>\n",
              "      <td>0</td>\n",
              "    </tr>\n",
              "    <tr>\n",
              "      <th>PaperlessBilling</th>\n",
              "      <td>0</td>\n",
              "    </tr>\n",
              "    <tr>\n",
              "      <th>PaymentMethod</th>\n",
              "      <td>0</td>\n",
              "    </tr>\n",
              "    <tr>\n",
              "      <th>Tenure</th>\n",
              "      <td>0</td>\n",
              "    </tr>\n",
              "    <tr>\n",
              "      <th>MonthlyCharge</th>\n",
              "      <td>0</td>\n",
              "    </tr>\n",
              "    <tr>\n",
              "      <th>Bandwidth_GB_Year</th>\n",
              "      <td>0</td>\n",
              "    </tr>\n",
              "  </tbody>\n",
              "</table>\n",
              "</div><br><label><b>dtype:</b> int64</label>"
            ]
          },
          "metadata": {},
          "execution_count": 4
        }
      ],
      "source": [
        "churndf.isnull().sum()"
      ]
    },
    {
      "cell_type": "markdown",
      "source": [
        "### C3: Duplicates"
      ],
      "metadata": {
        "id": "zI-CUGiDVfiY"
      }
    },
    {
      "cell_type": "code",
      "source": [
        "churndf.duplicated()"
      ],
      "metadata": {
        "colab": {
          "base_uri": "https://localhost:8080/",
          "height": 458
        },
        "id": "JA7bF4szVg7i",
        "outputId": "08f82eaf-2486-498a-8f97-3627d99213a6"
      },
      "execution_count": null,
      "outputs": [
        {
          "output_type": "execute_result",
          "data": {
            "text/plain": [
              "0       False\n",
              "1       False\n",
              "2       False\n",
              "3       False\n",
              "4       False\n",
              "        ...  \n",
              "9995    False\n",
              "9996    False\n",
              "9997    False\n",
              "9998    False\n",
              "9999    False\n",
              "Length: 10000, dtype: bool"
            ],
            "text/html": [
              "<div>\n",
              "<style scoped>\n",
              "    .dataframe tbody tr th:only-of-type {\n",
              "        vertical-align: middle;\n",
              "    }\n",
              "\n",
              "    .dataframe tbody tr th {\n",
              "        vertical-align: top;\n",
              "    }\n",
              "\n",
              "    .dataframe thead th {\n",
              "        text-align: right;\n",
              "    }\n",
              "</style>\n",
              "<table border=\"1\" class=\"dataframe\">\n",
              "  <thead>\n",
              "    <tr style=\"text-align: right;\">\n",
              "      <th></th>\n",
              "      <th>0</th>\n",
              "    </tr>\n",
              "  </thead>\n",
              "  <tbody>\n",
              "    <tr>\n",
              "      <th>0</th>\n",
              "      <td>False</td>\n",
              "    </tr>\n",
              "    <tr>\n",
              "      <th>1</th>\n",
              "      <td>False</td>\n",
              "    </tr>\n",
              "    <tr>\n",
              "      <th>2</th>\n",
              "      <td>False</td>\n",
              "    </tr>\n",
              "    <tr>\n",
              "      <th>3</th>\n",
              "      <td>False</td>\n",
              "    </tr>\n",
              "    <tr>\n",
              "      <th>4</th>\n",
              "      <td>False</td>\n",
              "    </tr>\n",
              "    <tr>\n",
              "      <th>...</th>\n",
              "      <td>...</td>\n",
              "    </tr>\n",
              "    <tr>\n",
              "      <th>9995</th>\n",
              "      <td>False</td>\n",
              "    </tr>\n",
              "    <tr>\n",
              "      <th>9996</th>\n",
              "      <td>False</td>\n",
              "    </tr>\n",
              "    <tr>\n",
              "      <th>9997</th>\n",
              "      <td>False</td>\n",
              "    </tr>\n",
              "    <tr>\n",
              "      <th>9998</th>\n",
              "      <td>False</td>\n",
              "    </tr>\n",
              "    <tr>\n",
              "      <th>9999</th>\n",
              "      <td>False</td>\n",
              "    </tr>\n",
              "  </tbody>\n",
              "</table>\n",
              "<p>10000 rows × 1 columns</p>\n",
              "</div><br><label><b>dtype:</b> bool</label>"
            ]
          },
          "metadata": {},
          "execution_count": 5
        }
      ]
    },
    {
      "cell_type": "code",
      "source": [
        "churndf.duplicated().value_counts()"
      ],
      "metadata": {
        "colab": {
          "base_uri": "https://localhost:8080/",
          "height": 115
        },
        "id": "mXCNM8OCVrG0",
        "outputId": "c8c456c6-0d69-44e3-8105-f37da055c130"
      },
      "execution_count": null,
      "outputs": [
        {
          "output_type": "execute_result",
          "data": {
            "text/plain": [
              "False    10000\n",
              "Name: count, dtype: int64"
            ],
            "text/html": [
              "<div>\n",
              "<style scoped>\n",
              "    .dataframe tbody tr th:only-of-type {\n",
              "        vertical-align: middle;\n",
              "    }\n",
              "\n",
              "    .dataframe tbody tr th {\n",
              "        vertical-align: top;\n",
              "    }\n",
              "\n",
              "    .dataframe thead th {\n",
              "        text-align: right;\n",
              "    }\n",
              "</style>\n",
              "<table border=\"1\" class=\"dataframe\">\n",
              "  <thead>\n",
              "    <tr style=\"text-align: right;\">\n",
              "      <th></th>\n",
              "      <th>count</th>\n",
              "    </tr>\n",
              "  </thead>\n",
              "  <tbody>\n",
              "    <tr>\n",
              "      <th>False</th>\n",
              "      <td>10000</td>\n",
              "    </tr>\n",
              "  </tbody>\n",
              "</table>\n",
              "</div><br><label><b>dtype:</b> int64</label>"
            ]
          },
          "metadata": {},
          "execution_count": 6
        }
      ]
    },
    {
      "cell_type": "markdown",
      "source": [
        "### C3: Outliers"
      ],
      "metadata": {
        "id": "WQXRaO29V2Jg"
      }
    },
    {
      "cell_type": "code",
      "source": [
        "churndf.describe()"
      ],
      "metadata": {
        "colab": {
          "base_uri": "https://localhost:8080/",
          "height": 320
        },
        "id": "Hxb4ov8RV3_t",
        "outputId": "54c1a378-39bd-41be-cb57-e5a53babe0be"
      },
      "execution_count": null,
      "outputs": [
        {
          "output_type": "execute_result",
          "data": {
            "text/plain": [
              "         Children           Age         Income  Outage_sec_perweek  \\\n",
              "count  10000.0000  10000.000000   10000.000000        10000.000000   \n",
              "mean       2.0877     53.078400   39806.926771           10.001848   \n",
              "std        2.1472     20.698882   28199.916702            2.976019   \n",
              "min        0.0000     18.000000     348.670000            0.099747   \n",
              "25%        0.0000     35.000000   19224.717500            8.018214   \n",
              "50%        1.0000     53.000000   33170.605000           10.018560   \n",
              "75%        3.0000     71.000000   53246.170000           11.969485   \n",
              "max       10.0000     89.000000  258900.700000           21.207230   \n",
              "\n",
              "              Email      Contacts  Yearly_equip_failure        Tenure  \\\n",
              "count  10000.000000  10000.000000          10000.000000  10000.000000   \n",
              "mean      12.016000      0.994200              0.398000     34.526188   \n",
              "std        3.025898      0.988466              0.635953     26.443063   \n",
              "min        1.000000      0.000000              0.000000      1.000259   \n",
              "25%       10.000000      0.000000              0.000000      7.917694   \n",
              "50%       12.000000      1.000000              0.000000     35.430507   \n",
              "75%       14.000000      2.000000              1.000000     61.479795   \n",
              "max       23.000000      7.000000              6.000000     71.999280   \n",
              "\n",
              "       MonthlyCharge  Bandwidth_GB_Year  \n",
              "count   10000.000000       10000.000000  \n",
              "mean      172.624816        3392.341550  \n",
              "std        42.943094        2185.294852  \n",
              "min        79.978860         155.506715  \n",
              "25%       139.979239        1236.470827  \n",
              "50%       167.484700        3279.536903  \n",
              "75%       200.734725        5586.141370  \n",
              "max       290.160419        7158.981530  "
            ],
            "text/html": [
              "\n",
              "  <div id=\"df-2327fa0a-f9e6-4896-8225-59263631e6c2\" class=\"colab-df-container\">\n",
              "    <div>\n",
              "<style scoped>\n",
              "    .dataframe tbody tr th:only-of-type {\n",
              "        vertical-align: middle;\n",
              "    }\n",
              "\n",
              "    .dataframe tbody tr th {\n",
              "        vertical-align: top;\n",
              "    }\n",
              "\n",
              "    .dataframe thead th {\n",
              "        text-align: right;\n",
              "    }\n",
              "</style>\n",
              "<table border=\"1\" class=\"dataframe\">\n",
              "  <thead>\n",
              "    <tr style=\"text-align: right;\">\n",
              "      <th></th>\n",
              "      <th>Children</th>\n",
              "      <th>Age</th>\n",
              "      <th>Income</th>\n",
              "      <th>Outage_sec_perweek</th>\n",
              "      <th>Email</th>\n",
              "      <th>Contacts</th>\n",
              "      <th>Yearly_equip_failure</th>\n",
              "      <th>Tenure</th>\n",
              "      <th>MonthlyCharge</th>\n",
              "      <th>Bandwidth_GB_Year</th>\n",
              "    </tr>\n",
              "  </thead>\n",
              "  <tbody>\n",
              "    <tr>\n",
              "      <th>count</th>\n",
              "      <td>10000.0000</td>\n",
              "      <td>10000.000000</td>\n",
              "      <td>10000.000000</td>\n",
              "      <td>10000.000000</td>\n",
              "      <td>10000.000000</td>\n",
              "      <td>10000.000000</td>\n",
              "      <td>10000.000000</td>\n",
              "      <td>10000.000000</td>\n",
              "      <td>10000.000000</td>\n",
              "      <td>10000.000000</td>\n",
              "    </tr>\n",
              "    <tr>\n",
              "      <th>mean</th>\n",
              "      <td>2.0877</td>\n",
              "      <td>53.078400</td>\n",
              "      <td>39806.926771</td>\n",
              "      <td>10.001848</td>\n",
              "      <td>12.016000</td>\n",
              "      <td>0.994200</td>\n",
              "      <td>0.398000</td>\n",
              "      <td>34.526188</td>\n",
              "      <td>172.624816</td>\n",
              "      <td>3392.341550</td>\n",
              "    </tr>\n",
              "    <tr>\n",
              "      <th>std</th>\n",
              "      <td>2.1472</td>\n",
              "      <td>20.698882</td>\n",
              "      <td>28199.916702</td>\n",
              "      <td>2.976019</td>\n",
              "      <td>3.025898</td>\n",
              "      <td>0.988466</td>\n",
              "      <td>0.635953</td>\n",
              "      <td>26.443063</td>\n",
              "      <td>42.943094</td>\n",
              "      <td>2185.294852</td>\n",
              "    </tr>\n",
              "    <tr>\n",
              "      <th>min</th>\n",
              "      <td>0.0000</td>\n",
              "      <td>18.000000</td>\n",
              "      <td>348.670000</td>\n",
              "      <td>0.099747</td>\n",
              "      <td>1.000000</td>\n",
              "      <td>0.000000</td>\n",
              "      <td>0.000000</td>\n",
              "      <td>1.000259</td>\n",
              "      <td>79.978860</td>\n",
              "      <td>155.506715</td>\n",
              "    </tr>\n",
              "    <tr>\n",
              "      <th>25%</th>\n",
              "      <td>0.0000</td>\n",
              "      <td>35.000000</td>\n",
              "      <td>19224.717500</td>\n",
              "      <td>8.018214</td>\n",
              "      <td>10.000000</td>\n",
              "      <td>0.000000</td>\n",
              "      <td>0.000000</td>\n",
              "      <td>7.917694</td>\n",
              "      <td>139.979239</td>\n",
              "      <td>1236.470827</td>\n",
              "    </tr>\n",
              "    <tr>\n",
              "      <th>50%</th>\n",
              "      <td>1.0000</td>\n",
              "      <td>53.000000</td>\n",
              "      <td>33170.605000</td>\n",
              "      <td>10.018560</td>\n",
              "      <td>12.000000</td>\n",
              "      <td>1.000000</td>\n",
              "      <td>0.000000</td>\n",
              "      <td>35.430507</td>\n",
              "      <td>167.484700</td>\n",
              "      <td>3279.536903</td>\n",
              "    </tr>\n",
              "    <tr>\n",
              "      <th>75%</th>\n",
              "      <td>3.0000</td>\n",
              "      <td>71.000000</td>\n",
              "      <td>53246.170000</td>\n",
              "      <td>11.969485</td>\n",
              "      <td>14.000000</td>\n",
              "      <td>2.000000</td>\n",
              "      <td>1.000000</td>\n",
              "      <td>61.479795</td>\n",
              "      <td>200.734725</td>\n",
              "      <td>5586.141370</td>\n",
              "    </tr>\n",
              "    <tr>\n",
              "      <th>max</th>\n",
              "      <td>10.0000</td>\n",
              "      <td>89.000000</td>\n",
              "      <td>258900.700000</td>\n",
              "      <td>21.207230</td>\n",
              "      <td>23.000000</td>\n",
              "      <td>7.000000</td>\n",
              "      <td>6.000000</td>\n",
              "      <td>71.999280</td>\n",
              "      <td>290.160419</td>\n",
              "      <td>7158.981530</td>\n",
              "    </tr>\n",
              "  </tbody>\n",
              "</table>\n",
              "</div>\n",
              "    <div class=\"colab-df-buttons\">\n",
              "\n",
              "  <div class=\"colab-df-container\">\n",
              "    <button class=\"colab-df-convert\" onclick=\"convertToInteractive('df-2327fa0a-f9e6-4896-8225-59263631e6c2')\"\n",
              "            title=\"Convert this dataframe to an interactive table.\"\n",
              "            style=\"display:none;\">\n",
              "\n",
              "  <svg xmlns=\"http://www.w3.org/2000/svg\" height=\"24px\" viewBox=\"0 -960 960 960\">\n",
              "    <path d=\"M120-120v-720h720v720H120Zm60-500h600v-160H180v160Zm220 220h160v-160H400v160Zm0 220h160v-160H400v160ZM180-400h160v-160H180v160Zm440 0h160v-160H620v160ZM180-180h160v-160H180v160Zm440 0h160v-160H620v160Z\"/>\n",
              "  </svg>\n",
              "    </button>\n",
              "\n",
              "  <style>\n",
              "    .colab-df-container {\n",
              "      display:flex;\n",
              "      gap: 12px;\n",
              "    }\n",
              "\n",
              "    .colab-df-convert {\n",
              "      background-color: #E8F0FE;\n",
              "      border: none;\n",
              "      border-radius: 50%;\n",
              "      cursor: pointer;\n",
              "      display: none;\n",
              "      fill: #1967D2;\n",
              "      height: 32px;\n",
              "      padding: 0 0 0 0;\n",
              "      width: 32px;\n",
              "    }\n",
              "\n",
              "    .colab-df-convert:hover {\n",
              "      background-color: #E2EBFA;\n",
              "      box-shadow: 0px 1px 2px rgba(60, 64, 67, 0.3), 0px 1px 3px 1px rgba(60, 64, 67, 0.15);\n",
              "      fill: #174EA6;\n",
              "    }\n",
              "\n",
              "    .colab-df-buttons div {\n",
              "      margin-bottom: 4px;\n",
              "    }\n",
              "\n",
              "    [theme=dark] .colab-df-convert {\n",
              "      background-color: #3B4455;\n",
              "      fill: #D2E3FC;\n",
              "    }\n",
              "\n",
              "    [theme=dark] .colab-df-convert:hover {\n",
              "      background-color: #434B5C;\n",
              "      box-shadow: 0px 1px 3px 1px rgba(0, 0, 0, 0.15);\n",
              "      filter: drop-shadow(0px 1px 2px rgba(0, 0, 0, 0.3));\n",
              "      fill: #FFFFFF;\n",
              "    }\n",
              "  </style>\n",
              "\n",
              "    <script>\n",
              "      const buttonEl =\n",
              "        document.querySelector('#df-2327fa0a-f9e6-4896-8225-59263631e6c2 button.colab-df-convert');\n",
              "      buttonEl.style.display =\n",
              "        google.colab.kernel.accessAllowed ? 'block' : 'none';\n",
              "\n",
              "      async function convertToInteractive(key) {\n",
              "        const element = document.querySelector('#df-2327fa0a-f9e6-4896-8225-59263631e6c2');\n",
              "        const dataTable =\n",
              "          await google.colab.kernel.invokeFunction('convertToInteractive',\n",
              "                                                    [key], {});\n",
              "        if (!dataTable) return;\n",
              "\n",
              "        const docLinkHtml = 'Like what you see? Visit the ' +\n",
              "          '<a target=\"_blank\" href=https://colab.research.google.com/notebooks/data_table.ipynb>data table notebook</a>'\n",
              "          + ' to learn more about interactive tables.';\n",
              "        element.innerHTML = '';\n",
              "        dataTable['output_type'] = 'display_data';\n",
              "        await google.colab.output.renderOutput(dataTable, element);\n",
              "        const docLink = document.createElement('div');\n",
              "        docLink.innerHTML = docLinkHtml;\n",
              "        element.appendChild(docLink);\n",
              "      }\n",
              "    </script>\n",
              "  </div>\n",
              "\n",
              "\n",
              "<div id=\"df-72240273-ebdd-4279-bbb9-2d2a7f677c8d\">\n",
              "  <button class=\"colab-df-quickchart\" onclick=\"quickchart('df-72240273-ebdd-4279-bbb9-2d2a7f677c8d')\"\n",
              "            title=\"Suggest charts\"\n",
              "            style=\"display:none;\">\n",
              "\n",
              "<svg xmlns=\"http://www.w3.org/2000/svg\" height=\"24px\"viewBox=\"0 0 24 24\"\n",
              "     width=\"24px\">\n",
              "    <g>\n",
              "        <path d=\"M19 3H5c-1.1 0-2 .9-2 2v14c0 1.1.9 2 2 2h14c1.1 0 2-.9 2-2V5c0-1.1-.9-2-2-2zM9 17H7v-7h2v7zm4 0h-2V7h2v10zm4 0h-2v-4h2v4z\"/>\n",
              "    </g>\n",
              "</svg>\n",
              "  </button>\n",
              "\n",
              "<style>\n",
              "  .colab-df-quickchart {\n",
              "      --bg-color: #E8F0FE;\n",
              "      --fill-color: #1967D2;\n",
              "      --hover-bg-color: #E2EBFA;\n",
              "      --hover-fill-color: #174EA6;\n",
              "      --disabled-fill-color: #AAA;\n",
              "      --disabled-bg-color: #DDD;\n",
              "  }\n",
              "\n",
              "  [theme=dark] .colab-df-quickchart {\n",
              "      --bg-color: #3B4455;\n",
              "      --fill-color: #D2E3FC;\n",
              "      --hover-bg-color: #434B5C;\n",
              "      --hover-fill-color: #FFFFFF;\n",
              "      --disabled-bg-color: #3B4455;\n",
              "      --disabled-fill-color: #666;\n",
              "  }\n",
              "\n",
              "  .colab-df-quickchart {\n",
              "    background-color: var(--bg-color);\n",
              "    border: none;\n",
              "    border-radius: 50%;\n",
              "    cursor: pointer;\n",
              "    display: none;\n",
              "    fill: var(--fill-color);\n",
              "    height: 32px;\n",
              "    padding: 0;\n",
              "    width: 32px;\n",
              "  }\n",
              "\n",
              "  .colab-df-quickchart:hover {\n",
              "    background-color: var(--hover-bg-color);\n",
              "    box-shadow: 0 1px 2px rgba(60, 64, 67, 0.3), 0 1px 3px 1px rgba(60, 64, 67, 0.15);\n",
              "    fill: var(--button-hover-fill-color);\n",
              "  }\n",
              "\n",
              "  .colab-df-quickchart-complete:disabled,\n",
              "  .colab-df-quickchart-complete:disabled:hover {\n",
              "    background-color: var(--disabled-bg-color);\n",
              "    fill: var(--disabled-fill-color);\n",
              "    box-shadow: none;\n",
              "  }\n",
              "\n",
              "  .colab-df-spinner {\n",
              "    border: 2px solid var(--fill-color);\n",
              "    border-color: transparent;\n",
              "    border-bottom-color: var(--fill-color);\n",
              "    animation:\n",
              "      spin 1s steps(1) infinite;\n",
              "  }\n",
              "\n",
              "  @keyframes spin {\n",
              "    0% {\n",
              "      border-color: transparent;\n",
              "      border-bottom-color: var(--fill-color);\n",
              "      border-left-color: var(--fill-color);\n",
              "    }\n",
              "    20% {\n",
              "      border-color: transparent;\n",
              "      border-left-color: var(--fill-color);\n",
              "      border-top-color: var(--fill-color);\n",
              "    }\n",
              "    30% {\n",
              "      border-color: transparent;\n",
              "      border-left-color: var(--fill-color);\n",
              "      border-top-color: var(--fill-color);\n",
              "      border-right-color: var(--fill-color);\n",
              "    }\n",
              "    40% {\n",
              "      border-color: transparent;\n",
              "      border-right-color: var(--fill-color);\n",
              "      border-top-color: var(--fill-color);\n",
              "    }\n",
              "    60% {\n",
              "      border-color: transparent;\n",
              "      border-right-color: var(--fill-color);\n",
              "    }\n",
              "    80% {\n",
              "      border-color: transparent;\n",
              "      border-right-color: var(--fill-color);\n",
              "      border-bottom-color: var(--fill-color);\n",
              "    }\n",
              "    90% {\n",
              "      border-color: transparent;\n",
              "      border-bottom-color: var(--fill-color);\n",
              "    }\n",
              "  }\n",
              "</style>\n",
              "\n",
              "  <script>\n",
              "    async function quickchart(key) {\n",
              "      const quickchartButtonEl =\n",
              "        document.querySelector('#' + key + ' button');\n",
              "      quickchartButtonEl.disabled = true;  // To prevent multiple clicks.\n",
              "      quickchartButtonEl.classList.add('colab-df-spinner');\n",
              "      try {\n",
              "        const charts = await google.colab.kernel.invokeFunction(\n",
              "            'suggestCharts', [key], {});\n",
              "      } catch (error) {\n",
              "        console.error('Error during call to suggestCharts:', error);\n",
              "      }\n",
              "      quickchartButtonEl.classList.remove('colab-df-spinner');\n",
              "      quickchartButtonEl.classList.add('colab-df-quickchart-complete');\n",
              "    }\n",
              "    (() => {\n",
              "      let quickchartButtonEl =\n",
              "        document.querySelector('#df-72240273-ebdd-4279-bbb9-2d2a7f677c8d button');\n",
              "      quickchartButtonEl.style.display =\n",
              "        google.colab.kernel.accessAllowed ? 'block' : 'none';\n",
              "    })();\n",
              "  </script>\n",
              "</div>\n",
              "\n",
              "    </div>\n",
              "  </div>\n"
            ],
            "application/vnd.google.colaboratory.intrinsic+json": {
              "type": "dataframe",
              "summary": "{\n  \"name\": \"churndf\",\n  \"rows\": 8,\n  \"fields\": [\n    {\n      \"column\": \"Children\",\n      \"properties\": {\n        \"dtype\": \"number\",\n        \"std\": 3534.6143486119786,\n        \"min\": 0.0,\n        \"max\": 10000.0,\n        \"num_unique_values\": 7,\n        \"samples\": [\n          10000.0,\n          2.0877,\n          3.0\n        ],\n        \"semantic_type\": \"\",\n        \"description\": \"\"\n      }\n    },\n    {\n      \"column\": \"Age\",\n      \"properties\": {\n        \"dtype\": \"number\",\n        \"std\": 3518.455251166197,\n        \"min\": 18.0,\n        \"max\": 10000.0,\n        \"num_unique_values\": 8,\n        \"samples\": [\n          53.0784,\n          53.0,\n          10000.0\n        ],\n        \"semantic_type\": \"\",\n        \"description\": \"\"\n      }\n    },\n    {\n      \"column\": \"Income\",\n      \"properties\": {\n        \"dtype\": \"number\",\n        \"std\": 83917.26957154111,\n        \"min\": 348.67,\n        \"max\": 258900.7,\n        \"num_unique_values\": 8,\n        \"samples\": [\n          39806.926771,\n          33170.604999999996,\n          10000.0\n        ],\n        \"semantic_type\": \"\",\n        \"description\": \"\"\n      }\n    },\n    {\n      \"column\": \"Outage_sec_perweek\",\n      \"properties\": {\n        \"dtype\": \"number\",\n        \"std\": 3532.292298122366,\n        \"min\": 0.09974694,\n        \"max\": 10000.0,\n        \"num_unique_values\": 8,\n        \"samples\": [\n          10.0018481577654,\n          10.01856,\n          10000.0\n        ],\n        \"semantic_type\": \"\",\n        \"description\": \"\"\n      }\n    },\n    {\n      \"column\": \"Email\",\n      \"properties\": {\n        \"dtype\": \"number\",\n        \"std\": 3531.7501708306095,\n        \"min\": 1.0,\n        \"max\": 10000.0,\n        \"num_unique_values\": 8,\n        \"samples\": [\n          12.016,\n          12.0,\n          10000.0\n        ],\n        \"semantic_type\": \"\",\n        \"description\": \"\"\n      }\n    },\n    {\n      \"column\": \"Contacts\",\n      \"properties\": {\n        \"dtype\": \"number\",\n        \"std\": 3534.929406320507,\n        \"min\": 0.0,\n        \"max\": 10000.0,\n        \"num_unique_values\": 7,\n        \"samples\": [\n          10000.0,\n          0.9942,\n          2.0\n        ],\n        \"semantic_type\": \"\",\n        \"description\": \"\"\n      }\n    },\n    {\n      \"column\": \"Yearly_equip_failure\",\n      \"properties\": {\n        \"dtype\": \"number\",\n        \"std\": 3535.128702685314,\n        \"min\": 0.0,\n        \"max\": 10000.0,\n        \"num_unique_values\": 6,\n        \"samples\": [\n          10000.0,\n          0.398,\n          6.0\n        ],\n        \"semantic_type\": \"\",\n        \"description\": \"\"\n      }\n    },\n    {\n      \"column\": \"Tenure\",\n      \"properties\": {\n        \"dtype\": \"number\",\n        \"std\": 3523.554496197971,\n        \"min\": 1.00025934,\n        \"max\": 10000.0,\n        \"num_unique_values\": 8,\n        \"samples\": [\n          34.5261880889938,\n          35.430506995,\n          10000.0\n        ],\n        \"semantic_type\": \"\",\n        \"description\": \"\"\n      }\n    },\n    {\n      \"column\": \"MonthlyCharge\",\n      \"properties\": {\n        \"dtype\": \"number\",\n        \"std\": 3481.0882838546563,\n        \"min\": 42.94309410754456,\n        \"max\": 10000.0,\n        \"num_unique_values\": 8,\n        \"samples\": [\n          172.6248162079,\n          167.4847,\n          10000.0\n        ],\n        \"semantic_type\": \"\",\n        \"description\": \"\"\n      }\n    },\n    {\n      \"column\": \"Bandwidth_GB_Year\",\n      \"properties\": {\n        \"dtype\": \"number\",\n        \"std\": 3272.616449187469,\n        \"min\": 155.5067148,\n        \"max\": 10000.0,\n        \"num_unique_values\": 8,\n        \"samples\": [\n          3392.34154973529,\n          3279.536903,\n          10000.0\n        ],\n        \"semantic_type\": \"\",\n        \"description\": \"\"\n      }\n    }\n  ]\n}"
            }
          },
          "metadata": {},
          "execution_count": 7
        }
      ]
    },
    {
      "cell_type": "code",
      "execution_count": null,
      "metadata": {
        "id": "t9YrC6RulBpY",
        "colab": {
          "base_uri": "https://localhost:8080/",
          "height": 404
        },
        "outputId": "99134897-aef2-4698-be6c-4ee8d5641279"
      },
      "outputs": [
        {
          "output_type": "display_data",
          "data": {
            "text/plain": [
              "<Figure size 4000x1500 with 10 Axes>"
            ],
            "image/png": "[encoded data removed]"
          },
          "metadata": {}
        }
      ],
      "source": [
        "# Boxplots to view variable outliers\n",
        "\n",
        "churndf.plot(\n",
        "    kind='box',\n",
        "    subplots=True,\n",
        "    sharey=False,\n",
        "    figsize=(40, 15)\n",
        ")\n",
        "\n",
        "plt.subplots_adjust(wspace=0.7)\n",
        "plt.show()"
      ]
    },
    {
      "cell_type": "markdown",
      "source": [
        "### C3: Data Transformation"
      ],
      "metadata": {
        "id": "0ufZoUOuWDdP"
      }
    },
    {
      "cell_type": "code",
      "source": [
        "churndf_e = pd.get_dummies(churndf, columns=['Churn', 'Techie', 'Port_modem', 'Tablet', 'Phone', 'Multiple', 'OnlineSecurity',\n",
        "                                             'OnlineBackup', 'DeviceProtection', 'TechSupport', 'StreamingTV', 'StreamingMovies',\n",
        "                                             'PaperlessBilling'], drop_first=True)\n",
        "\n",
        "churndf_e = pd.get_dummies(churndf_e, columns=['Area', 'Marital', 'Gender', 'InternetService', 'PaymentMethod', 'Contract'], drop_first=False)\n",
        "\n",
        "churndf_e.info()\n",
        "churndf_e.head()"
      ],
      "metadata": {
        "colab": {
          "base_uri": "https://localhost:8080/",
          "height": 1000
        },
        "id": "XC61fYPfws32",
        "outputId": "19e2932e-3026-4afd-ff32-6db790e6e0ec"
      },
      "execution_count": null,
      "outputs": [
        {
          "output_type": "stream",
          "name": "stdout",
          "text": [
            "<class 'pandas.core.frame.DataFrame'>\n",
            "RangeIndex: 10000 entries, 0 to 9999\n",
            "Data columns (total 45 columns):\n",
            " #   Column                                  Non-Null Count  Dtype  \n",
            "---  ------                                  --------------  -----  \n",
            " 0   Customer_id                             10000 non-null  object \n",
            " 1   Children                                10000 non-null  int64  \n",
            " 2   Age                                     10000 non-null  int64  \n",
            " 3   Income                                  10000 non-null  float64\n",
            " 4   Outage_sec_perweek                      10000 non-null  float64\n",
            " 5   Email                                   10000 non-null  int64  \n",
            " 6   Contacts                                10000 non-null  int64  \n",
            " 7   Yearly_equip_failure                    10000 non-null  int64  \n",
            " 8   Tenure                                  10000 non-null  float64\n",
            " 9   MonthlyCharge                           10000 non-null  float64\n",
            " 10  Bandwidth_GB_Year                       10000 non-null  float64\n",
            " 11  Churn_Yes                               10000 non-null  bool   \n",
            " 12  Techie_Yes                              10000 non-null  bool   \n",
            " 13  Port_modem_Yes                          10000 non-null  bool   \n",
            " 14  Tablet_Yes                              10000 non-null  bool   \n",
            " 15  Phone_Yes                               10000 non-null  bool   \n",
            " 16  Multiple_Yes                            10000 non-null  bool   \n",
            " 17  OnlineSecurity_Yes                      10000 non-null  bool   \n",
            " 18  OnlineBackup_Yes                        10000 non-null  bool   \n",
            " 19  DeviceProtection_Yes                    10000 non-null  bool   \n",
            " 20  TechSupport_Yes                         10000 non-null  bool   \n",
            " 21  StreamingTV_Yes                         10000 non-null  bool   \n",
            " 22  StreamingMovies_Yes                     10000 non-null  bool   \n",
            " 23  PaperlessBilling_Yes                    10000 non-null  bool   \n",
            " 24  Area_Rural                              10000 non-null  bool   \n",
            " 25  Area_Suburban                           10000 non-null  bool   \n",
            " 26  Area_Urban                              10000 non-null  bool   \n",
            " 27  Marital_Divorced                        10000 non-null  bool   \n",
            " 28  Marital_Married                         10000 non-null  bool   \n",
            " 29  Marital_Never Married                   10000 non-null  bool   \n",
            " 30  Marital_Separated                       10000 non-null  bool   \n",
            " 31  Marital_Widowed                         10000 non-null  bool   \n",
            " 32  Gender_Female                           10000 non-null  bool   \n",
            " 33  Gender_Male                             10000 non-null  bool   \n",
            " 34  Gender_Nonbinary                        10000 non-null  bool   \n",
            " 35  InternetService_DSL                     10000 non-null  bool   \n",
            " 36  InternetService_Fiber Optic             10000 non-null  bool   \n",
            " 37  InternetService_None                    10000 non-null  bool   \n",
            " 38  PaymentMethod_Bank Transfer(automatic)  10000 non-null  bool   \n",
            " 39  PaymentMethod_Credit Card (automatic)   10000 non-null  bool   \n",
            " 40  PaymentMethod_Electronic Check          10000 non-null  bool   \n",
            " 41  PaymentMethod_Mailed Check              10000 non-null  bool   \n",
            " 42  Contract_Month-to-month                 10000 non-null  bool   \n",
            " 43  Contract_One year                       10000 non-null  bool   \n",
            " 44  Contract_Two Year                       10000 non-null  bool   \n",
            "dtypes: bool(34), float64(5), int64(5), object(1)\n",
            "memory usage: 1.2+ MB\n"
          ]
        },
        {
          "output_type": "execute_result",
          "data": {
            "text/plain": [
              "  Customer_id  Children  Age    Income  Outage_sec_perweek  Email  Contacts  \\\n",
              "0     K409198         0   68  28561.99            7.978323     10         0   \n",
              "1     S120509         1   27  21704.77           11.699080     12         0   \n",
              "2     K191035         4   50   9609.57           10.752800      9         0   \n",
              "3      D90850         1   48  18925.23           14.913540     15         2   \n",
              "4     K662701         0   83  40074.19            8.147417     16         2   \n",
              "\n",
              "   Yearly_equip_failure     Tenure  MonthlyCharge  Bandwidth_GB_Year  \\\n",
              "0                     1   6.795513     172.455519         904.536110   \n",
              "1                     1   1.156681     242.632554         800.982766   \n",
              "2                     1  15.754144     159.947583        2054.706961   \n",
              "3                     0  17.087227     119.956840        2164.579412   \n",
              "4                     1   1.670972     149.948316         271.493436   \n",
              "\n",
              "   Churn_Yes  Techie_Yes  Port_modem_Yes  Tablet_Yes  Phone_Yes  Multiple_Yes  \\\n",
              "0      False       False            True        True       True         False   \n",
              "1       True        True           False        True       True          True   \n",
              "2      False        True            True       False       True          True   \n",
              "3      False        True           False       False       True         False   \n",
              "4       True       False            True       False      False         False   \n",
              "\n",
              "   OnlineSecurity_Yes  OnlineBackup_Yes  DeviceProtection_Yes  \\\n",
              "0                True              True                 False   \n",
              "1                True             False                 False   \n",
              "2               False             False                 False   \n",
              "3                True             False                 False   \n",
              "4               False             False                 False   \n",
              "\n",
              "   TechSupport_Yes  StreamingTV_Yes  StreamingMovies_Yes  \\\n",
              "0            False            False                 True   \n",
              "1            False             True                 True   \n",
              "2            False            False                 True   \n",
              "3            False             True                False   \n",
              "4             True             True                False   \n",
              "\n",
              "   PaperlessBilling_Yes  Area_Rural  Area_Suburban  Area_Urban  \\\n",
              "0                  True       False          False        True   \n",
              "1                  True       False          False        True   \n",
              "2                  True       False          False        True   \n",
              "3                  True       False           True       False   \n",
              "4                 False       False           True       False   \n",
              "\n",
              "   Marital_Divorced  Marital_Married  Marital_Never Married  \\\n",
              "0             False            False                  False   \n",
              "1             False             True                  False   \n",
              "2             False            False                  False   \n",
              "3             False             True                  False   \n",
              "4             False            False                  False   \n",
              "\n",
              "   Marital_Separated  Marital_Widowed  Gender_Female  Gender_Male  \\\n",
              "0              False             True          False         True   \n",
              "1              False            False           True        False   \n",
              "2              False             True           True        False   \n",
              "3              False            False          False         True   \n",
              "4               True            False          False         True   \n",
              "\n",
              "   Gender_Nonbinary  InternetService_DSL  InternetService_Fiber Optic  \\\n",
              "0             False                False                         True   \n",
              "1             False                False                         True   \n",
              "2             False                 True                        False   \n",
              "3             False                 True                        False   \n",
              "4             False                False                         True   \n",
              "\n",
              "   InternetService_None  PaymentMethod_Bank Transfer(automatic)  \\\n",
              "0                 False                                   False   \n",
              "1                 False                                    True   \n",
              "2                 False                                   False   \n",
              "3                 False                                   False   \n",
              "4                 False                                   False   \n",
              "\n",
              "   PaymentMethod_Credit Card (automatic)  PaymentMethod_Electronic Check  \\\n",
              "0                                   True                           False   \n",
              "1                                  False                           False   \n",
              "2                                   True                           False   \n",
              "3                                  False                           False   \n",
              "4                                  False                           False   \n",
              "\n",
              "   PaymentMethod_Mailed Check  Contract_Month-to-month  Contract_One year  \\\n",
              "0                       False                    False               True   \n",
              "1                       False                     True              False   \n",
              "2                       False                    False              False   \n",
              "3                        True                    False              False   \n",
              "4                        True                     True              False   \n",
              "\n",
              "   Contract_Two Year  \n",
              "0              False  \n",
              "1              False  \n",
              "2               True  \n",
              "3               True  \n",
              "4              False  "
            ],
            "text/html": [
              "\n",
              "  <div id=\"df-1940e616-442d-4768-af01-6820287f5b8b\" class=\"colab-df-container\">\n",
              "    <div>\n",
              "<style scoped>\n",
              "    .dataframe tbody tr th:only-of-type {\n",
              "        vertical-align: middle;\n",
              "    }\n",
              "\n",
              "    .dataframe tbody tr th {\n",
              "        vertical-align: top;\n",
              "    }\n",
              "\n",
              "    .dataframe thead th {\n",
              "        text-align: right;\n",
              "    }\n",
              "</style>\n",
              "<table border=\"1\" class=\"dataframe\">\n",
              "  <thead>\n",
              "    <tr style=\"text-align: right;\">\n",
              "      <th></th>\n",
              "      <th>Customer_id</th>\n",
              "      <th>Children</th>\n",
              "      <th>Age</th>\n",
              "      <th>Income</th>\n",
              "      <th>Outage_sec_perweek</th>\n",
              "      <th>Email</th>\n",
              "      <th>Contacts</th>\n",
              "      <th>Yearly_equip_failure</th>\n",
              "      <th>Tenure</th>\n",
              "      <th>MonthlyCharge</th>\n",
              "      <th>Bandwidth_GB_Year</th>\n",
              "      <th>Churn_Yes</th>\n",
              "      <th>Techie_Yes</th>\n",
              "      <th>Port_modem_Yes</th>\n",
              "      <th>Tablet_Yes</th>\n",
              "      <th>Phone_Yes</th>\n",
              "      <th>Multiple_Yes</th>\n",
              "      <th>OnlineSecurity_Yes</th>\n",
              "      <th>OnlineBackup_Yes</th>\n",
              "      <th>DeviceProtection_Yes</th>\n",
              "      <th>TechSupport_Yes</th>\n",
              "      <th>StreamingTV_Yes</th>\n",
              "      <th>StreamingMovies_Yes</th>\n",
              "      <th>PaperlessBilling_Yes</th>\n",
              "      <th>Area_Rural</th>\n",
              "      <th>Area_Suburban</th>\n",
              "      <th>Area_Urban</th>\n",
              "      <th>Marital_Divorced</th>\n",
              "      <th>Marital_Married</th>\n",
              "      <th>Marital_Never Married</th>\n",
              "      <th>Marital_Separated</th>\n",
              "      <th>Marital_Widowed</th>\n",
              "      <th>Gender_Female</th>\n",
              "      <th>Gender_Male</th>\n",
              "      <th>Gender_Nonbinary</th>\n",
              "      <th>InternetService_DSL</th>\n",
              "      <th>InternetService_Fiber Optic</th>\n",
              "      <th>InternetService_None</th>\n",
              "      <th>PaymentMethod_Bank Transfer(automatic)</th>\n",
              "      <th>PaymentMethod_Credit Card (automatic)</th>\n",
              "      <th>PaymentMethod_Electronic Check</th>\n",
              "      <th>PaymentMethod_Mailed Check</th>\n",
              "      <th>Contract_Month-to-month</th>\n",
              "      <th>Contract_One year</th>\n",
              "      <th>Contract_Two Year</th>\n",
              "    </tr>\n",
              "  </thead>\n",
              "  <tbody>\n",
              "    <tr>\n",
              "      <th>0</th>\n",
              "      <td>K409198</td>\n",
              "      <td>0</td>\n",
              "      <td>68</td>\n",
              "      <td>28561.99</td>\n",
              "      <td>7.978323</td>\n",
              "      <td>10</td>\n",
              "      <td>0</td>\n",
              "      <td>1</td>\n",
              "      <td>6.795513</td>\n",
              "      <td>172.455519</td>\n",
              "      <td>904.536110</td>\n",
              "      <td>False</td>\n",
              "      <td>False</td>\n",
              "      <td>True</td>\n",
              "      <td>True</td>\n",
              "      <td>True</td>\n",
              "      <td>False</td>\n",
              "      <td>True</td>\n",
              "      <td>True</td>\n",
              "      <td>False</td>\n",
              "      <td>False</td>\n",
              "      <td>False</td>\n",
              "      <td>True</td>\n",
              "      <td>True</td>\n",
              "      <td>False</td>\n",
              "      <td>False</td>\n",
              "      <td>True</td>\n",
              "      <td>False</td>\n",
              "      <td>False</td>\n",
              "      <td>False</td>\n",
              "      <td>False</td>\n",
              "      <td>True</td>\n",
              "      <td>False</td>\n",
              "      <td>True</td>\n",
              "      <td>False</td>\n",
              "      <td>False</td>\n",
              "      <td>True</td>\n",
              "      <td>False</td>\n",
              "      <td>False</td>\n",
              "      <td>True</td>\n",
              "      <td>False</td>\n",
              "      <td>False</td>\n",
              "      <td>False</td>\n",
              "      <td>True</td>\n",
              "      <td>False</td>\n",
              "    </tr>\n",
              "    <tr>\n",
              "      <th>1</th>\n",
              "      <td>S120509</td>\n",
              "      <td>1</td>\n",
              "      <td>27</td>\n",
              "      <td>21704.77</td>\n",
              "      <td>11.699080</td>\n",
              "      <td>12</td>\n",
              "      <td>0</td>\n",
              "      <td>1</td>\n",
              "      <td>1.156681</td>\n",
              "      <td>242.632554</td>\n",
              "      <td>800.982766</td>\n",
              "      <td>True</td>\n",
              "      <td>True</td>\n",
              "      <td>False</td>\n",
              "      <td>True</td>\n",
              "      <td>True</td>\n",
              "      <td>True</td>\n",
              "      <td>True</td>\n",
              "      <td>False</td>\n",
              "      <td>False</td>\n",
              "      <td>False</td>\n",
              "      <td>True</td>\n",
              "      <td>True</td>\n",
              "      <td>True</td>\n",
              "      <td>False</td>\n",
              "      <td>False</td>\n",
              "      <td>True</td>\n",
              "      <td>False</td>\n",
              "      <td>True</td>\n",
              "      <td>False</td>\n",
              "      <td>False</td>\n",
              "      <td>False</td>\n",
              "      <td>True</td>\n",
              "      <td>False</td>\n",
              "      <td>False</td>\n",
              "      <td>False</td>\n",
              "      <td>True</td>\n",
              "      <td>False</td>\n",
              "      <td>True</td>\n",
              "      <td>False</td>\n",
              "      <td>False</td>\n",
              "      <td>False</td>\n",
              "      <td>True</td>\n",
              "      <td>False</td>\n",
              "      <td>False</td>\n",
              "    </tr>\n",
              "    <tr>\n",
              "      <th>2</th>\n",
              "      <td>K191035</td>\n",
              "      <td>4</td>\n",
              "      <td>50</td>\n",
              "      <td>9609.57</td>\n",
              "      <td>10.752800</td>\n",
              "      <td>9</td>\n",
              "      <td>0</td>\n",
              "      <td>1</td>\n",
              "      <td>15.754144</td>\n",
              "      <td>159.947583</td>\n",
              "      <td>2054.706961</td>\n",
              "      <td>False</td>\n",
              "      <td>True</td>\n",
              "      <td>True</td>\n",
              "      <td>False</td>\n",
              "      <td>True</td>\n",
              "      <td>True</td>\n",
              "      <td>False</td>\n",
              "      <td>False</td>\n",
              "      <td>False</td>\n",
              "      <td>False</td>\n",
              "      <td>False</td>\n",
              "      <td>True</td>\n",
              "      <td>True</td>\n",
              "      <td>False</td>\n",
              "      <td>False</td>\n",
              "      <td>True</td>\n",
              "      <td>False</td>\n",
              "      <td>False</td>\n",
              "      <td>False</td>\n",
              "      <td>False</td>\n",
              "      <td>True</td>\n",
              "      <td>True</td>\n",
              "      <td>False</td>\n",
              "      <td>False</td>\n",
              "      <td>True</td>\n",
              "      <td>False</td>\n",
              "      <td>False</td>\n",
              "      <td>False</td>\n",
              "      <td>True</td>\n",
              "      <td>False</td>\n",
              "      <td>False</td>\n",
              "      <td>False</td>\n",
              "      <td>False</td>\n",
              "      <td>True</td>\n",
              "    </tr>\n",
              "    <tr>\n",
              "      <th>3</th>\n",
              "      <td>D90850</td>\n",
              "      <td>1</td>\n",
              "      <td>48</td>\n",
              "      <td>18925.23</td>\n",
              "      <td>14.913540</td>\n",
              "      <td>15</td>\n",
              "      <td>2</td>\n",
              "      <td>0</td>\n",
              "      <td>17.087227</td>\n",
              "      <td>119.956840</td>\n",
              "      <td>2164.579412</td>\n",
              "      <td>False</td>\n",
              "      <td>True</td>\n",
              "      <td>False</td>\n",
              "      <td>False</td>\n",
              "      <td>True</td>\n",
              "      <td>False</td>\n",
              "      <td>True</td>\n",
              "      <td>False</td>\n",
              "      <td>False</td>\n",
              "      <td>False</td>\n",
              "      <td>True</td>\n",
              "      <td>False</td>\n",
              "      <td>True</td>\n",
              "      <td>False</td>\n",
              "      <td>True</td>\n",
              "      <td>False</td>\n",
              "      <td>False</td>\n",
              "      <td>True</td>\n",
              "      <td>False</td>\n",
              "      <td>False</td>\n",
              "      <td>False</td>\n",
              "      <td>False</td>\n",
              "      <td>True</td>\n",
              "      <td>False</td>\n",
              "      <td>True</td>\n",
              "      <td>False</td>\n",
              "      <td>False</td>\n",
              "      <td>False</td>\n",
              "      <td>False</td>\n",
              "      <td>False</td>\n",
              "      <td>True</td>\n",
              "      <td>False</td>\n",
              "      <td>False</td>\n",
              "      <td>True</td>\n",
              "    </tr>\n",
              "    <tr>\n",
              "      <th>4</th>\n",
              "      <td>K662701</td>\n",
              "      <td>0</td>\n",
              "      <td>83</td>\n",
              "      <td>40074.19</td>\n",
              "      <td>8.147417</td>\n",
              "      <td>16</td>\n",
              "      <td>2</td>\n",
              "      <td>1</td>\n",
              "      <td>1.670972</td>\n",
              "      <td>149.948316</td>\n",
              "      <td>271.493436</td>\n",
              "      <td>True</td>\n",
              "      <td>False</td>\n",
              "      <td>True</td>\n",
              "      <td>False</td>\n",
              "      <td>False</td>\n",
              "      <td>False</td>\n",
              "      <td>False</td>\n",
              "      <td>False</td>\n",
              "      <td>False</td>\n",
              "      <td>True</td>\n",
              "      <td>True</td>\n",
              "      <td>False</td>\n",
              "      <td>False</td>\n",
              "      <td>False</td>\n",
              "      <td>True</td>\n",
              "      <td>False</td>\n",
              "      <td>False</td>\n",
              "      <td>False</td>\n",
              "      <td>False</td>\n",
              "      <td>True</td>\n",
              "      <td>False</td>\n",
              "      <td>False</td>\n",
              "      <td>True</td>\n",
              "      <td>False</td>\n",
              "      <td>False</td>\n",
              "      <td>True</td>\n",
              "      <td>False</td>\n",
              "      <td>False</td>\n",
              "      <td>False</td>\n",
              "      <td>False</td>\n",
              "      <td>True</td>\n",
              "      <td>True</td>\n",
              "      <td>False</td>\n",
              "      <td>False</td>\n",
              "    </tr>\n",
              "  </tbody>\n",
              "</table>\n",
              "</div>\n",
              "    <div class=\"colab-df-buttons\">\n",
              "\n",
              "  <div class=\"colab-df-container\">\n",
              "    <button class=\"colab-df-convert\" onclick=\"convertToInteractive('df-1940e616-442d-4768-af01-6820287f5b8b')\"\n",
              "            title=\"Convert this dataframe to an interactive table.\"\n",
              "            style=\"display:none;\">\n",
              "\n",
              "  <svg xmlns=\"http://www.w3.org/2000/svg\" height=\"24px\" viewBox=\"0 -960 960 960\">\n",
              "    <path d=\"M120-120v-720h720v720H120Zm60-500h600v-160H180v160Zm220 220h160v-160H400v160Zm0 220h160v-160H400v160ZM180-400h160v-160H180v160Zm440 0h160v-160H620v160ZM180-180h160v-160H180v160Zm440 0h160v-160H620v160Z\"/>\n",
              "  </svg>\n",
              "    </button>\n",
              "\n",
              "  <style>\n",
              "    .colab-df-container {\n",
              "      display:flex;\n",
              "      gap: 12px;\n",
              "    }\n",
              "\n",
              "    .colab-df-convert {\n",
              "      background-color: #E8F0FE;\n",
              "      border: none;\n",
              "      border-radius: 50%;\n",
              "      cursor: pointer;\n",
              "      display: none;\n",
              "      fill: #1967D2;\n",
              "      height: 32px;\n",
              "      padding: 0 0 0 0;\n",
              "      width: 32px;\n",
              "    }\n",
              "\n",
              "    .colab-df-convert:hover {\n",
              "      background-color: #E2EBFA;\n",
              "      box-shadow: 0px 1px 2px rgba(60, 64, 67, 0.3), 0px 1px 3px 1px rgba(60, 64, 67, 0.15);\n",
              "      fill: #174EA6;\n",
              "    }\n",
              "\n",
              "    .colab-df-buttons div {\n",
              "      margin-bottom: 4px;\n",
              "    }\n",
              "\n",
              "    [theme=dark] .colab-df-convert {\n",
              "      background-color: #3B4455;\n",
              "      fill: #D2E3FC;\n",
              "    }\n",
              "\n",
              "    [theme=dark] .colab-df-convert:hover {\n",
              "      background-color: #434B5C;\n",
              "      box-shadow: 0px 1px 3px 1px rgba(0, 0, 0, 0.15);\n",
              "      filter: drop-shadow(0px 1px 2px rgba(0, 0, 0, 0.3));\n",
              "      fill: #FFFFFF;\n",
              "    }\n",
              "  </style>\n",
              "\n",
              "    <script>\n",
              "      const buttonEl =\n",
              "        document.querySelector('#df-1940e616-442d-4768-af01-6820287f5b8b button.colab-df-convert');\n",
              "      buttonEl.style.display =\n",
              "        google.colab.kernel.accessAllowed ? 'block' : 'none';\n",
              "\n",
              "      async function convertToInteractive(key) {\n",
              "        const element = document.querySelector('#df-1940e616-442d-4768-af01-6820287f5b8b');\n",
              "        const dataTable =\n",
              "          await google.colab.kernel.invokeFunction('convertToInteractive',\n",
              "                                                    [key], {});\n",
              "        if (!dataTable) return;\n",
              "\n",
              "        const docLinkHtml = 'Like what you see? Visit the ' +\n",
              "          '<a target=\"_blank\" href=https://colab.research.google.com/notebooks/data_table.ipynb>data table notebook</a>'\n",
              "          + ' to learn more about interactive tables.';\n",
              "        element.innerHTML = '';\n",
              "        dataTable['output_type'] = 'display_data';\n",
              "        await google.colab.output.renderOutput(dataTable, element);\n",
              "        const docLink = document.createElement('div');\n",
              "        docLink.innerHTML = docLinkHtml;\n",
              "        element.appendChild(docLink);\n",
              "      }\n",
              "    </script>\n",
              "  </div>\n",
              "\n",
              "\n",
              "<div id=\"df-e6aea8c3-2fef-4527-b5c2-b1d5a6c548eb\">\n",
              "  <button class=\"colab-df-quickchart\" onclick=\"quickchart('df-e6aea8c3-2fef-4527-b5c2-b1d5a6c548eb')\"\n",
              "            title=\"Suggest charts\"\n",
              "            style=\"display:none;\">\n",
              "\n",
              "<svg xmlns=\"http://www.w3.org/2000/svg\" height=\"24px\"viewBox=\"0 0 24 24\"\n",
              "     width=\"24px\">\n",
              "    <g>\n",
              "        <path d=\"M19 3H5c-1.1 0-2 .9-2 2v14c0 1.1.9 2 2 2h14c1.1 0 2-.9 2-2V5c0-1.1-.9-2-2-2zM9 17H7v-7h2v7zm4 0h-2V7h2v10zm4 0h-2v-4h2v4z\"/>\n",
              "    </g>\n",
              "</svg>\n",
              "  </button>\n",
              "\n",
              "<style>\n",
              "  .colab-df-quickchart {\n",
              "      --bg-color: #E8F0FE;\n",
              "      --fill-color: #1967D2;\n",
              "      --hover-bg-color: #E2EBFA;\n",
              "      --hover-fill-color: #174EA6;\n",
              "      --disabled-fill-color: #AAA;\n",
              "      --disabled-bg-color: #DDD;\n",
              "  }\n",
              "\n",
              "  [theme=dark] .colab-df-quickchart {\n",
              "      --bg-color: #3B4455;\n",
              "      --fill-color: #D2E3FC;\n",
              "      --hover-bg-color: #434B5C;\n",
              "      --hover-fill-color: #FFFFFF;\n",
              "      --disabled-bg-color: #3B4455;\n",
              "      --disabled-fill-color: #666;\n",
              "  }\n",
              "\n",
              "  .colab-df-quickchart {\n",
              "    background-color: var(--bg-color);\n",
              "    border: none;\n",
              "    border-radius: 50%;\n",
              "    cursor: pointer;\n",
              "    display: none;\n",
              "    fill: var(--fill-color);\n",
              "    height: 32px;\n",
              "    padding: 0;\n",
              "    width: 32px;\n",
              "  }\n",
              "\n",
              "  .colab-df-quickchart:hover {\n",
              "    background-color: var(--hover-bg-color);\n",
              "    box-shadow: 0 1px 2px rgba(60, 64, 67, 0.3), 0 1px 3px 1px rgba(60, 64, 67, 0.15);\n",
              "    fill: var(--button-hover-fill-color);\n",
              "  }\n",
              "\n",
              "  .colab-df-quickchart-complete:disabled,\n",
              "  .colab-df-quickchart-complete:disabled:hover {\n",
              "    background-color: var(--disabled-bg-color);\n",
              "    fill: var(--disabled-fill-color);\n",
              "    box-shadow: none;\n",
              "  }\n",
              "\n",
              "  .colab-df-spinner {\n",
              "    border: 2px solid var(--fill-color);\n",
              "    border-color: transparent;\n",
              "    border-bottom-color: var(--fill-color);\n",
              "    animation:\n",
              "      spin 1s steps(1) infinite;\n",
              "  }\n",
              "\n",
              "  @keyframes spin {\n",
              "    0% {\n",
              "      border-color: transparent;\n",
              "      border-bottom-color: var(--fill-color);\n",
              "      border-left-color: var(--fill-color);\n",
              "    }\n",
              "    20% {\n",
              "      border-color: transparent;\n",
              "      border-left-color: var(--fill-color);\n",
              "      border-top-color: var(--fill-color);\n",
              "    }\n",
              "    30% {\n",
              "      border-color: transparent;\n",
              "      border-left-color: var(--fill-color);\n",
              "      border-top-color: var(--fill-color);\n",
              "      border-right-color: var(--fill-color);\n",
              "    }\n",
              "    40% {\n",
              "      border-color: transparent;\n",
              "      border-right-color: var(--fill-color);\n",
              "      border-top-color: var(--fill-color);\n",
              "    }\n",
              "    60% {\n",
              "      border-color: transparent;\n",
              "      border-right-color: var(--fill-color);\n",
              "    }\n",
              "    80% {\n",
              "      border-color: transparent;\n",
              "      border-right-color: var(--fill-color);\n",
              "      border-bottom-color: var(--fill-color);\n",
              "    }\n",
              "    90% {\n",
              "      border-color: transparent;\n",
              "      border-bottom-color: var(--fill-color);\n",
              "    }\n",
              "  }\n",
              "</style>\n",
              "\n",
              "  <script>\n",
              "    async function quickchart(key) {\n",
              "      const quickchartButtonEl =\n",
              "        document.querySelector('#' + key + ' button');\n",
              "      quickchartButtonEl.disabled = true;  // To prevent multiple clicks.\n",
              "      quickchartButtonEl.classList.add('colab-df-spinner');\n",
              "      try {\n",
              "        const charts = await google.colab.kernel.invokeFunction(\n",
              "            'suggestCharts', [key], {});\n",
              "      } catch (error) {\n",
              "        console.error('Error during call to suggestCharts:', error);\n",
              "      }\n",
              "      quickchartButtonEl.classList.remove('colab-df-spinner');\n",
              "      quickchartButtonEl.classList.add('colab-df-quickchart-complete');\n",
              "    }\n",
              "    (() => {\n",
              "      let quickchartButtonEl =\n",
              "        document.querySelector('#df-e6aea8c3-2fef-4527-b5c2-b1d5a6c548eb button');\n",
              "      quickchartButtonEl.style.display =\n",
              "        google.colab.kernel.accessAllowed ? 'block' : 'none';\n",
              "    })();\n",
              "  </script>\n",
              "</div>\n",
              "\n",
              "    </div>\n",
              "  </div>\n"
            ],
            "application/vnd.google.colaboratory.intrinsic+json": {
              "type": "dataframe",
              "variable_name": "churndf_e"
            }
          },
          "metadata": {},
          "execution_count": 9
        }
      ]
    },
    {
      "cell_type": "markdown",
      "source": [
        "## C4: Export CSV"
      ],
      "metadata": {
        "id": "ytWVAtyXXUak"
      }
    },
    {
      "cell_type": "code",
      "execution_count": null,
      "metadata": {
        "id": "yP4Zh_Jmk43H"
      },
      "outputs": [],
      "source": [
        "churndf_e.to_csv('churndf_clean_nb.csv', index=False)"
      ]
    },
    {
      "cell_type": "markdown",
      "source": [
        "# Naive Bayes Model"
      ],
      "metadata": {
        "id": "FMlRqm6hY1yZ"
      }
    },
    {
      "cell_type": "markdown",
      "source": [
        "### D1: Split Test / Training"
      ],
      "metadata": {
        "id": "-j0ig3DZaw7-"
      }
    },
    {
      "cell_type": "markdown",
      "source": [
        "The test size of the data for the Naive Bayes model will be 0.33."
      ],
      "metadata": {
        "id": "Szgi4nTkxQp-"
      }
    },
    {
      "cell_type": "code",
      "source": [
        "X = churndf_e.drop(columns=['Churn_Yes', 'Customer_id'])\n",
        "y = churndf_e['Churn_Yes']\n",
        "\n",
        "X_train, X_test, y_train, y_test = train_test_split(X, y, test_size=0.33, random_state=107)"
      ],
      "metadata": {
        "id": "vq7DG4sQa5s3"
      },
      "execution_count": null,
      "outputs": []
    },
    {
      "cell_type": "code",
      "source": [
        "customer_ids = churndf_e['Customer_id']"
      ],
      "metadata": {
        "id": "Y-LmA6XC7ELJ"
      },
      "execution_count": null,
      "outputs": []
    },
    {
      "cell_type": "markdown",
      "source": [
        "#### Export Testing / Training Data Set"
      ],
      "metadata": {
        "id": "WpUzKwtqP8fb"
      }
    },
    {
      "cell_type": "code",
      "source": [
        "X_train.to_csv('nb_x_train.csv', index=False)\n",
        "X_test.to_csv('nb_x_test.csv', index=False)\n",
        "y_train.to_csv('nb_y_train.csv', index=False)\n",
        "y_test.to_csv('nb_y_test.csv', index=False)"
      ],
      "metadata": {
        "id": "WwfjK_piP8Oo"
      },
      "execution_count": null,
      "outputs": []
    },
    {
      "cell_type": "markdown",
      "source": [
        "### D2: Naive Bayes Model / E2: Results"
      ],
      "metadata": {
        "id": "qu-ac5QZdKs1"
      }
    },
    {
      "cell_type": "markdown",
      "source": [
        "The Naive Bayes model was built by following a Data Camp tutorial (DataCamp, 2025). The data will be cleaned, transformed (one hot encoding), split into testing/training, and then loaded into the sklearn (scikit-learn) Gaussian Naive Bayes model. The Naive Bayes model will then be evaluated by using accuracy, F1, confusion metrics, classification report and a ROC curve. A random sample with prediction Correct/Incorrect will be printed along with a list of customers with the highest likelihood of churning."
      ],
      "metadata": {
        "id": "bdgvM8dN0THb"
      }
    },
    {
      "cell_type": "code",
      "source": [
        "model_nb = GaussianNB()\n",
        "\n",
        "model_nb.fit(X_train, y_train)\n",
        "\n",
        "y_pred = model_nb.predict(X_test)\n",
        "\n",
        "accuray = metrics.accuracy_score(y_pred, y_test)\n",
        "f1 = metrics.f1_score(y_pred, y_test, average=\"weighted\")\n",
        "\n",
        "print(\"Accuracy:\", accuray)\n",
        "print(\"F1 Score:\", f1)"
      ],
      "metadata": {
        "id": "SgmUJmCZdopu",
        "colab": {
          "base_uri": "https://localhost:8080/"
        },
        "outputId": "05db55c7-d73c-4b33-b6b5-f73c06392e30"
      },
      "execution_count": null,
      "outputs": [
        {
          "output_type": "stream",
          "name": "stdout",
          "text": [
            "Accuracy: 0.776060606060606\n",
            "F1 Score: 0.7630371177091636\n"
          ]
        }
      ]
    },
    {
      "cell_type": "markdown",
      "source": [
        "The accuracy and F1 score indicate that the Naive Bayes model for predicting customer churn generalizes effectively and performs well, making it a valuable tool for the telecommunications company in identifying potential churn among customers."
      ],
      "metadata": {
        "id": "YN43QVYi1hLE"
      }
    },
    {
      "cell_type": "markdown",
      "source": [
        "### Test Print"
      ],
      "metadata": {
        "id": "SJyY5BNerKu8"
      }
    },
    {
      "cell_type": "markdown",
      "source": [
        "This code randomly selects 20 samples from the test set, predicts whether each customer will churn using the Naive Bayes model, compares the predictions to the actual outcomes, and prints the prediction results alongside a label indicating whether each prediction was correct or incorrect."
      ],
      "metadata": {
        "id": "JfOyzgx11-fq"
      }
    },
    {
      "cell_type": "code",
      "source": [
        "test_number = 20\n",
        "\n",
        "for i in range(test_number):\n",
        "    random_test = np.random.randint(0, len(X_test))\n",
        "    test_sample = X_test.iloc[random_test].to_frame().T\n",
        "    predict = model_nb.predict(test_sample)\n",
        "    actual = y_test.iloc[random_test]\n",
        "    label = \"Correct\" if predict[0] == actual else \"Incorrect\"\n",
        "    print(f\"Prediction: {predict[0]}, Actual: {actual}, {label}\")\n"
      ],
      "metadata": {
        "id": "UcetrdfJlqL_",
        "colab": {
          "base_uri": "https://localhost:8080/"
        },
        "outputId": "e4da52c3-183a-4893-d981-1dacea6e330f"
      },
      "execution_count": null,
      "outputs": [
        {
          "output_type": "stream",
          "name": "stdout",
          "text": [
            "Prediction: False, Actual: False, Correct\n",
            "Prediction: False, Actual: False, Correct\n",
            "Prediction: True, Actual: False, Incorrect\n",
            "Prediction: True, Actual: False, Incorrect\n",
            "Prediction: True, Actual: False, Incorrect\n",
            "Prediction: True, Actual: True, Correct\n",
            "Prediction: False, Actual: False, Correct\n",
            "Prediction: True, Actual: True, Correct\n",
            "Prediction: False, Actual: False, Correct\n",
            "Prediction: False, Actual: False, Correct\n",
            "Prediction: True, Actual: True, Correct\n",
            "Prediction: True, Actual: False, Incorrect\n",
            "Prediction: True, Actual: False, Incorrect\n",
            "Prediction: False, Actual: False, Correct\n",
            "Prediction: False, Actual: False, Correct\n",
            "Prediction: False, Actual: False, Correct\n",
            "Prediction: False, Actual: False, Correct\n",
            "Prediction: True, Actual: True, Correct\n",
            "Prediction: True, Actual: False, Incorrect\n",
            "Prediction: True, Actual: False, Incorrect\n"
          ]
        }
      ]
    },
    {
      "cell_type": "markdown",
      "source": [
        "### D2: Confusion Matrix / E2: Results"
      ],
      "metadata": {
        "id": "DEarvzGsxHs4"
      }
    },
    {
      "cell_type": "code",
      "source": [
        "cnf_matrix = metrics.confusion_matrix(y_test, y_pred)\n",
        "print(\"Confusion Matrix:\\n\", cnf_matrix)"
      ],
      "metadata": {
        "id": "htu4DQNAxJdK",
        "colab": {
          "base_uri": "https://localhost:8080/"
        },
        "outputId": "02ac37b3-5d2a-4689-9a14-52f9db79c3a1"
      },
      "execution_count": null,
      "outputs": [
        {
          "output_type": "stream",
          "name": "stdout",
          "text": [
            "Confusion Matrix:\n",
            " [[1821  631]\n",
            " [ 108  740]]\n"
          ]
        }
      ]
    },
    {
      "cell_type": "code",
      "source": [
        "class_names = [0, 1]\n",
        "\n",
        "fig, ax = plt.subplots()\n",
        "tick_marks = np.arange(len(class_names))\n",
        "plt.xticks(tick_marks, class_names)\n",
        "plt.yticks(tick_marks, class_names)\n",
        "\n",
        "# Heatmap\n",
        "sns.heatmap(pd.DataFrame(cnf_matrix), annot=True, cmap=\"YlGnBu\", fmt='g')\n",
        "ax.xaxis.set_label_position(\"top\")\n",
        "plt.tight_layout()\n",
        "plt.title('Confusion matrix', y=1.1)\n",
        "plt.ylabel('Actual label')\n",
        "plt.xlabel('Predicted label')\n",
        "\n",
        "plt.show()"
      ],
      "metadata": {
        "id": "y-ceG3IAxanO",
        "colab": {
          "base_uri": "https://localhost:8080/",
          "height": 550
        },
        "outputId": "f9622d74-0fac-494a-98d6-0d59763c4926"
      },
      "execution_count": null,
      "outputs": [
        {
          "output_type": "display_data",
          "data": {
            "text/plain": [
              "<Figure size 640x480 with 2 Axes>"
            ],
            "image/png": "[encoded data removed]"
          },
          "metadata": {}
        }
      ]
    },
    {
      "cell_type": "markdown",
      "source": [
        "The confusion matrix is helpful in examining the Naive Bayes model’s accuracy and usefulness it shows:\n",
        "\n",
        "True Negatives (TN): 1821 (correctly predicted not churn)\n",
        "False Positives (FP): 631 (incorrectly predicted churn)\n",
        "False Negatives (FN): 108 (incorrectly predicted not churn)\n",
        "True Positives (TP): 740 (correctly predicted churn)"
      ],
      "metadata": {
        "id": "7oxzAfxi51Za"
      }
    },
    {
      "cell_type": "markdown",
      "source": [
        "### D2: Classification Report / E2: Results"
      ],
      "metadata": {
        "id": "d-3RN9rC_-g8"
      }
    },
    {
      "cell_type": "code",
      "source": [
        "target_names = ['Churn Yes', 'Churn No']\n",
        "print(metrics.classification_report(y_test, y_pred, target_names=target_names))"
      ],
      "metadata": {
        "id": "wZlJYnScOLqL",
        "colab": {
          "base_uri": "https://localhost:8080/"
        },
        "outputId": "a86c31cd-57fc-4dae-fb3f-38e7950e03bd"
      },
      "execution_count": null,
      "outputs": [
        {
          "output_type": "stream",
          "name": "stdout",
          "text": [
            "              precision    recall  f1-score   support\n",
            "\n",
            "   Churn Yes       0.94      0.74      0.83      2452\n",
            "    Churn No       0.54      0.87      0.67       848\n",
            "\n",
            "    accuracy                           0.78      3300\n",
            "   macro avg       0.74      0.81      0.75      3300\n",
            "weighted avg       0.84      0.78      0.79      3300\n",
            "\n"
          ]
        }
      ]
    },
    {
      "cell_type": "markdown",
      "source": [
        "The classification report shows that the model is effective at predicting churned customers with high precision, but it performs worse for non-churned customers, as seen in the precision and F1 score for that class. The weighted averages give a balanced view of overall performance based on class proportions. For the telecommunications company, this model is especially useful for identifying customers likely to churn, making it a valuable tool for retention efforts."
      ],
      "metadata": {
        "id": "zTZh3HNn6t3P"
      }
    },
    {
      "cell_type": "markdown",
      "source": [
        "### E1: Area Under the Curve (AUC) / ROC Curve / E2: Results"
      ],
      "metadata": {
        "id": "QNa7hIwZrO2K"
      }
    },
    {
      "cell_type": "code",
      "source": [
        "# Predicted probabilities\n",
        "y_predict_prob = model_nb.predict_proba(X_test)[:, 1]\n",
        "\n",
        "# Generate ROC curve values: fpr, tpr, thresholds\n",
        "fpr, tpr, _ = metrics.roc_curve(y_test, y_predict_prob)\n",
        "\n",
        "# Calculate AUC score\n",
        "auc_score = metrics.roc_auc_score(y_test, y_predict_prob)\n",
        "\n",
        "# Print the AUC score\n",
        "print(\"AUC Score:\", auc_score)\n",
        "\n",
        "# Plot ROC curve\n",
        "plt.plot([0, 1], [0, 1], 'k--')\n",
        "plt.plot(fpr, tpr)\n",
        "plt.xlabel('False Positive Rate')\n",
        "plt.ylabel('True Positive Rate')\n",
        "plt.title('ROC Curve for Churn')\n",
        "plt.show()\n"
      ],
      "metadata": {
        "id": "XUDgbb9Cs98x",
        "colab": {
          "base_uri": "https://localhost:8080/",
          "height": 490
        },
        "outputId": "1ce533e9-bef6-4710-9c53-4a08b240517d"
      },
      "execution_count": null,
      "outputs": [
        {
          "output_type": "stream",
          "name": "stdout",
          "text": [
            "AUC Score: 0.9037241450952631\n"
          ]
        },
        {
          "output_type": "display_data",
          "data": {
            "text/plain": [
              "<Figure size 640x480 with 1 Axes>"
            ],
            "image/png": "[encoded data removed]"
          },
          "metadata": {}
        }
      ]
    },
    {
      "cell_type": "markdown",
      "source": [
        "The AUC score of 0.9037 indicates a strong model performance, suggesting that the model has a good ability to distinguish between churned and non-churned customers. This score is considered high, reflecting the model's effectiveness in predicting outcomes accurately (Dash, 2020)."
      ],
      "metadata": {
        "id": "e3ZAnoqb-MBK"
      }
    },
    {
      "cell_type": "markdown",
      "source": [
        "### Customers Likely to Churn"
      ],
      "metadata": {
        "id": "N4FK5zN78IWT"
      }
    },
    {
      "cell_type": "code",
      "source": [
        "# Create a DataFrame to show the Customer_id and the predicted churn probability\n",
        "results = pd.DataFrame({'Customer_id': customer_ids.iloc[X_test.index], 'Churn_Probability': y_predict_prob})\n",
        "\n",
        "# Sort the results by Churn_Probability in descending order and show the top 20\n",
        "top_20_results = results.sort_values(by='Churn_Probability', ascending=False).head(20)\n",
        "\n",
        "# Display the top 20 results\n",
        "print(top_20_results)"
      ],
      "metadata": {
        "id": "kJ0--B7k8Bt-",
        "colab": {
          "base_uri": "https://localhost:8080/"
        },
        "outputId": "6b19b2d7-7c19-4436-8fa2-b162da3f389c"
      },
      "execution_count": null,
      "outputs": [
        {
          "output_type": "stream",
          "name": "stdout",
          "text": [
            "     Customer_id  Churn_Probability\n",
            "4489     X942031           0.990313\n",
            "266      L189856           0.990067\n",
            "4205     E599152           0.989934\n",
            "486      D195797           0.989685\n",
            "927      O479736           0.989655\n",
            "1018     Z215431           0.989101\n",
            "3133     X258311           0.988611\n",
            "4052     T732352           0.988589\n",
            "2992     L643244           0.988200\n",
            "1837     M379412           0.987695\n",
            "4194     V968708           0.986238\n",
            "1364      G27660           0.985816\n",
            "443      H620644           0.985507\n",
            "4908     E678852           0.985343\n",
            "934      O270789           0.985046\n",
            "200      J779175           0.984436\n",
            "2018     O412041           0.984341\n",
            "2417     Z799254           0.984266\n",
            "1707      I20636           0.983564\n",
            "1780     R305280           0.983112\n"
          ]
        }
      ]
    },
    {
      "cell_type": "markdown",
      "source": [
        "### E2: Results Summary / Implications"
      ],
      "metadata": {
        "id": "buTfmRmD-vUN"
      }
    },
    {
      "cell_type": "markdown",
      "source": [
        "The strong performance metrics of the Naive Bayes model—an AUC score of 0.9037, accuracy of 0.7761, F1 score of 0.7630, and a balanced confusion matrix—indicate a highly effective predictive tool for identifying customers at risk of churning. Here’s what these results mean for the company’s customer retention strategy and business decisions:\n",
        "\n",
        "**AUC Score (0.9037):** The high AUC score reflects the model’s excellent ability to discern between customers who will and will not churn. The telecommunications company can therefore confidently utilize this model to prioritize the customers most at risk for churn.\n",
        "\n",
        "**Accuracy (0.7761):** The accuracy score shows that the model correctly predicts customer behavior about 77.6% of the time. This high level of accuracy indicates that retention strategies compiled from the model’s predictions will be based on reliable data, allowing for accurately targeted interventions.\n",
        "\n",
        "**F1 Score (0.7630):** F1 scores balance precision and recall. The high score of 76.3% shows that the model efficiently predicts true positives while minimizing false positives. This will ensure that the efforts based on this model are not wasted and are targeting customers genuinely at risk of leaving.\n",
        "\n",
        "**Confusion Matrix:**\n",
        "* True Positives (740): Customers correctly identified as churners.\n",
        "* True Negatives (1821): Customers correctly identified as non-churners.\n",
        "* False Positives (631): Customers incorrectly identified as churners.\n",
        "* False Negatives (108): Customers incorrectly identified as non-churners.\n",
        "\n",
        "The confusion matrix shows a relatively low number of false negatives, which is crucial for retaining customers. This model will minimize the number of customers that churn without being indicated as at risk.\n",
        "\n",
        "In conclusion, the robust performance metrics of the Naive Bayes model provide a reliable foundation for making informed and strategic business decisions aimed at enhancing customer retention and ultimately improving the company’s profitability.\n",
        "\n",
        "* **Classification Report**:\n",
        "![Screenshot 2024-07-21 at 8.20.06 PM.png](data:image/png;base64,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)"
      ],
      "metadata": {
        "id": "cImEeDauDCsY"
      }
    },
    {
      "cell_type": "markdown",
      "source": [
        "## E3: Limitation"
      ],
      "metadata": {
        "id": "CMvs721-G_2j"
      }
    },
    {
      "cell_type": "markdown",
      "source": [
        "The main limitation of the Naive Bayes model is its assumption of feature independence; it calculates each feature independently, ignoring potential interconnections among features that may influence the outcome."
      ],
      "metadata": {
        "id": "hlqd-Kf5HBxI"
      }
    },
    {
      "cell_type": "markdown",
      "source": [
        "## E4: Recommendations\n"
      ],
      "metadata": {
        "id": "QpRjIrOaHC35"
      }
    },
    {
      "cell_type": "markdown",
      "source": [
        "The Naive Bayes model performs effectively with large datasets and can enhance accuracy with updated information. One recommendation is to use the developed tool to sort customers by their likelihood of churning, enabling the company to focus on targeted strategies for those at greatest risk. Additionally, reintroducing the data that was removed during the cleaning process could potentially improve the model's accuracy. Gathering more data and updating existing datasets with new information, followed by regularly rerunning the model, will help monitor changes in customer behavior and track the company’s growth or loss in the telecommunications industry."
      ],
      "metadata": {
        "id": "-LatkaVlMC9a"
      }
    },
    {
      "cell_type": "markdown",
      "source": [
        "## F: Demonstration"
      ],
      "metadata": {
        "id": "8Km66eNeHM9A"
      }
    },
    {
      "cell_type": "markdown",
      "source": [
        "https://wgu.hosted.panopto.com/Panopto/Pages/Viewer.aspx?id=ae211bb3-24b7-4e64-bed1-b1b6001faafc"
      ],
      "metadata": {
        "id": "S78P5puUT10Z"
      }
    },
    {
      "cell_type": "markdown",
      "source": [
        "## Sources"
      ],
      "metadata": {
        "id": "NI1j-3qMHP64"
      }
    },
    {
      "cell_type": "markdown",
      "source": [
        "* Dash, S. (2020, July 1). Understanding the ROC and AUC intuitively. Medium. https://medium.com/@shaileydash/understanding-the-roc-and-auc-intuitively-31ca96445c02\n",
        "* DataCamp. (n.d.). Naive Bayes classifier tutorial: With Python Scikit-learn. Retrieved July 2025 from https://www.datacamp.com/tutorial/naive-bayes-scikit-learn\n",
        "* Fuller, B. (2024, June.). D208 Task 2 [Jupyter Notebook]. GitHub. https://github.com/bethdfuller/MSDA/blob/main/D208/D208_Task2.ipynb\n",
        "* Glen, S. (2019, June 19). Comparing classifiers: Decision trees, K-NN & Naive Bayes. Data Science Central. Retrieved from https://www.datasciencecentral.com/comparing-classifiers-decision-trees-knn-naive-bayes/\n",
        "* Grus, J. (2019). Data science from scratch: First principles with Python (2nd ed.). O'Reilly Media.\n",
        "* Larose, C. (2019). Data science using Python and R. Hoboken, NJ: Wiley.\n",
        "* Towards Data Science. (2018, June 12). Bayes' theorem explained. Retrieved from https://towardsdatascience.com/bayes-theorem-explained-1b501d52ae37\n"
      ],
      "metadata": {
        "id": "sQQsfesyMGVR"
      }
    }
  ]
}