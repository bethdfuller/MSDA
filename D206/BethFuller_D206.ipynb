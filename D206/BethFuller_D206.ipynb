{
  "nbformat": 4,
  "nbformat_minor": 0,
  "metadata": {
    "colab": {
      "provenance": []
    },
    "kernelspec": {
      "name": "python3",
      "display_name": "Python 3"
    },
    "language_info": {
      "name": "python"
    }
  },
  "cells": [
    {
      "cell_type": "markdown",
      "source": [
        "# Import Libraries and Load Data"
      ],
      "metadata": {
        "id": "NXYXM8RLhWCW"
      }
    },
    {
      "cell_type": "code",
      "execution_count": 196,
      "metadata": {
        "id": "14eMSmQhg5RA"
      },
      "outputs": [],
      "source": [
        "#Import libraries\n",
        "import pandas as pd\n",
        "from pandas.api.types import CategoricalDtype\n",
        "import seaborn as sns\n",
        "import matplotlib.pyplot as plt\n",
        "from scipy import stats\n",
        "import numpy as np\n",
        "from sklearn.decomposition import PCA\n",
        "\n",
        "#Display maximum columns and rows\n",
        "pd.set_option(\"display.max_columns\", None)\n",
        "pd.set_option(\"display.max_rows\", 60)\n",
        "\n",
        "#URL to churn dataset\n",
        "url = 'https://raw.githubusercontent.com/bethdfuller/D206_clean/main/churn_raw_data.csv'\n",
        "\n",
        "#Read churn dataset\n",
        "churndf = pd.read_csv(url, index_col='CaseOrder')"
      ]
    },
    {
      "cell_type": "markdown",
      "source": [
        "# Exploration"
      ],
      "metadata": {
        "id": "GWdh_HIKxu0d"
      }
    },
    {
      "cell_type": "code",
      "source": [
        "churndf.shape"
      ],
      "metadata": {
        "colab": {
          "base_uri": "https://localhost:8080/"
        },
        "id": "nuOgs94eT9Cj",
        "outputId": "703ee9d6-d976-427f-96e8-9474110de434"
      },
      "execution_count": 197,
      "outputs": [
        {
          "output_type": "execute_result",
          "data": {
            "text/plain": [
              "(10000, 51)"
            ]
          },
          "metadata": {},
          "execution_count": 197
        }
      ]
    },
    {
      "cell_type": "code",
      "source": [
        "churndf.info()"
      ],
      "metadata": {
        "colab": {
          "base_uri": "https://localhost:8080/"
        },
        "id": "NducC_H7Day4",
        "outputId": "20ecfe73-9cc7-4f62-d94f-c8c4a4a1bc82"
      },
      "execution_count": 198,
      "outputs": [
        {
          "output_type": "stream",
          "name": "stdout",
          "text": [
            "<class 'pandas.core.frame.DataFrame'>\n",
            "Int64Index: 10000 entries, 1 to 10000\n",
            "Data columns (total 51 columns):\n",
            " #   Column                Non-Null Count  Dtype  \n",
            "---  ------                --------------  -----  \n",
            " 0   Unnamed: 0            10000 non-null  int64  \n",
            " 1   Customer_id           10000 non-null  object \n",
            " 2   Interaction           10000 non-null  object \n",
            " 3   City                  10000 non-null  object \n",
            " 4   State                 10000 non-null  object \n",
            " 5   County                10000 non-null  object \n",
            " 6   Zip                   10000 non-null  int64  \n",
            " 7   Lat                   10000 non-null  float64\n",
            " 8   Lng                   10000 non-null  float64\n",
            " 9   Population            10000 non-null  int64  \n",
            " 10  Area                  10000 non-null  object \n",
            " 11  Timezone              10000 non-null  object \n",
            " 12  Job                   10000 non-null  object \n",
            " 13  Children              7505 non-null   float64\n",
            " 14  Age                   7525 non-null   float64\n",
            " 15  Education             10000 non-null  object \n",
            " 16  Employment            10000 non-null  object \n",
            " 17  Income                7510 non-null   float64\n",
            " 18  Marital               10000 non-null  object \n",
            " 19  Gender                10000 non-null  object \n",
            " 20  Churn                 10000 non-null  object \n",
            " 21  Outage_sec_perweek    10000 non-null  float64\n",
            " 22  Email                 10000 non-null  int64  \n",
            " 23  Contacts              10000 non-null  int64  \n",
            " 24  Yearly_equip_failure  10000 non-null  int64  \n",
            " 25  Techie                7523 non-null   object \n",
            " 26  Contract              10000 non-null  object \n",
            " 27  Port_modem            10000 non-null  object \n",
            " 28  Tablet                10000 non-null  object \n",
            " 29  InternetService       10000 non-null  object \n",
            " 30  Phone                 8974 non-null   object \n",
            " 31  Multiple              10000 non-null  object \n",
            " 32  OnlineSecurity        10000 non-null  object \n",
            " 33  OnlineBackup          10000 non-null  object \n",
            " 34  DeviceProtection      10000 non-null  object \n",
            " 35  TechSupport           9009 non-null   object \n",
            " 36  StreamingTV           10000 non-null  object \n",
            " 37  StreamingMovies       10000 non-null  object \n",
            " 38  PaperlessBilling      10000 non-null  object \n",
            " 39  PaymentMethod         10000 non-null  object \n",
            " 40  Tenure                9069 non-null   float64\n",
            " 41  MonthlyCharge         10000 non-null  float64\n",
            " 42  Bandwidth_GB_Year     8979 non-null   float64\n",
            " 43  item1                 10000 non-null  int64  \n",
            " 44  item2                 10000 non-null  int64  \n",
            " 45  item3                 10000 non-null  int64  \n",
            " 46  item4                 10000 non-null  int64  \n",
            " 47  item5                 10000 non-null  int64  \n",
            " 48  item6                 10000 non-null  int64  \n",
            " 49  item7                 10000 non-null  int64  \n",
            " 50  item8                 10000 non-null  int64  \n",
            "dtypes: float64(9), int64(14), object(28)\n",
            "memory usage: 4.0+ MB\n"
          ]
        }
      ]
    },
    {
      "cell_type": "code",
      "source": [
        "churndf.head(20)"
      ],
      "metadata": {
        "colab": {
          "base_uri": "https://localhost:8080/",
          "height": 1000
        },
        "id": "MTtNMHOoUFV6",
        "outputId": "a125edc0-4bb1-483e-f7e5-7b9a7f46958d"
      },
      "execution_count": 199,
      "outputs": [
        {
          "output_type": "execute_result",
          "data": {
            "text/plain": [
              "           Unnamed: 0 Customer_id                           Interaction  \\\n",
              "CaseOrder                                                                 \n",
              "1                   1     K409198  aa90260b-4141-4a24-8e36-b04ce1f4f77b   \n",
              "2                   2     S120509  fb76459f-c047-4a9d-8af9-e0f7d4ac2524   \n",
              "3                   3     K191035  344d114c-3736-4be5-98f7-c72c281e2d35   \n",
              "4                   4      D90850  abfa2b40-2d43-4994-b15a-989b8c79e311   \n",
              "5                   5     K662701  68a861fd-0d20-4e51-a587-8a90407ee574   \n",
              "6                   6     W303516  2b451d12-6c2b-4cea-a295-ba1d6bced078   \n",
              "7                   7     U335188  6630d501-838c-4be4-a59c-6f58c814ed6a   \n",
              "8                   8     V538685  70ddaa89-b726-49dc-9022-2d655e4c7936   \n",
              "9                   9     M716771  05a49ee3-8fd5-453a-a5f3-82b6cd986856   \n",
              "10                 10     I676080  86f17e4d-2c24-4b70-a6ec-dddf0609dbaa   \n",
              "11                 11     J980369  89490f4b-765f-431a-b302-580aae7db71a   \n",
              "12                 12     E243720  c32b8522-d62a-49b1-a77a-e0534cb1378b   \n",
              "13                 13     F139569  4828f66e-5592-4c61-bbf4-313cf8731f1c   \n",
              "14                 14      X44200  780992d3-d758-4152-aceb-5d59edda3d15   \n",
              "15                 15      H68068  8dc7ad15-2f59-4c77-9640-6f2c0000b3fc   \n",
              "16                 16     A403906  df437bd4-bd8a-4c8f-8110-11ed1a7723ea   \n",
              "17                 17     V847470  bbf5ca9f-cb89-44ea-ac42-3f5862ebdbd0   \n",
              "18                 18     F721878  5c3548de-4744-4167-9412-3f018262bab2   \n",
              "19                 19     F487435  200fad69-1e40-4de6-9222-df84d8925000   \n",
              "20                 20     B561228  5ff2d3a8-6e9f-4bfa-af2b-04e5cdc0a1e0   \n",
              "\n",
              "                     City State                 County    Zip       Lat  \\\n",
              "CaseOrder                                                                 \n",
              "1             Point Baker    AK  Prince of Wales-Hyder  99927  56.25100   \n",
              "2             West Branch    MI                 Ogemaw  48661  44.32893   \n",
              "3                 Yamhill    OR                Yamhill  97148  45.35589   \n",
              "4                 Del Mar    CA              San Diego  92014  32.96687   \n",
              "5               Needville    TX              Fort Bend  77461  29.38012   \n",
              "6             Fort Valley    GA                  Peach  31030  32.57032   \n",
              "7                 Pioneer    TN                  Scott  37847  36.43420   \n",
              "8           Oklahoma City    OK               Oklahoma  73109  35.43313   \n",
              "9             Saint Cloud    FL                Osceola  34771  28.27646   \n",
              "10             Cincinnati    OH               Hamilton  45237  39.19296   \n",
              "11         Little Meadows    PA            Susquehanna  18830  41.95142   \n",
              "12                Corozal    PR                Corozal    783  18.30410   \n",
              "13             Conesville    IA              Muscatine  52739  41.37287   \n",
              "14         East Livermore    ME           Androscoggin   4228  44.43256   \n",
              "15               Hillside    IL                   Cook  60162  41.86752   \n",
              "16          Saint Germain    WI                  Vilas  54558  45.92342   \n",
              "17                Modesto    CA             Stanislaus  95351  37.62326   \n",
              "18                Parkton    NC                Robeson  28371  34.90636   \n",
              "19                Oakland    TN                Fayette  38060  35.20910   \n",
              "20               Trafford    AL                 Blount  35172  33.84469   \n",
              "\n",
              "                 Lng  Population      Area             Timezone  \\\n",
              "CaseOrder                                                         \n",
              "1         -133.37571          38     Urban        America/Sitka   \n",
              "2          -84.24080       10446     Urban      America/Detroit   \n",
              "3         -123.24657        3735     Urban  America/Los_Angeles   \n",
              "4         -117.24798       13863  Suburban  America/Los_Angeles   \n",
              "5          -95.80673       11352  Suburban      America/Chicago   \n",
              "6          -83.89040       17701     Urban     America/New_York   \n",
              "7          -84.27892        2535  Suburban     America/New_York   \n",
              "8          -97.52463       23144  Suburban      America/Chicago   \n",
              "9          -81.16273       17351  Suburban     America/New_York   \n",
              "10         -84.45230       20193     Rural     America/New_York   \n",
              "11         -76.10744         555     Urban     America/New_York   \n",
              "12         -66.32847       33372     Rural  America/Puerto_Rico   \n",
              "13         -91.36865         556     Rural      America/Chicago   \n",
              "14         -70.11501           0     Urban     America/New_York   \n",
              "15         -87.90222        8165     Urban      America/Chicago   \n",
              "16         -89.50138        2093  Suburban      America/Chicago   \n",
              "17        -120.99637       50079     Urban  America/Los_Angeles   \n",
              "18         -78.98944        7249     Rural     America/New_York   \n",
              "19         -89.50332        9463     Rural      America/Chicago   \n",
              "20         -86.69740        3177     Rural      America/Chicago   \n",
              "\n",
              "                                           Job  Children   Age  \\\n",
              "CaseOrder                                                        \n",
              "1            Environmental health practitioner       NaN  68.0   \n",
              "2                       Programmer, multimedia       1.0  27.0   \n",
              "3                      Chief Financial Officer       4.0  50.0   \n",
              "4                                    Solicitor       1.0  48.0   \n",
              "5                          Medical illustrator       0.0  83.0   \n",
              "6                     Chief Technology Officer       3.0  83.0   \n",
              "7                       Surveyor, hydrographic       0.0   NaN   \n",
              "8            Sales promotion account executive       2.0   NaN   \n",
              "9               Teaching laboratory technician       2.0  49.0   \n",
              "10                    Museum education officer       NaN  86.0   \n",
              "11          Teacher, special educational needs       7.0  23.0   \n",
              "12                        Maintenance engineer       2.0  56.0   \n",
              "13         Engineer, broadcasting (operations)       0.0  83.0   \n",
              "14                   Learning disability nurse       5.0   NaN   \n",
              "15                         Automotive engineer       NaN  30.0   \n",
              "16                      Amenity horticulturist       NaN  39.0   \n",
              "17                      Applications developer       NaN  63.0   \n",
              "18                                Immunologist       NaN  60.0   \n",
              "19                        Engineer, electrical       3.0  61.0   \n",
              "20                         Broadcast presenter       3.0  23.0   \n",
              "\n",
              "                                          Education Employment     Income  \\\n",
              "CaseOrder                                                                   \n",
              "1                                   Master's Degree  Part Time   28561.99   \n",
              "2                       Regular High School Diploma    Retired   21704.77   \n",
              "3                       Regular High School Diploma    Student        NaN   \n",
              "4                                  Doctorate Degree    Retired   18925.23   \n",
              "5                                   Master's Degree    Student   40074.19   \n",
              "6                            No Schooling Completed  Full Time        NaN   \n",
              "7                                Associate's Degree  Full Time   11467.50   \n",
              "8                                 Bachelor's Degree  Full Time   26759.64   \n",
              "9                    Some College, Less than 1 Year  Full Time   58634.51   \n",
              "10                    GED or Alternative Credential  Full Time   50231.40   \n",
              "11                      Regular High School Diploma  Full Time        NaN   \n",
              "12                                Bachelor's Degree  Full Time   18342.12   \n",
              "13                                  Master's Degree    Retired   83671.08   \n",
              "14                           No Schooling Completed    Retired  115114.57   \n",
              "15                               Associate's Degree  Full Time   64256.81   \n",
              "16                                Bachelor's Degree  Full Time   89061.45   \n",
              "17         Some College, 1 or More Years, No Degree    Retired   31659.30   \n",
              "18              9th Grade to 12th Grade, No Diploma    Retired   44142.81   \n",
              "19                      Regular High School Diploma  Full Time   39262.14   \n",
              "20                               Associate's Degree  Part Time   19494.75   \n",
              "\n",
              "                 Marital                Gender Churn  Outage_sec_perweek  \\\n",
              "CaseOrder                                                                  \n",
              "1                Widowed                  Male    No            6.972566   \n",
              "2                Married                Female   Yes           12.014541   \n",
              "3                Widowed                Female    No           10.245616   \n",
              "4                Married                  Male    No           15.206193   \n",
              "5              Separated                  Male   Yes            8.960316   \n",
              "6          Never Married                Female    No            7.814859   \n",
              "7                Widowed                  Male   Yes           11.129094   \n",
              "8                Married                Female   Yes            7.594838   \n",
              "9              Separated  Prefer not to answer    No            6.637259   \n",
              "10               Married                Female    No            9.230409   \n",
              "11             Separated                Female    No           11.835113   \n",
              "12               Married                Female    No            5.082821   \n",
              "13              Divorced                  Male    No            7.265961   \n",
              "14             Separated                Female    No            6.568344   \n",
              "15             Separated                  Male   Yes           12.630691   \n",
              "16              Divorced                  Male   Yes            9.482219   \n",
              "17               Married                Female   Yes           14.429165   \n",
              "18             Separated                  Male   Yes           10.217903   \n",
              "19               Widowed                Female    No           11.101068   \n",
              "20              Divorced                  Male   Yes           11.088532   \n",
              "\n",
              "           Email  Contacts  Yearly_equip_failure Techie        Contract  \\\n",
              "CaseOrder                                                                 \n",
              "1             10         0                     1     No        One year   \n",
              "2             12         0                     1    Yes  Month-to-month   \n",
              "3              9         0                     1    Yes        Two Year   \n",
              "4             15         2                     0    Yes        Two Year   \n",
              "5             16         2                     1     No  Month-to-month   \n",
              "6             15         3                     1     No        One year   \n",
              "7             10         0                     1    Yes  Month-to-month   \n",
              "8             16         0                     0    Yes  Month-to-month   \n",
              "9             20         2                     3    NaN  Month-to-month   \n",
              "10            18         1                     0    NaN        Two Year   \n",
              "11             9         0                     2     No  Month-to-month   \n",
              "12            17         1                     1     No  Month-to-month   \n",
              "13             9         0                     0     No  Month-to-month   \n",
              "14            14         1                     0     No        Two Year   \n",
              "15            10         3                     0     No  Month-to-month   \n",
              "16            13         1                     0     No        One year   \n",
              "17            13         1                     0     No  Month-to-month   \n",
              "18            16         3                     0     No        Two Year   \n",
              "19            11         1                     0    Yes        Two Year   \n",
              "20            10         1                     0     No  Month-to-month   \n",
              "\n",
              "          Port_modem Tablet InternetService Phone Multiple OnlineSecurity  \\\n",
              "CaseOrder                                                                   \n",
              "1                Yes    Yes     Fiber Optic   Yes       No            Yes   \n",
              "2                 No    Yes     Fiber Optic   Yes      Yes            Yes   \n",
              "3                Yes     No             DSL   Yes      Yes             No   \n",
              "4                 No     No             DSL   Yes       No            Yes   \n",
              "5                Yes     No     Fiber Optic    No       No             No   \n",
              "6                Yes     No            None   Yes      Yes            Yes   \n",
              "7                 No     No             DSL   Yes       No             No   \n",
              "8                 No     No             DSL    No       No             No   \n",
              "9                Yes     No             DSL   Yes       No            Yes   \n",
              "10               Yes     No     Fiber Optic   Yes       No            Yes   \n",
              "11                No     No             DSL   Yes      Yes            Yes   \n",
              "12               Yes     No     Fiber Optic   Yes       No             No   \n",
              "13               Yes     No     Fiber Optic   Yes       No             No   \n",
              "14               Yes    Yes     Fiber Optic   Yes      Yes            Yes   \n",
              "15                No     No             DSL    No      Yes             No   \n",
              "16                No     No            None   Yes       No            Yes   \n",
              "17               Yes     No             DSL   Yes      Yes             No   \n",
              "18                No     No            None   Yes       No            Yes   \n",
              "19               Yes     No            None   Yes       No             No   \n",
              "20               Yes     No             DSL   Yes      Yes             No   \n",
              "\n",
              "          OnlineBackup DeviceProtection TechSupport StreamingTV  \\\n",
              "CaseOrder                                                         \n",
              "1                  Yes               No          No          No   \n",
              "2                   No               No          No         Yes   \n",
              "3                   No               No          No          No   \n",
              "4                   No               No          No         Yes   \n",
              "5                   No               No         Yes         Yes   \n",
              "6                  Yes              Yes          No          No   \n",
              "7                   No               No         Yes         Yes   \n",
              "8                  Yes               No          No          No   \n",
              "9                  Yes               No          No          No   \n",
              "10                  No              Yes         NaN          No   \n",
              "11                 Yes               No          No         Yes   \n",
              "12                  No              Yes          No         Yes   \n",
              "13                  No               No          No         Yes   \n",
              "14                  No               No         Yes         Yes   \n",
              "15                 Yes               No         Yes          No   \n",
              "16                  No               No          No         Yes   \n",
              "17                 Yes              Yes          No          No   \n",
              "18                  No              Yes         Yes         Yes   \n",
              "19                 Yes              Yes         Yes         Yes   \n",
              "20                  No               No          No         Yes   \n",
              "\n",
              "          StreamingMovies PaperlessBilling             PaymentMethod  \\\n",
              "CaseOrder                                                              \n",
              "1                     Yes              Yes   Credit Card (automatic)   \n",
              "2                     Yes              Yes  Bank Transfer(automatic)   \n",
              "3                     Yes              Yes   Credit Card (automatic)   \n",
              "4                      No              Yes              Mailed Check   \n",
              "5                      No               No              Mailed Check   \n",
              "6                     Yes               No          Electronic Check   \n",
              "7                     Yes               No          Electronic Check   \n",
              "8                      No              Yes              Mailed Check   \n",
              "9                      No              Yes  Bank Transfer(automatic)   \n",
              "10                    Yes              Yes              Mailed Check   \n",
              "11                     No               No              Mailed Check   \n",
              "12                     No               No          Electronic Check   \n",
              "13                     No               No  Bank Transfer(automatic)   \n",
              "14                     No              Yes  Bank Transfer(automatic)   \n",
              "15                     No              Yes  Bank Transfer(automatic)   \n",
              "16                    Yes              Yes          Electronic Check   \n",
              "17                    Yes              Yes  Bank Transfer(automatic)   \n",
              "18                    Yes               No              Mailed Check   \n",
              "19                     No              Yes  Bank Transfer(automatic)   \n",
              "20                     No              Yes   Credit Card (automatic)   \n",
              "\n",
              "              Tenure  MonthlyCharge  Bandwidth_GB_Year  item1  item2  item3  \\\n",
              "CaseOrder                                                                     \n",
              "1           6.795513     171.449762         904.536110      5      5      5   \n",
              "2           1.156681     242.948015         800.982766      3      4      3   \n",
              "3          15.754144     159.440398        2054.706961      4      4      2   \n",
              "4          17.087227     120.249493        2164.579412      4      4      4   \n",
              "5           1.670972     150.761216         271.493436      4      4      4   \n",
              "6           7.000994     184.401558        1039.357983      3      3      3   \n",
              "7          13.236774     200.064886        1907.242972      6      5      6   \n",
              "8                NaN     114.754111         979.612708      2      2      2   \n",
              "9           8.220686     118.366844        1312.874964      5      4      4   \n",
              "10          3.422086     163.005280         508.763791      2      2      2   \n",
              "11         19.267262     177.451599        2728.767869      4      4      4   \n",
              "12               NaN     148.364087        1180.588788      4      4      3   \n",
              "13         13.011492     136.431239        1196.388018      1      2      1   \n",
              "14         16.879220     185.659294        1948.694497      5      6      5   \n",
              "15         10.060199     160.805542                NaN      3      3      4   \n",
              "16         13.870013     176.334509        1840.014467      3      3      3   \n",
              "17         15.782150     195.872604        2070.376729      3      4      4   \n",
              "18               NaN     203.069597         882.098593      2      2      4   \n",
              "19         17.109956     154.017102        1833.096700      3      4      3   \n",
              "20         12.806158     150.110739        1954.080809      5      5      5   \n",
              "\n",
              "           item4  item5  item6  item7  item8  \n",
              "CaseOrder                                     \n",
              "1              3      4      4      3      4  \n",
              "2              3      4      3      4      4  \n",
              "3              4      4      3      3      3  \n",
              "4              2      5      4      3      3  \n",
              "5              3      4      4      4      5  \n",
              "6              2      4      3      3      3  \n",
              "7              4      1      5      5      5  \n",
              "8              5      2      3      4      5  \n",
              "9              3      4      3      4      4  \n",
              "10             2      5      2      3      3  \n",
              "11             7      3      3      3      4  \n",
              "12             4      4      4      3      4  \n",
              "13             4      3      2      3      3  \n",
              "14             2      4      5      4      4  \n",
              "15             2      3      4      4      2  \n",
              "16             2      4      3      5      2  \n",
              "17             3      5      4      4      3  \n",
              "18             3      3      4      3      3  \n",
              "19             4      3      2      3      5  \n",
              "20             4      4      4      3      3  "
            ],
            "text/html": [
              "\n",
              "  <div id=\"df-0a748dc4-b82e-42cd-a85b-869387b63fa8\" class=\"colab-df-container\">\n",
              "    <div>\n",
              "<style scoped>\n",
              "    .dataframe tbody tr th:only-of-type {\n",
              "        vertical-align: middle;\n",
              "    }\n",
              "\n",
              "    .dataframe tbody tr th {\n",
              "        vertical-align: top;\n",
              "    }\n",
              "\n",
              "    .dataframe thead th {\n",
              "        text-align: right;\n",
              "    }\n",
              "</style>\n",
              "<table border=\"1\" class=\"dataframe\">\n",
              "  <thead>\n",
              "    <tr style=\"text-align: right;\">\n",
              "      <th></th>\n",
              "      <th>Unnamed: 0</th>\n",
              "      <th>Customer_id</th>\n",
              "      <th>Interaction</th>\n",
              "      <th>City</th>\n",
              "      <th>State</th>\n",
              "      <th>County</th>\n",
              "      <th>Zip</th>\n",
              "      <th>Lat</th>\n",
              "      <th>Lng</th>\n",
              "      <th>Population</th>\n",
              "      <th>Area</th>\n",
              "      <th>Timezone</th>\n",
              "      <th>Job</th>\n",
              "      <th>Children</th>\n",
              "      <th>Age</th>\n",
              "      <th>Education</th>\n",
              "      <th>Employment</th>\n",
              "      <th>Income</th>\n",
              "      <th>Marital</th>\n",
              "      <th>Gender</th>\n",
              "      <th>Churn</th>\n",
              "      <th>Outage_sec_perweek</th>\n",
              "      <th>Email</th>\n",
              "      <th>Contacts</th>\n",
              "      <th>Yearly_equip_failure</th>\n",
              "      <th>Techie</th>\n",
              "      <th>Contract</th>\n",
              "      <th>Port_modem</th>\n",
              "      <th>Tablet</th>\n",
              "      <th>InternetService</th>\n",
              "      <th>Phone</th>\n",
              "      <th>Multiple</th>\n",
              "      <th>OnlineSecurity</th>\n",
              "      <th>OnlineBackup</th>\n",
              "      <th>DeviceProtection</th>\n",
              "      <th>TechSupport</th>\n",
              "      <th>StreamingTV</th>\n",
              "      <th>StreamingMovies</th>\n",
              "      <th>PaperlessBilling</th>\n",
              "      <th>PaymentMethod</th>\n",
              "      <th>Tenure</th>\n",
              "      <th>MonthlyCharge</th>\n",
              "      <th>Bandwidth_GB_Year</th>\n",
              "      <th>item1</th>\n",
              "      <th>item2</th>\n",
              "      <th>item3</th>\n",
              "      <th>item4</th>\n",
              "      <th>item5</th>\n",
              "      <th>item6</th>\n",
              "      <th>item7</th>\n",
              "      <th>item8</th>\n",
              "    </tr>\n",
              "    <tr>\n",
              "      <th>CaseOrder</th>\n",
              "      <th></th>\n",
              "      <th></th>\n",
              "      <th></th>\n",
              "      <th></th>\n",
              "      <th></th>\n",
              "      <th></th>\n",
              "      <th></th>\n",
              "      <th></th>\n",
              "      <th></th>\n",
              "      <th></th>\n",
              "      <th></th>\n",
              "      <th></th>\n",
              "      <th></th>\n",
              "      <th></th>\n",
              "      <th></th>\n",
              "      <th></th>\n",
              "      <th></th>\n",
              "      <th></th>\n",
              "      <th></th>\n",
              "      <th></th>\n",
              "      <th></th>\n",
              "      <th></th>\n",
              "      <th></th>\n",
              "      <th></th>\n",
              "      <th></th>\n",
              "      <th></th>\n",
              "      <th></th>\n",
              "      <th></th>\n",
              "      <th></th>\n",
              "      <th></th>\n",
              "      <th></th>\n",
              "      <th></th>\n",
              "      <th></th>\n",
              "      <th></th>\n",
              "      <th></th>\n",
              "      <th></th>\n",
              "      <th></th>\n",
              "      <th></th>\n",
              "      <th></th>\n",
              "      <th></th>\n",
              "      <th></th>\n",
              "      <th></th>\n",
              "      <th></th>\n",
              "      <th></th>\n",
              "      <th></th>\n",
              "      <th></th>\n",
              "      <th></th>\n",
              "      <th></th>\n",
              "      <th></th>\n",
              "      <th></th>\n",
              "      <th></th>\n",
              "    </tr>\n",
              "  </thead>\n",
              "  <tbody>\n",
              "    <tr>\n",
              "      <th>1</th>\n",
              "      <td>1</td>\n",
              "      <td>K409198</td>\n",
              "      <td>aa90260b-4141-4a24-8e36-b04ce1f4f77b</td>\n",
              "      <td>Point Baker</td>\n",
              "      <td>AK</td>\n",
              "      <td>Prince of Wales-Hyder</td>\n",
              "      <td>99927</td>\n",
              "      <td>56.25100</td>\n",
              "      <td>-133.37571</td>\n",
              "      <td>38</td>\n",
              "      <td>Urban</td>\n",
              "      <td>America/Sitka</td>\n",
              "      <td>Environmental health practitioner</td>\n",
              "      <td>NaN</td>\n",
              "      <td>68.0</td>\n",
              "      <td>Master's Degree</td>\n",
              "      <td>Part Time</td>\n",
              "      <td>28561.99</td>\n",
              "      <td>Widowed</td>\n",
              "      <td>Male</td>\n",
              "      <td>No</td>\n",
              "      <td>6.972566</td>\n",
              "      <td>10</td>\n",
              "      <td>0</td>\n",
              "      <td>1</td>\n",
              "      <td>No</td>\n",
              "      <td>One year</td>\n",
              "      <td>Yes</td>\n",
              "      <td>Yes</td>\n",
              "      <td>Fiber Optic</td>\n",
              "      <td>Yes</td>\n",
              "      <td>No</td>\n",
              "      <td>Yes</td>\n",
              "      <td>Yes</td>\n",
              "      <td>No</td>\n",
              "      <td>No</td>\n",
              "      <td>No</td>\n",
              "      <td>Yes</td>\n",
              "      <td>Yes</td>\n",
              "      <td>Credit Card (automatic)</td>\n",
              "      <td>6.795513</td>\n",
              "      <td>171.449762</td>\n",
              "      <td>904.536110</td>\n",
              "      <td>5</td>\n",
              "      <td>5</td>\n",
              "      <td>5</td>\n",
              "      <td>3</td>\n",
              "      <td>4</td>\n",
              "      <td>4</td>\n",
              "      <td>3</td>\n",
              "      <td>4</td>\n",
              "    </tr>\n",
              "    <tr>\n",
              "      <th>2</th>\n",
              "      <td>2</td>\n",
              "      <td>S120509</td>\n",
              "      <td>fb76459f-c047-4a9d-8af9-e0f7d4ac2524</td>\n",
              "      <td>West Branch</td>\n",
              "      <td>MI</td>\n",
              "      <td>Ogemaw</td>\n",
              "      <td>48661</td>\n",
              "      <td>44.32893</td>\n",
              "      <td>-84.24080</td>\n",
              "      <td>10446</td>\n",
              "      <td>Urban</td>\n",
              "      <td>America/Detroit</td>\n",
              "      <td>Programmer, multimedia</td>\n",
              "      <td>1.0</td>\n",
              "      <td>27.0</td>\n",
              "      <td>Regular High School Diploma</td>\n",
              "      <td>Retired</td>\n",
              "      <td>21704.77</td>\n",
              "      <td>Married</td>\n",
              "      <td>Female</td>\n",
              "      <td>Yes</td>\n",
              "      <td>12.014541</td>\n",
              "      <td>12</td>\n",
              "      <td>0</td>\n",
              "      <td>1</td>\n",
              "      <td>Yes</td>\n",
              "      <td>Month-to-month</td>\n",
              "      <td>No</td>\n",
              "      <td>Yes</td>\n",
              "      <td>Fiber Optic</td>\n",
              "      <td>Yes</td>\n",
              "      <td>Yes</td>\n",
              "      <td>Yes</td>\n",
              "      <td>No</td>\n",
              "      <td>No</td>\n",
              "      <td>No</td>\n",
              "      <td>Yes</td>\n",
              "      <td>Yes</td>\n",
              "      <td>Yes</td>\n",
              "      <td>Bank Transfer(automatic)</td>\n",
              "      <td>1.156681</td>\n",
              "      <td>242.948015</td>\n",
              "      <td>800.982766</td>\n",
              "      <td>3</td>\n",
              "      <td>4</td>\n",
              "      <td>3</td>\n",
              "      <td>3</td>\n",
              "      <td>4</td>\n",
              "      <td>3</td>\n",
              "      <td>4</td>\n",
              "      <td>4</td>\n",
              "    </tr>\n",
              "    <tr>\n",
              "      <th>3</th>\n",
              "      <td>3</td>\n",
              "      <td>K191035</td>\n",
              "      <td>344d114c-3736-4be5-98f7-c72c281e2d35</td>\n",
              "      <td>Yamhill</td>\n",
              "      <td>OR</td>\n",
              "      <td>Yamhill</td>\n",
              "      <td>97148</td>\n",
              "      <td>45.35589</td>\n",
              "      <td>-123.24657</td>\n",
              "      <td>3735</td>\n",
              "      <td>Urban</td>\n",
              "      <td>America/Los_Angeles</td>\n",
              "      <td>Chief Financial Officer</td>\n",
              "      <td>4.0</td>\n",
              "      <td>50.0</td>\n",
              "      <td>Regular High School Diploma</td>\n",
              "      <td>Student</td>\n",
              "      <td>NaN</td>\n",
              "      <td>Widowed</td>\n",
              "      <td>Female</td>\n",
              "      <td>No</td>\n",
              "      <td>10.245616</td>\n",
              "      <td>9</td>\n",
              "      <td>0</td>\n",
              "      <td>1</td>\n",
              "      <td>Yes</td>\n",
              "      <td>Two Year</td>\n",
              "      <td>Yes</td>\n",
              "      <td>No</td>\n",
              "      <td>DSL</td>\n",
              "      <td>Yes</td>\n",
              "      <td>Yes</td>\n",
              "      <td>No</td>\n",
              "      <td>No</td>\n",
              "      <td>No</td>\n",
              "      <td>No</td>\n",
              "      <td>No</td>\n",
              "      <td>Yes</td>\n",
              "      <td>Yes</td>\n",
              "      <td>Credit Card (automatic)</td>\n",
              "      <td>15.754144</td>\n",
              "      <td>159.440398</td>\n",
              "      <td>2054.706961</td>\n",
              "      <td>4</td>\n",
              "      <td>4</td>\n",
              "      <td>2</td>\n",
              "      <td>4</td>\n",
              "      <td>4</td>\n",
              "      <td>3</td>\n",
              "      <td>3</td>\n",
              "      <td>3</td>\n",
              "    </tr>\n",
              "    <tr>\n",
              "      <th>4</th>\n",
              "      <td>4</td>\n",
              "      <td>D90850</td>\n",
              "      <td>abfa2b40-2d43-4994-b15a-989b8c79e311</td>\n",
              "      <td>Del Mar</td>\n",
              "      <td>CA</td>\n",
              "      <td>San Diego</td>\n",
              "      <td>92014</td>\n",
              "      <td>32.96687</td>\n",
              "      <td>-117.24798</td>\n",
              "      <td>13863</td>\n",
              "      <td>Suburban</td>\n",
              "      <td>America/Los_Angeles</td>\n",
              "      <td>Solicitor</td>\n",
              "      <td>1.0</td>\n",
              "      <td>48.0</td>\n",
              "      <td>Doctorate Degree</td>\n",
              "      <td>Retired</td>\n",
              "      <td>18925.23</td>\n",
              "      <td>Married</td>\n",
              "      <td>Male</td>\n",
              "      <td>No</td>\n",
              "      <td>15.206193</td>\n",
              "      <td>15</td>\n",
              "      <td>2</td>\n",
              "      <td>0</td>\n",
              "      <td>Yes</td>\n",
              "      <td>Two Year</td>\n",
              "      <td>No</td>\n",
              "      <td>No</td>\n",
              "      <td>DSL</td>\n",
              "      <td>Yes</td>\n",
              "      <td>No</td>\n",
              "      <td>Yes</td>\n",
              "      <td>No</td>\n",
              "      <td>No</td>\n",
              "      <td>No</td>\n",
              "      <td>Yes</td>\n",
              "      <td>No</td>\n",
              "      <td>Yes</td>\n",
              "      <td>Mailed Check</td>\n",
              "      <td>17.087227</td>\n",
              "      <td>120.249493</td>\n",
              "      <td>2164.579412</td>\n",
              "      <td>4</td>\n",
              "      <td>4</td>\n",
              "      <td>4</td>\n",
              "      <td>2</td>\n",
              "      <td>5</td>\n",
              "      <td>4</td>\n",
              "      <td>3</td>\n",
              "      <td>3</td>\n",
              "    </tr>\n",
              "    <tr>\n",
              "      <th>5</th>\n",
              "      <td>5</td>\n",
              "      <td>K662701</td>\n",
              "      <td>68a861fd-0d20-4e51-a587-8a90407ee574</td>\n",
              "      <td>Needville</td>\n",
              "      <td>TX</td>\n",
              "      <td>Fort Bend</td>\n",
              "      <td>77461</td>\n",
              "      <td>29.38012</td>\n",
              "      <td>-95.80673</td>\n",
              "      <td>11352</td>\n",
              "      <td>Suburban</td>\n",
              "      <td>America/Chicago</td>\n",
              "      <td>Medical illustrator</td>\n",
              "      <td>0.0</td>\n",
              "      <td>83.0</td>\n",
              "      <td>Master's Degree</td>\n",
              "      <td>Student</td>\n",
              "      <td>40074.19</td>\n",
              "      <td>Separated</td>\n",
              "      <td>Male</td>\n",
              "      <td>Yes</td>\n",
              "      <td>8.960316</td>\n",
              "      <td>16</td>\n",
              "      <td>2</td>\n",
              "      <td>1</td>\n",
              "      <td>No</td>\n",
              "      <td>Month-to-month</td>\n",
              "      <td>Yes</td>\n",
              "      <td>No</td>\n",
              "      <td>Fiber Optic</td>\n",
              "      <td>No</td>\n",
              "      <td>No</td>\n",
              "      <td>No</td>\n",
              "      <td>No</td>\n",
              "      <td>No</td>\n",
              "      <td>Yes</td>\n",
              "      <td>Yes</td>\n",
              "      <td>No</td>\n",
              "      <td>No</td>\n",
              "      <td>Mailed Check</td>\n",
              "      <td>1.670972</td>\n",
              "      <td>150.761216</td>\n",
              "      <td>271.493436</td>\n",
              "      <td>4</td>\n",
              "      <td>4</td>\n",
              "      <td>4</td>\n",
              "      <td>3</td>\n",
              "      <td>4</td>\n",
              "      <td>4</td>\n",
              "      <td>4</td>\n",
              "      <td>5</td>\n",
              "    </tr>\n",
              "    <tr>\n",
              "      <th>6</th>\n",
              "      <td>6</td>\n",
              "      <td>W303516</td>\n",
              "      <td>2b451d12-6c2b-4cea-a295-ba1d6bced078</td>\n",
              "      <td>Fort Valley</td>\n",
              "      <td>GA</td>\n",
              "      <td>Peach</td>\n",
              "      <td>31030</td>\n",
              "      <td>32.57032</td>\n",
              "      <td>-83.89040</td>\n",
              "      <td>17701</td>\n",
              "      <td>Urban</td>\n",
              "      <td>America/New_York</td>\n",
              "      <td>Chief Technology Officer</td>\n",
              "      <td>3.0</td>\n",
              "      <td>83.0</td>\n",
              "      <td>No Schooling Completed</td>\n",
              "      <td>Full Time</td>\n",
              "      <td>NaN</td>\n",
              "      <td>Never Married</td>\n",
              "      <td>Female</td>\n",
              "      <td>No</td>\n",
              "      <td>7.814859</td>\n",
              "      <td>15</td>\n",
              "      <td>3</td>\n",
              "      <td>1</td>\n",
              "      <td>No</td>\n",
              "      <td>One year</td>\n",
              "      <td>Yes</td>\n",
              "      <td>No</td>\n",
              "      <td>None</td>\n",
              "      <td>Yes</td>\n",
              "      <td>Yes</td>\n",
              "      <td>Yes</td>\n",
              "      <td>Yes</td>\n",
              "      <td>Yes</td>\n",
              "      <td>No</td>\n",
              "      <td>No</td>\n",
              "      <td>Yes</td>\n",
              "      <td>No</td>\n",
              "      <td>Electronic Check</td>\n",
              "      <td>7.000994</td>\n",
              "      <td>184.401558</td>\n",
              "      <td>1039.357983</td>\n",
              "      <td>3</td>\n",
              "      <td>3</td>\n",
              "      <td>3</td>\n",
              "      <td>2</td>\n",
              "      <td>4</td>\n",
              "      <td>3</td>\n",
              "      <td>3</td>\n",
              "      <td>3</td>\n",
              "    </tr>\n",
              "    <tr>\n",
              "      <th>7</th>\n",
              "      <td>7</td>\n",
              "      <td>U335188</td>\n",
              "      <td>6630d501-838c-4be4-a59c-6f58c814ed6a</td>\n",
              "      <td>Pioneer</td>\n",
              "      <td>TN</td>\n",
              "      <td>Scott</td>\n",
              "      <td>37847</td>\n",
              "      <td>36.43420</td>\n",
              "      <td>-84.27892</td>\n",
              "      <td>2535</td>\n",
              "      <td>Suburban</td>\n",
              "      <td>America/New_York</td>\n",
              "      <td>Surveyor, hydrographic</td>\n",
              "      <td>0.0</td>\n",
              "      <td>NaN</td>\n",
              "      <td>Associate's Degree</td>\n",
              "      <td>Full Time</td>\n",
              "      <td>11467.50</td>\n",
              "      <td>Widowed</td>\n",
              "      <td>Male</td>\n",
              "      <td>Yes</td>\n",
              "      <td>11.129094</td>\n",
              "      <td>10</td>\n",
              "      <td>0</td>\n",
              "      <td>1</td>\n",
              "      <td>Yes</td>\n",
              "      <td>Month-to-month</td>\n",
              "      <td>No</td>\n",
              "      <td>No</td>\n",
              "      <td>DSL</td>\n",
              "      <td>Yes</td>\n",
              "      <td>No</td>\n",
              "      <td>No</td>\n",
              "      <td>No</td>\n",
              "      <td>No</td>\n",
              "      <td>Yes</td>\n",
              "      <td>Yes</td>\n",
              "      <td>Yes</td>\n",
              "      <td>No</td>\n",
              "      <td>Electronic Check</td>\n",
              "      <td>13.236774</td>\n",
              "      <td>200.064886</td>\n",
              "      <td>1907.242972</td>\n",
              "      <td>6</td>\n",
              "      <td>5</td>\n",
              "      <td>6</td>\n",
              "      <td>4</td>\n",
              "      <td>1</td>\n",
              "      <td>5</td>\n",
              "      <td>5</td>\n",
              "      <td>5</td>\n",
              "    </tr>\n",
              "    <tr>\n",
              "      <th>8</th>\n",
              "      <td>8</td>\n",
              "      <td>V538685</td>\n",
              "      <td>70ddaa89-b726-49dc-9022-2d655e4c7936</td>\n",
              "      <td>Oklahoma City</td>\n",
              "      <td>OK</td>\n",
              "      <td>Oklahoma</td>\n",
              "      <td>73109</td>\n",
              "      <td>35.43313</td>\n",
              "      <td>-97.52463</td>\n",
              "      <td>23144</td>\n",
              "      <td>Suburban</td>\n",
              "      <td>America/Chicago</td>\n",
              "      <td>Sales promotion account executive</td>\n",
              "      <td>2.0</td>\n",
              "      <td>NaN</td>\n",
              "      <td>Bachelor's Degree</td>\n",
              "      <td>Full Time</td>\n",
              "      <td>26759.64</td>\n",
              "      <td>Married</td>\n",
              "      <td>Female</td>\n",
              "      <td>Yes</td>\n",
              "      <td>7.594838</td>\n",
              "      <td>16</td>\n",
              "      <td>0</td>\n",
              "      <td>0</td>\n",
              "      <td>Yes</td>\n",
              "      <td>Month-to-month</td>\n",
              "      <td>No</td>\n",
              "      <td>No</td>\n",
              "      <td>DSL</td>\n",
              "      <td>No</td>\n",
              "      <td>No</td>\n",
              "      <td>No</td>\n",
              "      <td>Yes</td>\n",
              "      <td>No</td>\n",
              "      <td>No</td>\n",
              "      <td>No</td>\n",
              "      <td>No</td>\n",
              "      <td>Yes</td>\n",
              "      <td>Mailed Check</td>\n",
              "      <td>NaN</td>\n",
              "      <td>114.754111</td>\n",
              "      <td>979.612708</td>\n",
              "      <td>2</td>\n",
              "      <td>2</td>\n",
              "      <td>2</td>\n",
              "      <td>5</td>\n",
              "      <td>2</td>\n",
              "      <td>3</td>\n",
              "      <td>4</td>\n",
              "      <td>5</td>\n",
              "    </tr>\n",
              "    <tr>\n",
              "      <th>9</th>\n",
              "      <td>9</td>\n",
              "      <td>M716771</td>\n",
              "      <td>05a49ee3-8fd5-453a-a5f3-82b6cd986856</td>\n",
              "      <td>Saint Cloud</td>\n",
              "      <td>FL</td>\n",
              "      <td>Osceola</td>\n",
              "      <td>34771</td>\n",
              "      <td>28.27646</td>\n",
              "      <td>-81.16273</td>\n",
              "      <td>17351</td>\n",
              "      <td>Suburban</td>\n",
              "      <td>America/New_York</td>\n",
              "      <td>Teaching laboratory technician</td>\n",
              "      <td>2.0</td>\n",
              "      <td>49.0</td>\n",
              "      <td>Some College, Less than 1 Year</td>\n",
              "      <td>Full Time</td>\n",
              "      <td>58634.51</td>\n",
              "      <td>Separated</td>\n",
              "      <td>Prefer not to answer</td>\n",
              "      <td>No</td>\n",
              "      <td>6.637259</td>\n",
              "      <td>20</td>\n",
              "      <td>2</td>\n",
              "      <td>3</td>\n",
              "      <td>NaN</td>\n",
              "      <td>Month-to-month</td>\n",
              "      <td>Yes</td>\n",
              "      <td>No</td>\n",
              "      <td>DSL</td>\n",
              "      <td>Yes</td>\n",
              "      <td>No</td>\n",
              "      <td>Yes</td>\n",
              "      <td>Yes</td>\n",
              "      <td>No</td>\n",
              "      <td>No</td>\n",
              "      <td>No</td>\n",
              "      <td>No</td>\n",
              "      <td>Yes</td>\n",
              "      <td>Bank Transfer(automatic)</td>\n",
              "      <td>8.220686</td>\n",
              "      <td>118.366844</td>\n",
              "      <td>1312.874964</td>\n",
              "      <td>5</td>\n",
              "      <td>4</td>\n",
              "      <td>4</td>\n",
              "      <td>3</td>\n",
              "      <td>4</td>\n",
              "      <td>3</td>\n",
              "      <td>4</td>\n",
              "      <td>4</td>\n",
              "    </tr>\n",
              "    <tr>\n",
              "      <th>10</th>\n",
              "      <td>10</td>\n",
              "      <td>I676080</td>\n",
              "      <td>86f17e4d-2c24-4b70-a6ec-dddf0609dbaa</td>\n",
              "      <td>Cincinnati</td>\n",
              "      <td>OH</td>\n",
              "      <td>Hamilton</td>\n",
              "      <td>45237</td>\n",
              "      <td>39.19296</td>\n",
              "      <td>-84.45230</td>\n",
              "      <td>20193</td>\n",
              "      <td>Rural</td>\n",
              "      <td>America/New_York</td>\n",
              "      <td>Museum education officer</td>\n",
              "      <td>NaN</td>\n",
              "      <td>86.0</td>\n",
              "      <td>GED or Alternative Credential</td>\n",
              "      <td>Full Time</td>\n",
              "      <td>50231.40</td>\n",
              "      <td>Married</td>\n",
              "      <td>Female</td>\n",
              "      <td>No</td>\n",
              "      <td>9.230409</td>\n",
              "      <td>18</td>\n",
              "      <td>1</td>\n",
              "      <td>0</td>\n",
              "      <td>NaN</td>\n",
              "      <td>Two Year</td>\n",
              "      <td>Yes</td>\n",
              "      <td>No</td>\n",
              "      <td>Fiber Optic</td>\n",
              "      <td>Yes</td>\n",
              "      <td>No</td>\n",
              "      <td>Yes</td>\n",
              "      <td>No</td>\n",
              "      <td>Yes</td>\n",
              "      <td>NaN</td>\n",
              "      <td>No</td>\n",
              "      <td>Yes</td>\n",
              "      <td>Yes</td>\n",
              "      <td>Mailed Check</td>\n",
              "      <td>3.422086</td>\n",
              "      <td>163.005280</td>\n",
              "      <td>508.763791</td>\n",
              "      <td>2</td>\n",
              "      <td>2</td>\n",
              "      <td>2</td>\n",
              "      <td>2</td>\n",
              "      <td>5</td>\n",
              "      <td>2</td>\n",
              "      <td>3</td>\n",
              "      <td>3</td>\n",
              "    </tr>\n",
              "    <tr>\n",
              "      <th>11</th>\n",
              "      <td>11</td>\n",
              "      <td>J980369</td>\n",
              "      <td>89490f4b-765f-431a-b302-580aae7db71a</td>\n",
              "      <td>Little Meadows</td>\n",
              "      <td>PA</td>\n",
              "      <td>Susquehanna</td>\n",
              "      <td>18830</td>\n",
              "      <td>41.95142</td>\n",
              "      <td>-76.10744</td>\n",
              "      <td>555</td>\n",
              "      <td>Urban</td>\n",
              "      <td>America/New_York</td>\n",
              "      <td>Teacher, special educational needs</td>\n",
              "      <td>7.0</td>\n",
              "      <td>23.0</td>\n",
              "      <td>Regular High School Diploma</td>\n",
              "      <td>Full Time</td>\n",
              "      <td>NaN</td>\n",
              "      <td>Separated</td>\n",
              "      <td>Female</td>\n",
              "      <td>No</td>\n",
              "      <td>11.835113</td>\n",
              "      <td>9</td>\n",
              "      <td>0</td>\n",
              "      <td>2</td>\n",
              "      <td>No</td>\n",
              "      <td>Month-to-month</td>\n",
              "      <td>No</td>\n",
              "      <td>No</td>\n",
              "      <td>DSL</td>\n",
              "      <td>Yes</td>\n",
              "      <td>Yes</td>\n",
              "      <td>Yes</td>\n",
              "      <td>Yes</td>\n",
              "      <td>No</td>\n",
              "      <td>No</td>\n",
              "      <td>Yes</td>\n",
              "      <td>No</td>\n",
              "      <td>No</td>\n",
              "      <td>Mailed Check</td>\n",
              "      <td>19.267262</td>\n",
              "      <td>177.451599</td>\n",
              "      <td>2728.767869</td>\n",
              "      <td>4</td>\n",
              "      <td>4</td>\n",
              "      <td>4</td>\n",
              "      <td>7</td>\n",
              "      <td>3</td>\n",
              "      <td>3</td>\n",
              "      <td>3</td>\n",
              "      <td>4</td>\n",
              "    </tr>\n",
              "    <tr>\n",
              "      <th>12</th>\n",
              "      <td>12</td>\n",
              "      <td>E243720</td>\n",
              "      <td>c32b8522-d62a-49b1-a77a-e0534cb1378b</td>\n",
              "      <td>Corozal</td>\n",
              "      <td>PR</td>\n",
              "      <td>Corozal</td>\n",
              "      <td>783</td>\n",
              "      <td>18.30410</td>\n",
              "      <td>-66.32847</td>\n",
              "      <td>33372</td>\n",
              "      <td>Rural</td>\n",
              "      <td>America/Puerto_Rico</td>\n",
              "      <td>Maintenance engineer</td>\n",
              "      <td>2.0</td>\n",
              "      <td>56.0</td>\n",
              "      <td>Bachelor's Degree</td>\n",
              "      <td>Full Time</td>\n",
              "      <td>18342.12</td>\n",
              "      <td>Married</td>\n",
              "      <td>Female</td>\n",
              "      <td>No</td>\n",
              "      <td>5.082821</td>\n",
              "      <td>17</td>\n",
              "      <td>1</td>\n",
              "      <td>1</td>\n",
              "      <td>No</td>\n",
              "      <td>Month-to-month</td>\n",
              "      <td>Yes</td>\n",
              "      <td>No</td>\n",
              "      <td>Fiber Optic</td>\n",
              "      <td>Yes</td>\n",
              "      <td>No</td>\n",
              "      <td>No</td>\n",
              "      <td>No</td>\n",
              "      <td>Yes</td>\n",
              "      <td>No</td>\n",
              "      <td>Yes</td>\n",
              "      <td>No</td>\n",
              "      <td>No</td>\n",
              "      <td>Electronic Check</td>\n",
              "      <td>NaN</td>\n",
              "      <td>148.364087</td>\n",
              "      <td>1180.588788</td>\n",
              "      <td>4</td>\n",
              "      <td>4</td>\n",
              "      <td>3</td>\n",
              "      <td>4</td>\n",
              "      <td>4</td>\n",
              "      <td>4</td>\n",
              "      <td>3</td>\n",
              "      <td>4</td>\n",
              "    </tr>\n",
              "    <tr>\n",
              "      <th>13</th>\n",
              "      <td>13</td>\n",
              "      <td>F139569</td>\n",
              "      <td>4828f66e-5592-4c61-bbf4-313cf8731f1c</td>\n",
              "      <td>Conesville</td>\n",
              "      <td>IA</td>\n",
              "      <td>Muscatine</td>\n",
              "      <td>52739</td>\n",
              "      <td>41.37287</td>\n",
              "      <td>-91.36865</td>\n",
              "      <td>556</td>\n",
              "      <td>Rural</td>\n",
              "      <td>America/Chicago</td>\n",
              "      <td>Engineer, broadcasting (operations)</td>\n",
              "      <td>0.0</td>\n",
              "      <td>83.0</td>\n",
              "      <td>Master's Degree</td>\n",
              "      <td>Retired</td>\n",
              "      <td>83671.08</td>\n",
              "      <td>Divorced</td>\n",
              "      <td>Male</td>\n",
              "      <td>No</td>\n",
              "      <td>7.265961</td>\n",
              "      <td>9</td>\n",
              "      <td>0</td>\n",
              "      <td>0</td>\n",
              "      <td>No</td>\n",
              "      <td>Month-to-month</td>\n",
              "      <td>Yes</td>\n",
              "      <td>No</td>\n",
              "      <td>Fiber Optic</td>\n",
              "      <td>Yes</td>\n",
              "      <td>No</td>\n",
              "      <td>No</td>\n",
              "      <td>No</td>\n",
              "      <td>No</td>\n",
              "      <td>No</td>\n",
              "      <td>Yes</td>\n",
              "      <td>No</td>\n",
              "      <td>No</td>\n",
              "      <td>Bank Transfer(automatic)</td>\n",
              "      <td>13.011492</td>\n",
              "      <td>136.431239</td>\n",
              "      <td>1196.388018</td>\n",
              "      <td>1</td>\n",
              "      <td>2</td>\n",
              "      <td>1</td>\n",
              "      <td>4</td>\n",
              "      <td>3</td>\n",
              "      <td>2</td>\n",
              "      <td>3</td>\n",
              "      <td>3</td>\n",
              "    </tr>\n",
              "    <tr>\n",
              "      <th>14</th>\n",
              "      <td>14</td>\n",
              "      <td>X44200</td>\n",
              "      <td>780992d3-d758-4152-aceb-5d59edda3d15</td>\n",
              "      <td>East Livermore</td>\n",
              "      <td>ME</td>\n",
              "      <td>Androscoggin</td>\n",
              "      <td>4228</td>\n",
              "      <td>44.43256</td>\n",
              "      <td>-70.11501</td>\n",
              "      <td>0</td>\n",
              "      <td>Urban</td>\n",
              "      <td>America/New_York</td>\n",
              "      <td>Learning disability nurse</td>\n",
              "      <td>5.0</td>\n",
              "      <td>NaN</td>\n",
              "      <td>No Schooling Completed</td>\n",
              "      <td>Retired</td>\n",
              "      <td>115114.57</td>\n",
              "      <td>Separated</td>\n",
              "      <td>Female</td>\n",
              "      <td>No</td>\n",
              "      <td>6.568344</td>\n",
              "      <td>14</td>\n",
              "      <td>1</td>\n",
              "      <td>0</td>\n",
              "      <td>No</td>\n",
              "      <td>Two Year</td>\n",
              "      <td>Yes</td>\n",
              "      <td>Yes</td>\n",
              "      <td>Fiber Optic</td>\n",
              "      <td>Yes</td>\n",
              "      <td>Yes</td>\n",
              "      <td>Yes</td>\n",
              "      <td>No</td>\n",
              "      <td>No</td>\n",
              "      <td>Yes</td>\n",
              "      <td>Yes</td>\n",
              "      <td>No</td>\n",
              "      <td>Yes</td>\n",
              "      <td>Bank Transfer(automatic)</td>\n",
              "      <td>16.879220</td>\n",
              "      <td>185.659294</td>\n",
              "      <td>1948.694497</td>\n",
              "      <td>5</td>\n",
              "      <td>6</td>\n",
              "      <td>5</td>\n",
              "      <td>2</td>\n",
              "      <td>4</td>\n",
              "      <td>5</td>\n",
              "      <td>4</td>\n",
              "      <td>4</td>\n",
              "    </tr>\n",
              "    <tr>\n",
              "      <th>15</th>\n",
              "      <td>15</td>\n",
              "      <td>H68068</td>\n",
              "      <td>8dc7ad15-2f59-4c77-9640-6f2c0000b3fc</td>\n",
              "      <td>Hillside</td>\n",
              "      <td>IL</td>\n",
              "      <td>Cook</td>\n",
              "      <td>60162</td>\n",
              "      <td>41.86752</td>\n",
              "      <td>-87.90222</td>\n",
              "      <td>8165</td>\n",
              "      <td>Urban</td>\n",
              "      <td>America/Chicago</td>\n",
              "      <td>Automotive engineer</td>\n",
              "      <td>NaN</td>\n",
              "      <td>30.0</td>\n",
              "      <td>Associate's Degree</td>\n",
              "      <td>Full Time</td>\n",
              "      <td>64256.81</td>\n",
              "      <td>Separated</td>\n",
              "      <td>Male</td>\n",
              "      <td>Yes</td>\n",
              "      <td>12.630691</td>\n",
              "      <td>10</td>\n",
              "      <td>3</td>\n",
              "      <td>0</td>\n",
              "      <td>No</td>\n",
              "      <td>Month-to-month</td>\n",
              "      <td>No</td>\n",
              "      <td>No</td>\n",
              "      <td>DSL</td>\n",
              "      <td>No</td>\n",
              "      <td>Yes</td>\n",
              "      <td>No</td>\n",
              "      <td>Yes</td>\n",
              "      <td>No</td>\n",
              "      <td>Yes</td>\n",
              "      <td>No</td>\n",
              "      <td>No</td>\n",
              "      <td>Yes</td>\n",
              "      <td>Bank Transfer(automatic)</td>\n",
              "      <td>10.060199</td>\n",
              "      <td>160.805542</td>\n",
              "      <td>NaN</td>\n",
              "      <td>3</td>\n",
              "      <td>3</td>\n",
              "      <td>4</td>\n",
              "      <td>2</td>\n",
              "      <td>3</td>\n",
              "      <td>4</td>\n",
              "      <td>4</td>\n",
              "      <td>2</td>\n",
              "    </tr>\n",
              "    <tr>\n",
              "      <th>16</th>\n",
              "      <td>16</td>\n",
              "      <td>A403906</td>\n",
              "      <td>df437bd4-bd8a-4c8f-8110-11ed1a7723ea</td>\n",
              "      <td>Saint Germain</td>\n",
              "      <td>WI</td>\n",
              "      <td>Vilas</td>\n",
              "      <td>54558</td>\n",
              "      <td>45.92342</td>\n",
              "      <td>-89.50138</td>\n",
              "      <td>2093</td>\n",
              "      <td>Suburban</td>\n",
              "      <td>America/Chicago</td>\n",
              "      <td>Amenity horticulturist</td>\n",
              "      <td>NaN</td>\n",
              "      <td>39.0</td>\n",
              "      <td>Bachelor's Degree</td>\n",
              "      <td>Full Time</td>\n",
              "      <td>89061.45</td>\n",
              "      <td>Divorced</td>\n",
              "      <td>Male</td>\n",
              "      <td>Yes</td>\n",
              "      <td>9.482219</td>\n",
              "      <td>13</td>\n",
              "      <td>1</td>\n",
              "      <td>0</td>\n",
              "      <td>No</td>\n",
              "      <td>One year</td>\n",
              "      <td>No</td>\n",
              "      <td>No</td>\n",
              "      <td>None</td>\n",
              "      <td>Yes</td>\n",
              "      <td>No</td>\n",
              "      <td>Yes</td>\n",
              "      <td>No</td>\n",
              "      <td>No</td>\n",
              "      <td>No</td>\n",
              "      <td>Yes</td>\n",
              "      <td>Yes</td>\n",
              "      <td>Yes</td>\n",
              "      <td>Electronic Check</td>\n",
              "      <td>13.870013</td>\n",
              "      <td>176.334509</td>\n",
              "      <td>1840.014467</td>\n",
              "      <td>3</td>\n",
              "      <td>3</td>\n",
              "      <td>3</td>\n",
              "      <td>2</td>\n",
              "      <td>4</td>\n",
              "      <td>3</td>\n",
              "      <td>5</td>\n",
              "      <td>2</td>\n",
              "    </tr>\n",
              "    <tr>\n",
              "      <th>17</th>\n",
              "      <td>17</td>\n",
              "      <td>V847470</td>\n",
              "      <td>bbf5ca9f-cb89-44ea-ac42-3f5862ebdbd0</td>\n",
              "      <td>Modesto</td>\n",
              "      <td>CA</td>\n",
              "      <td>Stanislaus</td>\n",
              "      <td>95351</td>\n",
              "      <td>37.62326</td>\n",
              "      <td>-120.99637</td>\n",
              "      <td>50079</td>\n",
              "      <td>Urban</td>\n",
              "      <td>America/Los_Angeles</td>\n",
              "      <td>Applications developer</td>\n",
              "      <td>NaN</td>\n",
              "      <td>63.0</td>\n",
              "      <td>Some College, 1 or More Years, No Degree</td>\n",
              "      <td>Retired</td>\n",
              "      <td>31659.30</td>\n",
              "      <td>Married</td>\n",
              "      <td>Female</td>\n",
              "      <td>Yes</td>\n",
              "      <td>14.429165</td>\n",
              "      <td>13</td>\n",
              "      <td>1</td>\n",
              "      <td>0</td>\n",
              "      <td>No</td>\n",
              "      <td>Month-to-month</td>\n",
              "      <td>Yes</td>\n",
              "      <td>No</td>\n",
              "      <td>DSL</td>\n",
              "      <td>Yes</td>\n",
              "      <td>Yes</td>\n",
              "      <td>No</td>\n",
              "      <td>Yes</td>\n",
              "      <td>Yes</td>\n",
              "      <td>No</td>\n",
              "      <td>No</td>\n",
              "      <td>Yes</td>\n",
              "      <td>Yes</td>\n",
              "      <td>Bank Transfer(automatic)</td>\n",
              "      <td>15.782150</td>\n",
              "      <td>195.872604</td>\n",
              "      <td>2070.376729</td>\n",
              "      <td>3</td>\n",
              "      <td>4</td>\n",
              "      <td>4</td>\n",
              "      <td>3</td>\n",
              "      <td>5</td>\n",
              "      <td>4</td>\n",
              "      <td>4</td>\n",
              "      <td>3</td>\n",
              "    </tr>\n",
              "    <tr>\n",
              "      <th>18</th>\n",
              "      <td>18</td>\n",
              "      <td>F721878</td>\n",
              "      <td>5c3548de-4744-4167-9412-3f018262bab2</td>\n",
              "      <td>Parkton</td>\n",
              "      <td>NC</td>\n",
              "      <td>Robeson</td>\n",
              "      <td>28371</td>\n",
              "      <td>34.90636</td>\n",
              "      <td>-78.98944</td>\n",
              "      <td>7249</td>\n",
              "      <td>Rural</td>\n",
              "      <td>America/New_York</td>\n",
              "      <td>Immunologist</td>\n",
              "      <td>NaN</td>\n",
              "      <td>60.0</td>\n",
              "      <td>9th Grade to 12th Grade, No Diploma</td>\n",
              "      <td>Retired</td>\n",
              "      <td>44142.81</td>\n",
              "      <td>Separated</td>\n",
              "      <td>Male</td>\n",
              "      <td>Yes</td>\n",
              "      <td>10.217903</td>\n",
              "      <td>16</td>\n",
              "      <td>3</td>\n",
              "      <td>0</td>\n",
              "      <td>No</td>\n",
              "      <td>Two Year</td>\n",
              "      <td>No</td>\n",
              "      <td>No</td>\n",
              "      <td>None</td>\n",
              "      <td>Yes</td>\n",
              "      <td>No</td>\n",
              "      <td>Yes</td>\n",
              "      <td>No</td>\n",
              "      <td>Yes</td>\n",
              "      <td>Yes</td>\n",
              "      <td>Yes</td>\n",
              "      <td>Yes</td>\n",
              "      <td>No</td>\n",
              "      <td>Mailed Check</td>\n",
              "      <td>NaN</td>\n",
              "      <td>203.069597</td>\n",
              "      <td>882.098593</td>\n",
              "      <td>2</td>\n",
              "      <td>2</td>\n",
              "      <td>4</td>\n",
              "      <td>3</td>\n",
              "      <td>3</td>\n",
              "      <td>4</td>\n",
              "      <td>3</td>\n",
              "      <td>3</td>\n",
              "    </tr>\n",
              "    <tr>\n",
              "      <th>19</th>\n",
              "      <td>19</td>\n",
              "      <td>F487435</td>\n",
              "      <td>200fad69-1e40-4de6-9222-df84d8925000</td>\n",
              "      <td>Oakland</td>\n",
              "      <td>TN</td>\n",
              "      <td>Fayette</td>\n",
              "      <td>38060</td>\n",
              "      <td>35.20910</td>\n",
              "      <td>-89.50332</td>\n",
              "      <td>9463</td>\n",
              "      <td>Rural</td>\n",
              "      <td>America/Chicago</td>\n",
              "      <td>Engineer, electrical</td>\n",
              "      <td>3.0</td>\n",
              "      <td>61.0</td>\n",
              "      <td>Regular High School Diploma</td>\n",
              "      <td>Full Time</td>\n",
              "      <td>39262.14</td>\n",
              "      <td>Widowed</td>\n",
              "      <td>Female</td>\n",
              "      <td>No</td>\n",
              "      <td>11.101068</td>\n",
              "      <td>11</td>\n",
              "      <td>1</td>\n",
              "      <td>0</td>\n",
              "      <td>Yes</td>\n",
              "      <td>Two Year</td>\n",
              "      <td>Yes</td>\n",
              "      <td>No</td>\n",
              "      <td>None</td>\n",
              "      <td>Yes</td>\n",
              "      <td>No</td>\n",
              "      <td>No</td>\n",
              "      <td>Yes</td>\n",
              "      <td>Yes</td>\n",
              "      <td>Yes</td>\n",
              "      <td>Yes</td>\n",
              "      <td>No</td>\n",
              "      <td>Yes</td>\n",
              "      <td>Bank Transfer(automatic)</td>\n",
              "      <td>17.109956</td>\n",
              "      <td>154.017102</td>\n",
              "      <td>1833.096700</td>\n",
              "      <td>3</td>\n",
              "      <td>4</td>\n",
              "      <td>3</td>\n",
              "      <td>4</td>\n",
              "      <td>3</td>\n",
              "      <td>2</td>\n",
              "      <td>3</td>\n",
              "      <td>5</td>\n",
              "    </tr>\n",
              "    <tr>\n",
              "      <th>20</th>\n",
              "      <td>20</td>\n",
              "      <td>B561228</td>\n",
              "      <td>5ff2d3a8-6e9f-4bfa-af2b-04e5cdc0a1e0</td>\n",
              "      <td>Trafford</td>\n",
              "      <td>AL</td>\n",
              "      <td>Blount</td>\n",
              "      <td>35172</td>\n",
              "      <td>33.84469</td>\n",
              "      <td>-86.69740</td>\n",
              "      <td>3177</td>\n",
              "      <td>Rural</td>\n",
              "      <td>America/Chicago</td>\n",
              "      <td>Broadcast presenter</td>\n",
              "      <td>3.0</td>\n",
              "      <td>23.0</td>\n",
              "      <td>Associate's Degree</td>\n",
              "      <td>Part Time</td>\n",
              "      <td>19494.75</td>\n",
              "      <td>Divorced</td>\n",
              "      <td>Male</td>\n",
              "      <td>Yes</td>\n",
              "      <td>11.088532</td>\n",
              "      <td>10</td>\n",
              "      <td>1</td>\n",
              "      <td>0</td>\n",
              "      <td>No</td>\n",
              "      <td>Month-to-month</td>\n",
              "      <td>Yes</td>\n",
              "      <td>No</td>\n",
              "      <td>DSL</td>\n",
              "      <td>Yes</td>\n",
              "      <td>Yes</td>\n",
              "      <td>No</td>\n",
              "      <td>No</td>\n",
              "      <td>No</td>\n",
              "      <td>No</td>\n",
              "      <td>Yes</td>\n",
              "      <td>No</td>\n",
              "      <td>Yes</td>\n",
              "      <td>Credit Card (automatic)</td>\n",
              "      <td>12.806158</td>\n",
              "      <td>150.110739</td>\n",
              "      <td>1954.080809</td>\n",
              "      <td>5</td>\n",
              "      <td>5</td>\n",
              "      <td>5</td>\n",
              "      <td>4</td>\n",
              "      <td>4</td>\n",
              "      <td>4</td>\n",
              "      <td>3</td>\n",
              "      <td>3</td>\n",
              "    </tr>\n",
              "  </tbody>\n",
              "</table>\n",
              "</div>\n",
              "    <div class=\"colab-df-buttons\">\n",
              "\n",
              "  <div class=\"colab-df-container\">\n",
              "    <button class=\"colab-df-convert\" onclick=\"convertToInteractive('df-0a748dc4-b82e-42cd-a85b-869387b63fa8')\"\n",
              "            title=\"Convert this dataframe to an interactive table.\"\n",
              "            style=\"display:none;\">\n",
              "\n",
              "  <svg xmlns=\"http://www.w3.org/2000/svg\" height=\"24px\" viewBox=\"0 -960 960 960\">\n",
              "    <path d=\"M120-120v-720h720v720H120Zm60-500h600v-160H180v160Zm220 220h160v-160H400v160Zm0 220h160v-160H400v160ZM180-400h160v-160H180v160Zm440 0h160v-160H620v160ZM180-180h160v-160H180v160Zm440 0h160v-160H620v160Z\"/>\n",
              "  </svg>\n",
              "    </button>\n",
              "\n",
              "  <style>\n",
              "    .colab-df-container {\n",
              "      display:flex;\n",
              "      gap: 12px;\n",
              "    }\n",
              "\n",
              "    .colab-df-convert {\n",
              "      background-color: #E8F0FE;\n",
              "      border: none;\n",
              "      border-radius: 50%;\n",
              "      cursor: pointer;\n",
              "      display: none;\n",
              "      fill: #1967D2;\n",
              "      height: 32px;\n",
              "      padding: 0 0 0 0;\n",
              "      width: 32px;\n",
              "    }\n",
              "\n",
              "    .colab-df-convert:hover {\n",
              "      background-color: #E2EBFA;\n",
              "      box-shadow: 0px 1px 2px rgba(60, 64, 67, 0.3), 0px 1px 3px 1px rgba(60, 64, 67, 0.15);\n",
              "      fill: #174EA6;\n",
              "    }\n",
              "\n",
              "    .colab-df-buttons div {\n",
              "      margin-bottom: 4px;\n",
              "    }\n",
              "\n",
              "    [theme=dark] .colab-df-convert {\n",
              "      background-color: #3B4455;\n",
              "      fill: #D2E3FC;\n",
              "    }\n",
              "\n",
              "    [theme=dark] .colab-df-convert:hover {\n",
              "      background-color: #434B5C;\n",
              "      box-shadow: 0px 1px 3px 1px rgba(0, 0, 0, 0.15);\n",
              "      filter: drop-shadow(0px 1px 2px rgba(0, 0, 0, 0.3));\n",
              "      fill: #FFFFFF;\n",
              "    }\n",
              "  </style>\n",
              "\n",
              "    <script>\n",
              "      const buttonEl =\n",
              "        document.querySelector('#df-0a748dc4-b82e-42cd-a85b-869387b63fa8 button.colab-df-convert');\n",
              "      buttonEl.style.display =\n",
              "        google.colab.kernel.accessAllowed ? 'block' : 'none';\n",
              "\n",
              "      async function convertToInteractive(key) {\n",
              "        const element = document.querySelector('#df-0a748dc4-b82e-42cd-a85b-869387b63fa8');\n",
              "        const dataTable =\n",
              "          await google.colab.kernel.invokeFunction('convertToInteractive',\n",
              "                                                    [key], {});\n",
              "        if (!dataTable) return;\n",
              "\n",
              "        const docLinkHtml = 'Like what you see? Visit the ' +\n",
              "          '<a target=\"_blank\" href=https://colab.research.google.com/notebooks/data_table.ipynb>data table notebook</a>'\n",
              "          + ' to learn more about interactive tables.';\n",
              "        element.innerHTML = '';\n",
              "        dataTable['output_type'] = 'display_data';\n",
              "        await google.colab.output.renderOutput(dataTable, element);\n",
              "        const docLink = document.createElement('div');\n",
              "        docLink.innerHTML = docLinkHtml;\n",
              "        element.appendChild(docLink);\n",
              "      }\n",
              "    </script>\n",
              "  </div>\n",
              "\n",
              "\n",
              "<div id=\"df-17b911b3-75ea-4418-bcfd-40c285441291\">\n",
              "  <button class=\"colab-df-quickchart\" onclick=\"quickchart('df-17b911b3-75ea-4418-bcfd-40c285441291')\"\n",
              "            title=\"Suggest charts\"\n",
              "            style=\"display:none;\">\n",
              "\n",
              "<svg xmlns=\"http://www.w3.org/2000/svg\" height=\"24px\"viewBox=\"0 0 24 24\"\n",
              "     width=\"24px\">\n",
              "    <g>\n",
              "        <path d=\"M19 3H5c-1.1 0-2 .9-2 2v14c0 1.1.9 2 2 2h14c1.1 0 2-.9 2-2V5c0-1.1-.9-2-2-2zM9 17H7v-7h2v7zm4 0h-2V7h2v10zm4 0h-2v-4h2v4z\"/>\n",
              "    </g>\n",
              "</svg>\n",
              "  </button>\n",
              "\n",
              "<style>\n",
              "  .colab-df-quickchart {\n",
              "      --bg-color: #E8F0FE;\n",
              "      --fill-color: #1967D2;\n",
              "      --hover-bg-color: #E2EBFA;\n",
              "      --hover-fill-color: #174EA6;\n",
              "      --disabled-fill-color: #AAA;\n",
              "      --disabled-bg-color: #DDD;\n",
              "  }\n",
              "\n",
              "  [theme=dark] .colab-df-quickchart {\n",
              "      --bg-color: #3B4455;\n",
              "      --fill-color: #D2E3FC;\n",
              "      --hover-bg-color: #434B5C;\n",
              "      --hover-fill-color: #FFFFFF;\n",
              "      --disabled-bg-color: #3B4455;\n",
              "      --disabled-fill-color: #666;\n",
              "  }\n",
              "\n",
              "  .colab-df-quickchart {\n",
              "    background-color: var(--bg-color);\n",
              "    border: none;\n",
              "    border-radius: 50%;\n",
              "    cursor: pointer;\n",
              "    display: none;\n",
              "    fill: var(--fill-color);\n",
              "    height: 32px;\n",
              "    padding: 0;\n",
              "    width: 32px;\n",
              "  }\n",
              "\n",
              "  .colab-df-quickchart:hover {\n",
              "    background-color: var(--hover-bg-color);\n",
              "    box-shadow: 0 1px 2px rgba(60, 64, 67, 0.3), 0 1px 3px 1px rgba(60, 64, 67, 0.15);\n",
              "    fill: var(--button-hover-fill-color);\n",
              "  }\n",
              "\n",
              "  .colab-df-quickchart-complete:disabled,\n",
              "  .colab-df-quickchart-complete:disabled:hover {\n",
              "    background-color: var(--disabled-bg-color);\n",
              "    fill: var(--disabled-fill-color);\n",
              "    box-shadow: none;\n",
              "  }\n",
              "\n",
              "  .colab-df-spinner {\n",
              "    border: 2px solid var(--fill-color);\n",
              "    border-color: transparent;\n",
              "    border-bottom-color: var(--fill-color);\n",
              "    animation:\n",
              "      spin 1s steps(1) infinite;\n",
              "  }\n",
              "\n",
              "  @keyframes spin {\n",
              "    0% {\n",
              "      border-color: transparent;\n",
              "      border-bottom-color: var(--fill-color);\n",
              "      border-left-color: var(--fill-color);\n",
              "    }\n",
              "    20% {\n",
              "      border-color: transparent;\n",
              "      border-left-color: var(--fill-color);\n",
              "      border-top-color: var(--fill-color);\n",
              "    }\n",
              "    30% {\n",
              "      border-color: transparent;\n",
              "      border-left-color: var(--fill-color);\n",
              "      border-top-color: var(--fill-color);\n",
              "      border-right-color: var(--fill-color);\n",
              "    }\n",
              "    40% {\n",
              "      border-color: transparent;\n",
              "      border-right-color: var(--fill-color);\n",
              "      border-top-color: var(--fill-color);\n",
              "    }\n",
              "    60% {\n",
              "      border-color: transparent;\n",
              "      border-right-color: var(--fill-color);\n",
              "    }\n",
              "    80% {\n",
              "      border-color: transparent;\n",
              "      border-right-color: var(--fill-color);\n",
              "      border-bottom-color: var(--fill-color);\n",
              "    }\n",
              "    90% {\n",
              "      border-color: transparent;\n",
              "      border-bottom-color: var(--fill-color);\n",
              "    }\n",
              "  }\n",
              "</style>\n",
              "\n",
              "  <script>\n",
              "    async function quickchart(key) {\n",
              "      const quickchartButtonEl =\n",
              "        document.querySelector('#' + key + ' button');\n",
              "      quickchartButtonEl.disabled = true;  // To prevent multiple clicks.\n",
              "      quickchartButtonEl.classList.add('colab-df-spinner');\n",
              "      try {\n",
              "        const charts = await google.colab.kernel.invokeFunction(\n",
              "            'suggestCharts', [key], {});\n",
              "      } catch (error) {\n",
              "        console.error('Error during call to suggestCharts:', error);\n",
              "      }\n",
              "      quickchartButtonEl.classList.remove('colab-df-spinner');\n",
              "      quickchartButtonEl.classList.add('colab-df-quickchart-complete');\n",
              "    }\n",
              "    (() => {\n",
              "      let quickchartButtonEl =\n",
              "        document.querySelector('#df-17b911b3-75ea-4418-bcfd-40c285441291 button');\n",
              "      quickchartButtonEl.style.display =\n",
              "        google.colab.kernel.accessAllowed ? 'block' : 'none';\n",
              "    })();\n",
              "  </script>\n",
              "</div>\n",
              "\n",
              "    </div>\n",
              "  </div>\n"
            ],
            "application/vnd.google.colaboratory.intrinsic+json": {
              "type": "dataframe",
              "variable_name": "churndf"
            }
          },
          "metadata": {},
          "execution_count": 199
        }
      ]
    },
    {
      "cell_type": "markdown",
      "source": [
        "## Drop Duplicate Unnamed Column"
      ],
      "metadata": {
        "id": "Gfvj8TVZ9xmU"
      }
    },
    {
      "cell_type": "code",
      "source": [
        "#Drop unnamed column (duplicate of CaseOrder)\n",
        "churndf = churndf.drop(columns='Unnamed: 0')"
      ],
      "metadata": {
        "id": "brRjuzeXOrSo"
      },
      "execution_count": 200,
      "outputs": []
    },
    {
      "cell_type": "code",
      "source": [
        "churndf.head(20)"
      ],
      "metadata": {
        "colab": {
          "base_uri": "https://localhost:8080/",
          "height": 1000
        },
        "id": "2afCd3aCPJED",
        "outputId": "e19f8f8d-4982-4d5b-a392-e900e1b82cbf"
      },
      "execution_count": 201,
      "outputs": [
        {
          "output_type": "execute_result",
          "data": {
            "text/plain": [
              "          Customer_id                           Interaction            City  \\\n",
              "CaseOrder                                                                     \n",
              "1             K409198  aa90260b-4141-4a24-8e36-b04ce1f4f77b     Point Baker   \n",
              "2             S120509  fb76459f-c047-4a9d-8af9-e0f7d4ac2524     West Branch   \n",
              "3             K191035  344d114c-3736-4be5-98f7-c72c281e2d35         Yamhill   \n",
              "4              D90850  abfa2b40-2d43-4994-b15a-989b8c79e311         Del Mar   \n",
              "5             K662701  68a861fd-0d20-4e51-a587-8a90407ee574       Needville   \n",
              "6             W303516  2b451d12-6c2b-4cea-a295-ba1d6bced078     Fort Valley   \n",
              "7             U335188  6630d501-838c-4be4-a59c-6f58c814ed6a         Pioneer   \n",
              "8             V538685  70ddaa89-b726-49dc-9022-2d655e4c7936   Oklahoma City   \n",
              "9             M716771  05a49ee3-8fd5-453a-a5f3-82b6cd986856     Saint Cloud   \n",
              "10            I676080  86f17e4d-2c24-4b70-a6ec-dddf0609dbaa      Cincinnati   \n",
              "11            J980369  89490f4b-765f-431a-b302-580aae7db71a  Little Meadows   \n",
              "12            E243720  c32b8522-d62a-49b1-a77a-e0534cb1378b         Corozal   \n",
              "13            F139569  4828f66e-5592-4c61-bbf4-313cf8731f1c      Conesville   \n",
              "14             X44200  780992d3-d758-4152-aceb-5d59edda3d15  East Livermore   \n",
              "15             H68068  8dc7ad15-2f59-4c77-9640-6f2c0000b3fc        Hillside   \n",
              "16            A403906  df437bd4-bd8a-4c8f-8110-11ed1a7723ea   Saint Germain   \n",
              "17            V847470  bbf5ca9f-cb89-44ea-ac42-3f5862ebdbd0         Modesto   \n",
              "18            F721878  5c3548de-4744-4167-9412-3f018262bab2         Parkton   \n",
              "19            F487435  200fad69-1e40-4de6-9222-df84d8925000         Oakland   \n",
              "20            B561228  5ff2d3a8-6e9f-4bfa-af2b-04e5cdc0a1e0        Trafford   \n",
              "\n",
              "          State                 County    Zip       Lat        Lng  \\\n",
              "CaseOrder                                                            \n",
              "1            AK  Prince of Wales-Hyder  99927  56.25100 -133.37571   \n",
              "2            MI                 Ogemaw  48661  44.32893  -84.24080   \n",
              "3            OR                Yamhill  97148  45.35589 -123.24657   \n",
              "4            CA              San Diego  92014  32.96687 -117.24798   \n",
              "5            TX              Fort Bend  77461  29.38012  -95.80673   \n",
              "6            GA                  Peach  31030  32.57032  -83.89040   \n",
              "7            TN                  Scott  37847  36.43420  -84.27892   \n",
              "8            OK               Oklahoma  73109  35.43313  -97.52463   \n",
              "9            FL                Osceola  34771  28.27646  -81.16273   \n",
              "10           OH               Hamilton  45237  39.19296  -84.45230   \n",
              "11           PA            Susquehanna  18830  41.95142  -76.10744   \n",
              "12           PR                Corozal    783  18.30410  -66.32847   \n",
              "13           IA              Muscatine  52739  41.37287  -91.36865   \n",
              "14           ME           Androscoggin   4228  44.43256  -70.11501   \n",
              "15           IL                   Cook  60162  41.86752  -87.90222   \n",
              "16           WI                  Vilas  54558  45.92342  -89.50138   \n",
              "17           CA             Stanislaus  95351  37.62326 -120.99637   \n",
              "18           NC                Robeson  28371  34.90636  -78.98944   \n",
              "19           TN                Fayette  38060  35.20910  -89.50332   \n",
              "20           AL                 Blount  35172  33.84469  -86.69740   \n",
              "\n",
              "           Population      Area             Timezone  \\\n",
              "CaseOrder                                              \n",
              "1                  38     Urban        America/Sitka   \n",
              "2               10446     Urban      America/Detroit   \n",
              "3                3735     Urban  America/Los_Angeles   \n",
              "4               13863  Suburban  America/Los_Angeles   \n",
              "5               11352  Suburban      America/Chicago   \n",
              "6               17701     Urban     America/New_York   \n",
              "7                2535  Suburban     America/New_York   \n",
              "8               23144  Suburban      America/Chicago   \n",
              "9               17351  Suburban     America/New_York   \n",
              "10              20193     Rural     America/New_York   \n",
              "11                555     Urban     America/New_York   \n",
              "12              33372     Rural  America/Puerto_Rico   \n",
              "13                556     Rural      America/Chicago   \n",
              "14                  0     Urban     America/New_York   \n",
              "15               8165     Urban      America/Chicago   \n",
              "16               2093  Suburban      America/Chicago   \n",
              "17              50079     Urban  America/Los_Angeles   \n",
              "18               7249     Rural     America/New_York   \n",
              "19               9463     Rural      America/Chicago   \n",
              "20               3177     Rural      America/Chicago   \n",
              "\n",
              "                                           Job  Children   Age  \\\n",
              "CaseOrder                                                        \n",
              "1            Environmental health practitioner       NaN  68.0   \n",
              "2                       Programmer, multimedia       1.0  27.0   \n",
              "3                      Chief Financial Officer       4.0  50.0   \n",
              "4                                    Solicitor       1.0  48.0   \n",
              "5                          Medical illustrator       0.0  83.0   \n",
              "6                     Chief Technology Officer       3.0  83.0   \n",
              "7                       Surveyor, hydrographic       0.0   NaN   \n",
              "8            Sales promotion account executive       2.0   NaN   \n",
              "9               Teaching laboratory technician       2.0  49.0   \n",
              "10                    Museum education officer       NaN  86.0   \n",
              "11          Teacher, special educational needs       7.0  23.0   \n",
              "12                        Maintenance engineer       2.0  56.0   \n",
              "13         Engineer, broadcasting (operations)       0.0  83.0   \n",
              "14                   Learning disability nurse       5.0   NaN   \n",
              "15                         Automotive engineer       NaN  30.0   \n",
              "16                      Amenity horticulturist       NaN  39.0   \n",
              "17                      Applications developer       NaN  63.0   \n",
              "18                                Immunologist       NaN  60.0   \n",
              "19                        Engineer, electrical       3.0  61.0   \n",
              "20                         Broadcast presenter       3.0  23.0   \n",
              "\n",
              "                                          Education Employment     Income  \\\n",
              "CaseOrder                                                                   \n",
              "1                                   Master's Degree  Part Time   28561.99   \n",
              "2                       Regular High School Diploma    Retired   21704.77   \n",
              "3                       Regular High School Diploma    Student        NaN   \n",
              "4                                  Doctorate Degree    Retired   18925.23   \n",
              "5                                   Master's Degree    Student   40074.19   \n",
              "6                            No Schooling Completed  Full Time        NaN   \n",
              "7                                Associate's Degree  Full Time   11467.50   \n",
              "8                                 Bachelor's Degree  Full Time   26759.64   \n",
              "9                    Some College, Less than 1 Year  Full Time   58634.51   \n",
              "10                    GED or Alternative Credential  Full Time   50231.40   \n",
              "11                      Regular High School Diploma  Full Time        NaN   \n",
              "12                                Bachelor's Degree  Full Time   18342.12   \n",
              "13                                  Master's Degree    Retired   83671.08   \n",
              "14                           No Schooling Completed    Retired  115114.57   \n",
              "15                               Associate's Degree  Full Time   64256.81   \n",
              "16                                Bachelor's Degree  Full Time   89061.45   \n",
              "17         Some College, 1 or More Years, No Degree    Retired   31659.30   \n",
              "18              9th Grade to 12th Grade, No Diploma    Retired   44142.81   \n",
              "19                      Regular High School Diploma  Full Time   39262.14   \n",
              "20                               Associate's Degree  Part Time   19494.75   \n",
              "\n",
              "                 Marital                Gender Churn  Outage_sec_perweek  \\\n",
              "CaseOrder                                                                  \n",
              "1                Widowed                  Male    No            6.972566   \n",
              "2                Married                Female   Yes           12.014541   \n",
              "3                Widowed                Female    No           10.245616   \n",
              "4                Married                  Male    No           15.206193   \n",
              "5              Separated                  Male   Yes            8.960316   \n",
              "6          Never Married                Female    No            7.814859   \n",
              "7                Widowed                  Male   Yes           11.129094   \n",
              "8                Married                Female   Yes            7.594838   \n",
              "9              Separated  Prefer not to answer    No            6.637259   \n",
              "10               Married                Female    No            9.230409   \n",
              "11             Separated                Female    No           11.835113   \n",
              "12               Married                Female    No            5.082821   \n",
              "13              Divorced                  Male    No            7.265961   \n",
              "14             Separated                Female    No            6.568344   \n",
              "15             Separated                  Male   Yes           12.630691   \n",
              "16              Divorced                  Male   Yes            9.482219   \n",
              "17               Married                Female   Yes           14.429165   \n",
              "18             Separated                  Male   Yes           10.217903   \n",
              "19               Widowed                Female    No           11.101068   \n",
              "20              Divorced                  Male   Yes           11.088532   \n",
              "\n",
              "           Email  Contacts  Yearly_equip_failure Techie        Contract  \\\n",
              "CaseOrder                                                                 \n",
              "1             10         0                     1     No        One year   \n",
              "2             12         0                     1    Yes  Month-to-month   \n",
              "3              9         0                     1    Yes        Two Year   \n",
              "4             15         2                     0    Yes        Two Year   \n",
              "5             16         2                     1     No  Month-to-month   \n",
              "6             15         3                     1     No        One year   \n",
              "7             10         0                     1    Yes  Month-to-month   \n",
              "8             16         0                     0    Yes  Month-to-month   \n",
              "9             20         2                     3    NaN  Month-to-month   \n",
              "10            18         1                     0    NaN        Two Year   \n",
              "11             9         0                     2     No  Month-to-month   \n",
              "12            17         1                     1     No  Month-to-month   \n",
              "13             9         0                     0     No  Month-to-month   \n",
              "14            14         1                     0     No        Two Year   \n",
              "15            10         3                     0     No  Month-to-month   \n",
              "16            13         1                     0     No        One year   \n",
              "17            13         1                     0     No  Month-to-month   \n",
              "18            16         3                     0     No        Two Year   \n",
              "19            11         1                     0    Yes        Two Year   \n",
              "20            10         1                     0     No  Month-to-month   \n",
              "\n",
              "          Port_modem Tablet InternetService Phone Multiple OnlineSecurity  \\\n",
              "CaseOrder                                                                   \n",
              "1                Yes    Yes     Fiber Optic   Yes       No            Yes   \n",
              "2                 No    Yes     Fiber Optic   Yes      Yes            Yes   \n",
              "3                Yes     No             DSL   Yes      Yes             No   \n",
              "4                 No     No             DSL   Yes       No            Yes   \n",
              "5                Yes     No     Fiber Optic    No       No             No   \n",
              "6                Yes     No            None   Yes      Yes            Yes   \n",
              "7                 No     No             DSL   Yes       No             No   \n",
              "8                 No     No             DSL    No       No             No   \n",
              "9                Yes     No             DSL   Yes       No            Yes   \n",
              "10               Yes     No     Fiber Optic   Yes       No            Yes   \n",
              "11                No     No             DSL   Yes      Yes            Yes   \n",
              "12               Yes     No     Fiber Optic   Yes       No             No   \n",
              "13               Yes     No     Fiber Optic   Yes       No             No   \n",
              "14               Yes    Yes     Fiber Optic   Yes      Yes            Yes   \n",
              "15                No     No             DSL    No      Yes             No   \n",
              "16                No     No            None   Yes       No            Yes   \n",
              "17               Yes     No             DSL   Yes      Yes             No   \n",
              "18                No     No            None   Yes       No            Yes   \n",
              "19               Yes     No            None   Yes       No             No   \n",
              "20               Yes     No             DSL   Yes      Yes             No   \n",
              "\n",
              "          OnlineBackup DeviceProtection TechSupport StreamingTV  \\\n",
              "CaseOrder                                                         \n",
              "1                  Yes               No          No          No   \n",
              "2                   No               No          No         Yes   \n",
              "3                   No               No          No          No   \n",
              "4                   No               No          No         Yes   \n",
              "5                   No               No         Yes         Yes   \n",
              "6                  Yes              Yes          No          No   \n",
              "7                   No               No         Yes         Yes   \n",
              "8                  Yes               No          No          No   \n",
              "9                  Yes               No          No          No   \n",
              "10                  No              Yes         NaN          No   \n",
              "11                 Yes               No          No         Yes   \n",
              "12                  No              Yes          No         Yes   \n",
              "13                  No               No          No         Yes   \n",
              "14                  No               No         Yes         Yes   \n",
              "15                 Yes               No         Yes          No   \n",
              "16                  No               No          No         Yes   \n",
              "17                 Yes              Yes          No          No   \n",
              "18                  No              Yes         Yes         Yes   \n",
              "19                 Yes              Yes         Yes         Yes   \n",
              "20                  No               No          No         Yes   \n",
              "\n",
              "          StreamingMovies PaperlessBilling             PaymentMethod  \\\n",
              "CaseOrder                                                              \n",
              "1                     Yes              Yes   Credit Card (automatic)   \n",
              "2                     Yes              Yes  Bank Transfer(automatic)   \n",
              "3                     Yes              Yes   Credit Card (automatic)   \n",
              "4                      No              Yes              Mailed Check   \n",
              "5                      No               No              Mailed Check   \n",
              "6                     Yes               No          Electronic Check   \n",
              "7                     Yes               No          Electronic Check   \n",
              "8                      No              Yes              Mailed Check   \n",
              "9                      No              Yes  Bank Transfer(automatic)   \n",
              "10                    Yes              Yes              Mailed Check   \n",
              "11                     No               No              Mailed Check   \n",
              "12                     No               No          Electronic Check   \n",
              "13                     No               No  Bank Transfer(automatic)   \n",
              "14                     No              Yes  Bank Transfer(automatic)   \n",
              "15                     No              Yes  Bank Transfer(automatic)   \n",
              "16                    Yes              Yes          Electronic Check   \n",
              "17                    Yes              Yes  Bank Transfer(automatic)   \n",
              "18                    Yes               No              Mailed Check   \n",
              "19                     No              Yes  Bank Transfer(automatic)   \n",
              "20                     No              Yes   Credit Card (automatic)   \n",
              "\n",
              "              Tenure  MonthlyCharge  Bandwidth_GB_Year  item1  item2  item3  \\\n",
              "CaseOrder                                                                     \n",
              "1           6.795513     171.449762         904.536110      5      5      5   \n",
              "2           1.156681     242.948015         800.982766      3      4      3   \n",
              "3          15.754144     159.440398        2054.706961      4      4      2   \n",
              "4          17.087227     120.249493        2164.579412      4      4      4   \n",
              "5           1.670972     150.761216         271.493436      4      4      4   \n",
              "6           7.000994     184.401558        1039.357983      3      3      3   \n",
              "7          13.236774     200.064886        1907.242972      6      5      6   \n",
              "8                NaN     114.754111         979.612708      2      2      2   \n",
              "9           8.220686     118.366844        1312.874964      5      4      4   \n",
              "10          3.422086     163.005280         508.763791      2      2      2   \n",
              "11         19.267262     177.451599        2728.767869      4      4      4   \n",
              "12               NaN     148.364087        1180.588788      4      4      3   \n",
              "13         13.011492     136.431239        1196.388018      1      2      1   \n",
              "14         16.879220     185.659294        1948.694497      5      6      5   \n",
              "15         10.060199     160.805542                NaN      3      3      4   \n",
              "16         13.870013     176.334509        1840.014467      3      3      3   \n",
              "17         15.782150     195.872604        2070.376729      3      4      4   \n",
              "18               NaN     203.069597         882.098593      2      2      4   \n",
              "19         17.109956     154.017102        1833.096700      3      4      3   \n",
              "20         12.806158     150.110739        1954.080809      5      5      5   \n",
              "\n",
              "           item4  item5  item6  item7  item8  \n",
              "CaseOrder                                     \n",
              "1              3      4      4      3      4  \n",
              "2              3      4      3      4      4  \n",
              "3              4      4      3      3      3  \n",
              "4              2      5      4      3      3  \n",
              "5              3      4      4      4      5  \n",
              "6              2      4      3      3      3  \n",
              "7              4      1      5      5      5  \n",
              "8              5      2      3      4      5  \n",
              "9              3      4      3      4      4  \n",
              "10             2      5      2      3      3  \n",
              "11             7      3      3      3      4  \n",
              "12             4      4      4      3      4  \n",
              "13             4      3      2      3      3  \n",
              "14             2      4      5      4      4  \n",
              "15             2      3      4      4      2  \n",
              "16             2      4      3      5      2  \n",
              "17             3      5      4      4      3  \n",
              "18             3      3      4      3      3  \n",
              "19             4      3      2      3      5  \n",
              "20             4      4      4      3      3  "
            ],
            "text/html": [
              "\n",
              "  <div id=\"df-6315ad76-3316-415c-89be-0e096cc35399\" class=\"colab-df-container\">\n",
              "    <div>\n",
              "<style scoped>\n",
              "    .dataframe tbody tr th:only-of-type {\n",
              "        vertical-align: middle;\n",
              "    }\n",
              "\n",
              "    .dataframe tbody tr th {\n",
              "        vertical-align: top;\n",
              "    }\n",
              "\n",
              "    .dataframe thead th {\n",
              "        text-align: right;\n",
              "    }\n",
              "</style>\n",
              "<table border=\"1\" class=\"dataframe\">\n",
              "  <thead>\n",
              "    <tr style=\"text-align: right;\">\n",
              "      <th></th>\n",
              "      <th>Customer_id</th>\n",
              "      <th>Interaction</th>\n",
              "      <th>City</th>\n",
              "      <th>State</th>\n",
              "      <th>County</th>\n",
              "      <th>Zip</th>\n",
              "      <th>Lat</th>\n",
              "      <th>Lng</th>\n",
              "      <th>Population</th>\n",
              "      <th>Area</th>\n",
              "      <th>Timezone</th>\n",
              "      <th>Job</th>\n",
              "      <th>Children</th>\n",
              "      <th>Age</th>\n",
              "      <th>Education</th>\n",
              "      <th>Employment</th>\n",
              "      <th>Income</th>\n",
              "      <th>Marital</th>\n",
              "      <th>Gender</th>\n",
              "      <th>Churn</th>\n",
              "      <th>Outage_sec_perweek</th>\n",
              "      <th>Email</th>\n",
              "      <th>Contacts</th>\n",
              "      <th>Yearly_equip_failure</th>\n",
              "      <th>Techie</th>\n",
              "      <th>Contract</th>\n",
              "      <th>Port_modem</th>\n",
              "      <th>Tablet</th>\n",
              "      <th>InternetService</th>\n",
              "      <th>Phone</th>\n",
              "      <th>Multiple</th>\n",
              "      <th>OnlineSecurity</th>\n",
              "      <th>OnlineBackup</th>\n",
              "      <th>DeviceProtection</th>\n",
              "      <th>TechSupport</th>\n",
              "      <th>StreamingTV</th>\n",
              "      <th>StreamingMovies</th>\n",
              "      <th>PaperlessBilling</th>\n",
              "      <th>PaymentMethod</th>\n",
              "      <th>Tenure</th>\n",
              "      <th>MonthlyCharge</th>\n",
              "      <th>Bandwidth_GB_Year</th>\n",
              "      <th>item1</th>\n",
              "      <th>item2</th>\n",
              "      <th>item3</th>\n",
              "      <th>item4</th>\n",
              "      <th>item5</th>\n",
              "      <th>item6</th>\n",
              "      <th>item7</th>\n",
              "      <th>item8</th>\n",
              "    </tr>\n",
              "    <tr>\n",
              "      <th>CaseOrder</th>\n",
              "      <th></th>\n",
              "      <th></th>\n",
              "      <th></th>\n",
              "      <th></th>\n",
              "      <th></th>\n",
              "      <th></th>\n",
              "      <th></th>\n",
              "      <th></th>\n",
              "      <th></th>\n",
              "      <th></th>\n",
              "      <th></th>\n",
              "      <th></th>\n",
              "      <th></th>\n",
              "      <th></th>\n",
              "      <th></th>\n",
              "      <th></th>\n",
              "      <th></th>\n",
              "      <th></th>\n",
              "      <th></th>\n",
              "      <th></th>\n",
              "      <th></th>\n",
              "      <th></th>\n",
              "      <th></th>\n",
              "      <th></th>\n",
              "      <th></th>\n",
              "      <th></th>\n",
              "      <th></th>\n",
              "      <th></th>\n",
              "      <th></th>\n",
              "      <th></th>\n",
              "      <th></th>\n",
              "      <th></th>\n",
              "      <th></th>\n",
              "      <th></th>\n",
              "      <th></th>\n",
              "      <th></th>\n",
              "      <th></th>\n",
              "      <th></th>\n",
              "      <th></th>\n",
              "      <th></th>\n",
              "      <th></th>\n",
              "      <th></th>\n",
              "      <th></th>\n",
              "      <th></th>\n",
              "      <th></th>\n",
              "      <th></th>\n",
              "      <th></th>\n",
              "      <th></th>\n",
              "      <th></th>\n",
              "      <th></th>\n",
              "    </tr>\n",
              "  </thead>\n",
              "  <tbody>\n",
              "    <tr>\n",
              "      <th>1</th>\n",
              "      <td>K409198</td>\n",
              "      <td>aa90260b-4141-4a24-8e36-b04ce1f4f77b</td>\n",
              "      <td>Point Baker</td>\n",
              "      <td>AK</td>\n",
              "      <td>Prince of Wales-Hyder</td>\n",
              "      <td>99927</td>\n",
              "      <td>56.25100</td>\n",
              "      <td>-133.37571</td>\n",
              "      <td>38</td>\n",
              "      <td>Urban</td>\n",
              "      <td>America/Sitka</td>\n",
              "      <td>Environmental health practitioner</td>\n",
              "      <td>NaN</td>\n",
              "      <td>68.0</td>\n",
              "      <td>Master's Degree</td>\n",
              "      <td>Part Time</td>\n",
              "      <td>28561.99</td>\n",
              "      <td>Widowed</td>\n",
              "      <td>Male</td>\n",
              "      <td>No</td>\n",
              "      <td>6.972566</td>\n",
              "      <td>10</td>\n",
              "      <td>0</td>\n",
              "      <td>1</td>\n",
              "      <td>No</td>\n",
              "      <td>One year</td>\n",
              "      <td>Yes</td>\n",
              "      <td>Yes</td>\n",
              "      <td>Fiber Optic</td>\n",
              "      <td>Yes</td>\n",
              "      <td>No</td>\n",
              "      <td>Yes</td>\n",
              "      <td>Yes</td>\n",
              "      <td>No</td>\n",
              "      <td>No</td>\n",
              "      <td>No</td>\n",
              "      <td>Yes</td>\n",
              "      <td>Yes</td>\n",
              "      <td>Credit Card (automatic)</td>\n",
              "      <td>6.795513</td>\n",
              "      <td>171.449762</td>\n",
              "      <td>904.536110</td>\n",
              "      <td>5</td>\n",
              "      <td>5</td>\n",
              "      <td>5</td>\n",
              "      <td>3</td>\n",
              "      <td>4</td>\n",
              "      <td>4</td>\n",
              "      <td>3</td>\n",
              "      <td>4</td>\n",
              "    </tr>\n",
              "    <tr>\n",
              "      <th>2</th>\n",
              "      <td>S120509</td>\n",
              "      <td>fb76459f-c047-4a9d-8af9-e0f7d4ac2524</td>\n",
              "      <td>West Branch</td>\n",
              "      <td>MI</td>\n",
              "      <td>Ogemaw</td>\n",
              "      <td>48661</td>\n",
              "      <td>44.32893</td>\n",
              "      <td>-84.24080</td>\n",
              "      <td>10446</td>\n",
              "      <td>Urban</td>\n",
              "      <td>America/Detroit</td>\n",
              "      <td>Programmer, multimedia</td>\n",
              "      <td>1.0</td>\n",
              "      <td>27.0</td>\n",
              "      <td>Regular High School Diploma</td>\n",
              "      <td>Retired</td>\n",
              "      <td>21704.77</td>\n",
              "      <td>Married</td>\n",
              "      <td>Female</td>\n",
              "      <td>Yes</td>\n",
              "      <td>12.014541</td>\n",
              "      <td>12</td>\n",
              "      <td>0</td>\n",
              "      <td>1</td>\n",
              "      <td>Yes</td>\n",
              "      <td>Month-to-month</td>\n",
              "      <td>No</td>\n",
              "      <td>Yes</td>\n",
              "      <td>Fiber Optic</td>\n",
              "      <td>Yes</td>\n",
              "      <td>Yes</td>\n",
              "      <td>Yes</td>\n",
              "      <td>No</td>\n",
              "      <td>No</td>\n",
              "      <td>No</td>\n",
              "      <td>Yes</td>\n",
              "      <td>Yes</td>\n",
              "      <td>Yes</td>\n",
              "      <td>Bank Transfer(automatic)</td>\n",
              "      <td>1.156681</td>\n",
              "      <td>242.948015</td>\n",
              "      <td>800.982766</td>\n",
              "      <td>3</td>\n",
              "      <td>4</td>\n",
              "      <td>3</td>\n",
              "      <td>3</td>\n",
              "      <td>4</td>\n",
              "      <td>3</td>\n",
              "      <td>4</td>\n",
              "      <td>4</td>\n",
              "    </tr>\n",
              "    <tr>\n",
              "      <th>3</th>\n",
              "      <td>K191035</td>\n",
              "      <td>344d114c-3736-4be5-98f7-c72c281e2d35</td>\n",
              "      <td>Yamhill</td>\n",
              "      <td>OR</td>\n",
              "      <td>Yamhill</td>\n",
              "      <td>97148</td>\n",
              "      <td>45.35589</td>\n",
              "      <td>-123.24657</td>\n",
              "      <td>3735</td>\n",
              "      <td>Urban</td>\n",
              "      <td>America/Los_Angeles</td>\n",
              "      <td>Chief Financial Officer</td>\n",
              "      <td>4.0</td>\n",
              "      <td>50.0</td>\n",
              "      <td>Regular High School Diploma</td>\n",
              "      <td>Student</td>\n",
              "      <td>NaN</td>\n",
              "      <td>Widowed</td>\n",
              "      <td>Female</td>\n",
              "      <td>No</td>\n",
              "      <td>10.245616</td>\n",
              "      <td>9</td>\n",
              "      <td>0</td>\n",
              "      <td>1</td>\n",
              "      <td>Yes</td>\n",
              "      <td>Two Year</td>\n",
              "      <td>Yes</td>\n",
              "      <td>No</td>\n",
              "      <td>DSL</td>\n",
              "      <td>Yes</td>\n",
              "      <td>Yes</td>\n",
              "      <td>No</td>\n",
              "      <td>No</td>\n",
              "      <td>No</td>\n",
              "      <td>No</td>\n",
              "      <td>No</td>\n",
              "      <td>Yes</td>\n",
              "      <td>Yes</td>\n",
              "      <td>Credit Card (automatic)</td>\n",
              "      <td>15.754144</td>\n",
              "      <td>159.440398</td>\n",
              "      <td>2054.706961</td>\n",
              "      <td>4</td>\n",
              "      <td>4</td>\n",
              "      <td>2</td>\n",
              "      <td>4</td>\n",
              "      <td>4</td>\n",
              "      <td>3</td>\n",
              "      <td>3</td>\n",
              "      <td>3</td>\n",
              "    </tr>\n",
              "    <tr>\n",
              "      <th>4</th>\n",
              "      <td>D90850</td>\n",
              "      <td>abfa2b40-2d43-4994-b15a-989b8c79e311</td>\n",
              "      <td>Del Mar</td>\n",
              "      <td>CA</td>\n",
              "      <td>San Diego</td>\n",
              "      <td>92014</td>\n",
              "      <td>32.96687</td>\n",
              "      <td>-117.24798</td>\n",
              "      <td>13863</td>\n",
              "      <td>Suburban</td>\n",
              "      <td>America/Los_Angeles</td>\n",
              "      <td>Solicitor</td>\n",
              "      <td>1.0</td>\n",
              "      <td>48.0</td>\n",
              "      <td>Doctorate Degree</td>\n",
              "      <td>Retired</td>\n",
              "      <td>18925.23</td>\n",
              "      <td>Married</td>\n",
              "      <td>Male</td>\n",
              "      <td>No</td>\n",
              "      <td>15.206193</td>\n",
              "      <td>15</td>\n",
              "      <td>2</td>\n",
              "      <td>0</td>\n",
              "      <td>Yes</td>\n",
              "      <td>Two Year</td>\n",
              "      <td>No</td>\n",
              "      <td>No</td>\n",
              "      <td>DSL</td>\n",
              "      <td>Yes</td>\n",
              "      <td>No</td>\n",
              "      <td>Yes</td>\n",
              "      <td>No</td>\n",
              "      <td>No</td>\n",
              "      <td>No</td>\n",
              "      <td>Yes</td>\n",
              "      <td>No</td>\n",
              "      <td>Yes</td>\n",
              "      <td>Mailed Check</td>\n",
              "      <td>17.087227</td>\n",
              "      <td>120.249493</td>\n",
              "      <td>2164.579412</td>\n",
              "      <td>4</td>\n",
              "      <td>4</td>\n",
              "      <td>4</td>\n",
              "      <td>2</td>\n",
              "      <td>5</td>\n",
              "      <td>4</td>\n",
              "      <td>3</td>\n",
              "      <td>3</td>\n",
              "    </tr>\n",
              "    <tr>\n",
              "      <th>5</th>\n",
              "      <td>K662701</td>\n",
              "      <td>68a861fd-0d20-4e51-a587-8a90407ee574</td>\n",
              "      <td>Needville</td>\n",
              "      <td>TX</td>\n",
              "      <td>Fort Bend</td>\n",
              "      <td>77461</td>\n",
              "      <td>29.38012</td>\n",
              "      <td>-95.80673</td>\n",
              "      <td>11352</td>\n",
              "      <td>Suburban</td>\n",
              "      <td>America/Chicago</td>\n",
              "      <td>Medical illustrator</td>\n",
              "      <td>0.0</td>\n",
              "      <td>83.0</td>\n",
              "      <td>Master's Degree</td>\n",
              "      <td>Student</td>\n",
              "      <td>40074.19</td>\n",
              "      <td>Separated</td>\n",
              "      <td>Male</td>\n",
              "      <td>Yes</td>\n",
              "      <td>8.960316</td>\n",
              "      <td>16</td>\n",
              "      <td>2</td>\n",
              "      <td>1</td>\n",
              "      <td>No</td>\n",
              "      <td>Month-to-month</td>\n",
              "      <td>Yes</td>\n",
              "      <td>No</td>\n",
              "      <td>Fiber Optic</td>\n",
              "      <td>No</td>\n",
              "      <td>No</td>\n",
              "      <td>No</td>\n",
              "      <td>No</td>\n",
              "      <td>No</td>\n",
              "      <td>Yes</td>\n",
              "      <td>Yes</td>\n",
              "      <td>No</td>\n",
              "      <td>No</td>\n",
              "      <td>Mailed Check</td>\n",
              "      <td>1.670972</td>\n",
              "      <td>150.761216</td>\n",
              "      <td>271.493436</td>\n",
              "      <td>4</td>\n",
              "      <td>4</td>\n",
              "      <td>4</td>\n",
              "      <td>3</td>\n",
              "      <td>4</td>\n",
              "      <td>4</td>\n",
              "      <td>4</td>\n",
              "      <td>5</td>\n",
              "    </tr>\n",
              "    <tr>\n",
              "      <th>6</th>\n",
              "      <td>W303516</td>\n",
              "      <td>2b451d12-6c2b-4cea-a295-ba1d6bced078</td>\n",
              "      <td>Fort Valley</td>\n",
              "      <td>GA</td>\n",
              "      <td>Peach</td>\n",
              "      <td>31030</td>\n",
              "      <td>32.57032</td>\n",
              "      <td>-83.89040</td>\n",
              "      <td>17701</td>\n",
              "      <td>Urban</td>\n",
              "      <td>America/New_York</td>\n",
              "      <td>Chief Technology Officer</td>\n",
              "      <td>3.0</td>\n",
              "      <td>83.0</td>\n",
              "      <td>No Schooling Completed</td>\n",
              "      <td>Full Time</td>\n",
              "      <td>NaN</td>\n",
              "      <td>Never Married</td>\n",
              "      <td>Female</td>\n",
              "      <td>No</td>\n",
              "      <td>7.814859</td>\n",
              "      <td>15</td>\n",
              "      <td>3</td>\n",
              "      <td>1</td>\n",
              "      <td>No</td>\n",
              "      <td>One year</td>\n",
              "      <td>Yes</td>\n",
              "      <td>No</td>\n",
              "      <td>None</td>\n",
              "      <td>Yes</td>\n",
              "      <td>Yes</td>\n",
              "      <td>Yes</td>\n",
              "      <td>Yes</td>\n",
              "      <td>Yes</td>\n",
              "      <td>No</td>\n",
              "      <td>No</td>\n",
              "      <td>Yes</td>\n",
              "      <td>No</td>\n",
              "      <td>Electronic Check</td>\n",
              "      <td>7.000994</td>\n",
              "      <td>184.401558</td>\n",
              "      <td>1039.357983</td>\n",
              "      <td>3</td>\n",
              "      <td>3</td>\n",
              "      <td>3</td>\n",
              "      <td>2</td>\n",
              "      <td>4</td>\n",
              "      <td>3</td>\n",
              "      <td>3</td>\n",
              "      <td>3</td>\n",
              "    </tr>\n",
              "    <tr>\n",
              "      <th>7</th>\n",
              "      <td>U335188</td>\n",
              "      <td>6630d501-838c-4be4-a59c-6f58c814ed6a</td>\n",
              "      <td>Pioneer</td>\n",
              "      <td>TN</td>\n",
              "      <td>Scott</td>\n",
              "      <td>37847</td>\n",
              "      <td>36.43420</td>\n",
              "      <td>-84.27892</td>\n",
              "      <td>2535</td>\n",
              "      <td>Suburban</td>\n",
              "      <td>America/New_York</td>\n",
              "      <td>Surveyor, hydrographic</td>\n",
              "      <td>0.0</td>\n",
              "      <td>NaN</td>\n",
              "      <td>Associate's Degree</td>\n",
              "      <td>Full Time</td>\n",
              "      <td>11467.50</td>\n",
              "      <td>Widowed</td>\n",
              "      <td>Male</td>\n",
              "      <td>Yes</td>\n",
              "      <td>11.129094</td>\n",
              "      <td>10</td>\n",
              "      <td>0</td>\n",
              "      <td>1</td>\n",
              "      <td>Yes</td>\n",
              "      <td>Month-to-month</td>\n",
              "      <td>No</td>\n",
              "      <td>No</td>\n",
              "      <td>DSL</td>\n",
              "      <td>Yes</td>\n",
              "      <td>No</td>\n",
              "      <td>No</td>\n",
              "      <td>No</td>\n",
              "      <td>No</td>\n",
              "      <td>Yes</td>\n",
              "      <td>Yes</td>\n",
              "      <td>Yes</td>\n",
              "      <td>No</td>\n",
              "      <td>Electronic Check</td>\n",
              "      <td>13.236774</td>\n",
              "      <td>200.064886</td>\n",
              "      <td>1907.242972</td>\n",
              "      <td>6</td>\n",
              "      <td>5</td>\n",
              "      <td>6</td>\n",
              "      <td>4</td>\n",
              "      <td>1</td>\n",
              "      <td>5</td>\n",
              "      <td>5</td>\n",
              "      <td>5</td>\n",
              "    </tr>\n",
              "    <tr>\n",
              "      <th>8</th>\n",
              "      <td>V538685</td>\n",
              "      <td>70ddaa89-b726-49dc-9022-2d655e4c7936</td>\n",
              "      <td>Oklahoma City</td>\n",
              "      <td>OK</td>\n",
              "      <td>Oklahoma</td>\n",
              "      <td>73109</td>\n",
              "      <td>35.43313</td>\n",
              "      <td>-97.52463</td>\n",
              "      <td>23144</td>\n",
              "      <td>Suburban</td>\n",
              "      <td>America/Chicago</td>\n",
              "      <td>Sales promotion account executive</td>\n",
              "      <td>2.0</td>\n",
              "      <td>NaN</td>\n",
              "      <td>Bachelor's Degree</td>\n",
              "      <td>Full Time</td>\n",
              "      <td>26759.64</td>\n",
              "      <td>Married</td>\n",
              "      <td>Female</td>\n",
              "      <td>Yes</td>\n",
              "      <td>7.594838</td>\n",
              "      <td>16</td>\n",
              "      <td>0</td>\n",
              "      <td>0</td>\n",
              "      <td>Yes</td>\n",
              "      <td>Month-to-month</td>\n",
              "      <td>No</td>\n",
              "      <td>No</td>\n",
              "      <td>DSL</td>\n",
              "      <td>No</td>\n",
              "      <td>No</td>\n",
              "      <td>No</td>\n",
              "      <td>Yes</td>\n",
              "      <td>No</td>\n",
              "      <td>No</td>\n",
              "      <td>No</td>\n",
              "      <td>No</td>\n",
              "      <td>Yes</td>\n",
              "      <td>Mailed Check</td>\n",
              "      <td>NaN</td>\n",
              "      <td>114.754111</td>\n",
              "      <td>979.612708</td>\n",
              "      <td>2</td>\n",
              "      <td>2</td>\n",
              "      <td>2</td>\n",
              "      <td>5</td>\n",
              "      <td>2</td>\n",
              "      <td>3</td>\n",
              "      <td>4</td>\n",
              "      <td>5</td>\n",
              "    </tr>\n",
              "    <tr>\n",
              "      <th>9</th>\n",
              "      <td>M716771</td>\n",
              "      <td>05a49ee3-8fd5-453a-a5f3-82b6cd986856</td>\n",
              "      <td>Saint Cloud</td>\n",
              "      <td>FL</td>\n",
              "      <td>Osceola</td>\n",
              "      <td>34771</td>\n",
              "      <td>28.27646</td>\n",
              "      <td>-81.16273</td>\n",
              "      <td>17351</td>\n",
              "      <td>Suburban</td>\n",
              "      <td>America/New_York</td>\n",
              "      <td>Teaching laboratory technician</td>\n",
              "      <td>2.0</td>\n",
              "      <td>49.0</td>\n",
              "      <td>Some College, Less than 1 Year</td>\n",
              "      <td>Full Time</td>\n",
              "      <td>58634.51</td>\n",
              "      <td>Separated</td>\n",
              "      <td>Prefer not to answer</td>\n",
              "      <td>No</td>\n",
              "      <td>6.637259</td>\n",
              "      <td>20</td>\n",
              "      <td>2</td>\n",
              "      <td>3</td>\n",
              "      <td>NaN</td>\n",
              "      <td>Month-to-month</td>\n",
              "      <td>Yes</td>\n",
              "      <td>No</td>\n",
              "      <td>DSL</td>\n",
              "      <td>Yes</td>\n",
              "      <td>No</td>\n",
              "      <td>Yes</td>\n",
              "      <td>Yes</td>\n",
              "      <td>No</td>\n",
              "      <td>No</td>\n",
              "      <td>No</td>\n",
              "      <td>No</td>\n",
              "      <td>Yes</td>\n",
              "      <td>Bank Transfer(automatic)</td>\n",
              "      <td>8.220686</td>\n",
              "      <td>118.366844</td>\n",
              "      <td>1312.874964</td>\n",
              "      <td>5</td>\n",
              "      <td>4</td>\n",
              "      <td>4</td>\n",
              "      <td>3</td>\n",
              "      <td>4</td>\n",
              "      <td>3</td>\n",
              "      <td>4</td>\n",
              "      <td>4</td>\n",
              "    </tr>\n",
              "    <tr>\n",
              "      <th>10</th>\n",
              "      <td>I676080</td>\n",
              "      <td>86f17e4d-2c24-4b70-a6ec-dddf0609dbaa</td>\n",
              "      <td>Cincinnati</td>\n",
              "      <td>OH</td>\n",
              "      <td>Hamilton</td>\n",
              "      <td>45237</td>\n",
              "      <td>39.19296</td>\n",
              "      <td>-84.45230</td>\n",
              "      <td>20193</td>\n",
              "      <td>Rural</td>\n",
              "      <td>America/New_York</td>\n",
              "      <td>Museum education officer</td>\n",
              "      <td>NaN</td>\n",
              "      <td>86.0</td>\n",
              "      <td>GED or Alternative Credential</td>\n",
              "      <td>Full Time</td>\n",
              "      <td>50231.40</td>\n",
              "      <td>Married</td>\n",
              "      <td>Female</td>\n",
              "      <td>No</td>\n",
              "      <td>9.230409</td>\n",
              "      <td>18</td>\n",
              "      <td>1</td>\n",
              "      <td>0</td>\n",
              "      <td>NaN</td>\n",
              "      <td>Two Year</td>\n",
              "      <td>Yes</td>\n",
              "      <td>No</td>\n",
              "      <td>Fiber Optic</td>\n",
              "      <td>Yes</td>\n",
              "      <td>No</td>\n",
              "      <td>Yes</td>\n",
              "      <td>No</td>\n",
              "      <td>Yes</td>\n",
              "      <td>NaN</td>\n",
              "      <td>No</td>\n",
              "      <td>Yes</td>\n",
              "      <td>Yes</td>\n",
              "      <td>Mailed Check</td>\n",
              "      <td>3.422086</td>\n",
              "      <td>163.005280</td>\n",
              "      <td>508.763791</td>\n",
              "      <td>2</td>\n",
              "      <td>2</td>\n",
              "      <td>2</td>\n",
              "      <td>2</td>\n",
              "      <td>5</td>\n",
              "      <td>2</td>\n",
              "      <td>3</td>\n",
              "      <td>3</td>\n",
              "    </tr>\n",
              "    <tr>\n",
              "      <th>11</th>\n",
              "      <td>J980369</td>\n",
              "      <td>89490f4b-765f-431a-b302-580aae7db71a</td>\n",
              "      <td>Little Meadows</td>\n",
              "      <td>PA</td>\n",
              "      <td>Susquehanna</td>\n",
              "      <td>18830</td>\n",
              "      <td>41.95142</td>\n",
              "      <td>-76.10744</td>\n",
              "      <td>555</td>\n",
              "      <td>Urban</td>\n",
              "      <td>America/New_York</td>\n",
              "      <td>Teacher, special educational needs</td>\n",
              "      <td>7.0</td>\n",
              "      <td>23.0</td>\n",
              "      <td>Regular High School Diploma</td>\n",
              "      <td>Full Time</td>\n",
              "      <td>NaN</td>\n",
              "      <td>Separated</td>\n",
              "      <td>Female</td>\n",
              "      <td>No</td>\n",
              "      <td>11.835113</td>\n",
              "      <td>9</td>\n",
              "      <td>0</td>\n",
              "      <td>2</td>\n",
              "      <td>No</td>\n",
              "      <td>Month-to-month</td>\n",
              "      <td>No</td>\n",
              "      <td>No</td>\n",
              "      <td>DSL</td>\n",
              "      <td>Yes</td>\n",
              "      <td>Yes</td>\n",
              "      <td>Yes</td>\n",
              "      <td>Yes</td>\n",
              "      <td>No</td>\n",
              "      <td>No</td>\n",
              "      <td>Yes</td>\n",
              "      <td>No</td>\n",
              "      <td>No</td>\n",
              "      <td>Mailed Check</td>\n",
              "      <td>19.267262</td>\n",
              "      <td>177.451599</td>\n",
              "      <td>2728.767869</td>\n",
              "      <td>4</td>\n",
              "      <td>4</td>\n",
              "      <td>4</td>\n",
              "      <td>7</td>\n",
              "      <td>3</td>\n",
              "      <td>3</td>\n",
              "      <td>3</td>\n",
              "      <td>4</td>\n",
              "    </tr>\n",
              "    <tr>\n",
              "      <th>12</th>\n",
              "      <td>E243720</td>\n",
              "      <td>c32b8522-d62a-49b1-a77a-e0534cb1378b</td>\n",
              "      <td>Corozal</td>\n",
              "      <td>PR</td>\n",
              "      <td>Corozal</td>\n",
              "      <td>783</td>\n",
              "      <td>18.30410</td>\n",
              "      <td>-66.32847</td>\n",
              "      <td>33372</td>\n",
              "      <td>Rural</td>\n",
              "      <td>America/Puerto_Rico</td>\n",
              "      <td>Maintenance engineer</td>\n",
              "      <td>2.0</td>\n",
              "      <td>56.0</td>\n",
              "      <td>Bachelor's Degree</td>\n",
              "      <td>Full Time</td>\n",
              "      <td>18342.12</td>\n",
              "      <td>Married</td>\n",
              "      <td>Female</td>\n",
              "      <td>No</td>\n",
              "      <td>5.082821</td>\n",
              "      <td>17</td>\n",
              "      <td>1</td>\n",
              "      <td>1</td>\n",
              "      <td>No</td>\n",
              "      <td>Month-to-month</td>\n",
              "      <td>Yes</td>\n",
              "      <td>No</td>\n",
              "      <td>Fiber Optic</td>\n",
              "      <td>Yes</td>\n",
              "      <td>No</td>\n",
              "      <td>No</td>\n",
              "      <td>No</td>\n",
              "      <td>Yes</td>\n",
              "      <td>No</td>\n",
              "      <td>Yes</td>\n",
              "      <td>No</td>\n",
              "      <td>No</td>\n",
              "      <td>Electronic Check</td>\n",
              "      <td>NaN</td>\n",
              "      <td>148.364087</td>\n",
              "      <td>1180.588788</td>\n",
              "      <td>4</td>\n",
              "      <td>4</td>\n",
              "      <td>3</td>\n",
              "      <td>4</td>\n",
              "      <td>4</td>\n",
              "      <td>4</td>\n",
              "      <td>3</td>\n",
              "      <td>4</td>\n",
              "    </tr>\n",
              "    <tr>\n",
              "      <th>13</th>\n",
              "      <td>F139569</td>\n",
              "      <td>4828f66e-5592-4c61-bbf4-313cf8731f1c</td>\n",
              "      <td>Conesville</td>\n",
              "      <td>IA</td>\n",
              "      <td>Muscatine</td>\n",
              "      <td>52739</td>\n",
              "      <td>41.37287</td>\n",
              "      <td>-91.36865</td>\n",
              "      <td>556</td>\n",
              "      <td>Rural</td>\n",
              "      <td>America/Chicago</td>\n",
              "      <td>Engineer, broadcasting (operations)</td>\n",
              "      <td>0.0</td>\n",
              "      <td>83.0</td>\n",
              "      <td>Master's Degree</td>\n",
              "      <td>Retired</td>\n",
              "      <td>83671.08</td>\n",
              "      <td>Divorced</td>\n",
              "      <td>Male</td>\n",
              "      <td>No</td>\n",
              "      <td>7.265961</td>\n",
              "      <td>9</td>\n",
              "      <td>0</td>\n",
              "      <td>0</td>\n",
              "      <td>No</td>\n",
              "      <td>Month-to-month</td>\n",
              "      <td>Yes</td>\n",
              "      <td>No</td>\n",
              "      <td>Fiber Optic</td>\n",
              "      <td>Yes</td>\n",
              "      <td>No</td>\n",
              "      <td>No</td>\n",
              "      <td>No</td>\n",
              "      <td>No</td>\n",
              "      <td>No</td>\n",
              "      <td>Yes</td>\n",
              "      <td>No</td>\n",
              "      <td>No</td>\n",
              "      <td>Bank Transfer(automatic)</td>\n",
              "      <td>13.011492</td>\n",
              "      <td>136.431239</td>\n",
              "      <td>1196.388018</td>\n",
              "      <td>1</td>\n",
              "      <td>2</td>\n",
              "      <td>1</td>\n",
              "      <td>4</td>\n",
              "      <td>3</td>\n",
              "      <td>2</td>\n",
              "      <td>3</td>\n",
              "      <td>3</td>\n",
              "    </tr>\n",
              "    <tr>\n",
              "      <th>14</th>\n",
              "      <td>X44200</td>\n",
              "      <td>780992d3-d758-4152-aceb-5d59edda3d15</td>\n",
              "      <td>East Livermore</td>\n",
              "      <td>ME</td>\n",
              "      <td>Androscoggin</td>\n",
              "      <td>4228</td>\n",
              "      <td>44.43256</td>\n",
              "      <td>-70.11501</td>\n",
              "      <td>0</td>\n",
              "      <td>Urban</td>\n",
              "      <td>America/New_York</td>\n",
              "      <td>Learning disability nurse</td>\n",
              "      <td>5.0</td>\n",
              "      <td>NaN</td>\n",
              "      <td>No Schooling Completed</td>\n",
              "      <td>Retired</td>\n",
              "      <td>115114.57</td>\n",
              "      <td>Separated</td>\n",
              "      <td>Female</td>\n",
              "      <td>No</td>\n",
              "      <td>6.568344</td>\n",
              "      <td>14</td>\n",
              "      <td>1</td>\n",
              "      <td>0</td>\n",
              "      <td>No</td>\n",
              "      <td>Two Year</td>\n",
              "      <td>Yes</td>\n",
              "      <td>Yes</td>\n",
              "      <td>Fiber Optic</td>\n",
              "      <td>Yes</td>\n",
              "      <td>Yes</td>\n",
              "      <td>Yes</td>\n",
              "      <td>No</td>\n",
              "      <td>No</td>\n",
              "      <td>Yes</td>\n",
              "      <td>Yes</td>\n",
              "      <td>No</td>\n",
              "      <td>Yes</td>\n",
              "      <td>Bank Transfer(automatic)</td>\n",
              "      <td>16.879220</td>\n",
              "      <td>185.659294</td>\n",
              "      <td>1948.694497</td>\n",
              "      <td>5</td>\n",
              "      <td>6</td>\n",
              "      <td>5</td>\n",
              "      <td>2</td>\n",
              "      <td>4</td>\n",
              "      <td>5</td>\n",
              "      <td>4</td>\n",
              "      <td>4</td>\n",
              "    </tr>\n",
              "    <tr>\n",
              "      <th>15</th>\n",
              "      <td>H68068</td>\n",
              "      <td>8dc7ad15-2f59-4c77-9640-6f2c0000b3fc</td>\n",
              "      <td>Hillside</td>\n",
              "      <td>IL</td>\n",
              "      <td>Cook</td>\n",
              "      <td>60162</td>\n",
              "      <td>41.86752</td>\n",
              "      <td>-87.90222</td>\n",
              "      <td>8165</td>\n",
              "      <td>Urban</td>\n",
              "      <td>America/Chicago</td>\n",
              "      <td>Automotive engineer</td>\n",
              "      <td>NaN</td>\n",
              "      <td>30.0</td>\n",
              "      <td>Associate's Degree</td>\n",
              "      <td>Full Time</td>\n",
              "      <td>64256.81</td>\n",
              "      <td>Separated</td>\n",
              "      <td>Male</td>\n",
              "      <td>Yes</td>\n",
              "      <td>12.630691</td>\n",
              "      <td>10</td>\n",
              "      <td>3</td>\n",
              "      <td>0</td>\n",
              "      <td>No</td>\n",
              "      <td>Month-to-month</td>\n",
              "      <td>No</td>\n",
              "      <td>No</td>\n",
              "      <td>DSL</td>\n",
              "      <td>No</td>\n",
              "      <td>Yes</td>\n",
              "      <td>No</td>\n",
              "      <td>Yes</td>\n",
              "      <td>No</td>\n",
              "      <td>Yes</td>\n",
              "      <td>No</td>\n",
              "      <td>No</td>\n",
              "      <td>Yes</td>\n",
              "      <td>Bank Transfer(automatic)</td>\n",
              "      <td>10.060199</td>\n",
              "      <td>160.805542</td>\n",
              "      <td>NaN</td>\n",
              "      <td>3</td>\n",
              "      <td>3</td>\n",
              "      <td>4</td>\n",
              "      <td>2</td>\n",
              "      <td>3</td>\n",
              "      <td>4</td>\n",
              "      <td>4</td>\n",
              "      <td>2</td>\n",
              "    </tr>\n",
              "    <tr>\n",
              "      <th>16</th>\n",
              "      <td>A403906</td>\n",
              "      <td>df437bd4-bd8a-4c8f-8110-11ed1a7723ea</td>\n",
              "      <td>Saint Germain</td>\n",
              "      <td>WI</td>\n",
              "      <td>Vilas</td>\n",
              "      <td>54558</td>\n",
              "      <td>45.92342</td>\n",
              "      <td>-89.50138</td>\n",
              "      <td>2093</td>\n",
              "      <td>Suburban</td>\n",
              "      <td>America/Chicago</td>\n",
              "      <td>Amenity horticulturist</td>\n",
              "      <td>NaN</td>\n",
              "      <td>39.0</td>\n",
              "      <td>Bachelor's Degree</td>\n",
              "      <td>Full Time</td>\n",
              "      <td>89061.45</td>\n",
              "      <td>Divorced</td>\n",
              "      <td>Male</td>\n",
              "      <td>Yes</td>\n",
              "      <td>9.482219</td>\n",
              "      <td>13</td>\n",
              "      <td>1</td>\n",
              "      <td>0</td>\n",
              "      <td>No</td>\n",
              "      <td>One year</td>\n",
              "      <td>No</td>\n",
              "      <td>No</td>\n",
              "      <td>None</td>\n",
              "      <td>Yes</td>\n",
              "      <td>No</td>\n",
              "      <td>Yes</td>\n",
              "      <td>No</td>\n",
              "      <td>No</td>\n",
              "      <td>No</td>\n",
              "      <td>Yes</td>\n",
              "      <td>Yes</td>\n",
              "      <td>Yes</td>\n",
              "      <td>Electronic Check</td>\n",
              "      <td>13.870013</td>\n",
              "      <td>176.334509</td>\n",
              "      <td>1840.014467</td>\n",
              "      <td>3</td>\n",
              "      <td>3</td>\n",
              "      <td>3</td>\n",
              "      <td>2</td>\n",
              "      <td>4</td>\n",
              "      <td>3</td>\n",
              "      <td>5</td>\n",
              "      <td>2</td>\n",
              "    </tr>\n",
              "    <tr>\n",
              "      <th>17</th>\n",
              "      <td>V847470</td>\n",
              "      <td>bbf5ca9f-cb89-44ea-ac42-3f5862ebdbd0</td>\n",
              "      <td>Modesto</td>\n",
              "      <td>CA</td>\n",
              "      <td>Stanislaus</td>\n",
              "      <td>95351</td>\n",
              "      <td>37.62326</td>\n",
              "      <td>-120.99637</td>\n",
              "      <td>50079</td>\n",
              "      <td>Urban</td>\n",
              "      <td>America/Los_Angeles</td>\n",
              "      <td>Applications developer</td>\n",
              "      <td>NaN</td>\n",
              "      <td>63.0</td>\n",
              "      <td>Some College, 1 or More Years, No Degree</td>\n",
              "      <td>Retired</td>\n",
              "      <td>31659.30</td>\n",
              "      <td>Married</td>\n",
              "      <td>Female</td>\n",
              "      <td>Yes</td>\n",
              "      <td>14.429165</td>\n",
              "      <td>13</td>\n",
              "      <td>1</td>\n",
              "      <td>0</td>\n",
              "      <td>No</td>\n",
              "      <td>Month-to-month</td>\n",
              "      <td>Yes</td>\n",
              "      <td>No</td>\n",
              "      <td>DSL</td>\n",
              "      <td>Yes</td>\n",
              "      <td>Yes</td>\n",
              "      <td>No</td>\n",
              "      <td>Yes</td>\n",
              "      <td>Yes</td>\n",
              "      <td>No</td>\n",
              "      <td>No</td>\n",
              "      <td>Yes</td>\n",
              "      <td>Yes</td>\n",
              "      <td>Bank Transfer(automatic)</td>\n",
              "      <td>15.782150</td>\n",
              "      <td>195.872604</td>\n",
              "      <td>2070.376729</td>\n",
              "      <td>3</td>\n",
              "      <td>4</td>\n",
              "      <td>4</td>\n",
              "      <td>3</td>\n",
              "      <td>5</td>\n",
              "      <td>4</td>\n",
              "      <td>4</td>\n",
              "      <td>3</td>\n",
              "    </tr>\n",
              "    <tr>\n",
              "      <th>18</th>\n",
              "      <td>F721878</td>\n",
              "      <td>5c3548de-4744-4167-9412-3f018262bab2</td>\n",
              "      <td>Parkton</td>\n",
              "      <td>NC</td>\n",
              "      <td>Robeson</td>\n",
              "      <td>28371</td>\n",
              "      <td>34.90636</td>\n",
              "      <td>-78.98944</td>\n",
              "      <td>7249</td>\n",
              "      <td>Rural</td>\n",
              "      <td>America/New_York</td>\n",
              "      <td>Immunologist</td>\n",
              "      <td>NaN</td>\n",
              "      <td>60.0</td>\n",
              "      <td>9th Grade to 12th Grade, No Diploma</td>\n",
              "      <td>Retired</td>\n",
              "      <td>44142.81</td>\n",
              "      <td>Separated</td>\n",
              "      <td>Male</td>\n",
              "      <td>Yes</td>\n",
              "      <td>10.217903</td>\n",
              "      <td>16</td>\n",
              "      <td>3</td>\n",
              "      <td>0</td>\n",
              "      <td>No</td>\n",
              "      <td>Two Year</td>\n",
              "      <td>No</td>\n",
              "      <td>No</td>\n",
              "      <td>None</td>\n",
              "      <td>Yes</td>\n",
              "      <td>No</td>\n",
              "      <td>Yes</td>\n",
              "      <td>No</td>\n",
              "      <td>Yes</td>\n",
              "      <td>Yes</td>\n",
              "      <td>Yes</td>\n",
              "      <td>Yes</td>\n",
              "      <td>No</td>\n",
              "      <td>Mailed Check</td>\n",
              "      <td>NaN</td>\n",
              "      <td>203.069597</td>\n",
              "      <td>882.098593</td>\n",
              "      <td>2</td>\n",
              "      <td>2</td>\n",
              "      <td>4</td>\n",
              "      <td>3</td>\n",
              "      <td>3</td>\n",
              "      <td>4</td>\n",
              "      <td>3</td>\n",
              "      <td>3</td>\n",
              "    </tr>\n",
              "    <tr>\n",
              "      <th>19</th>\n",
              "      <td>F487435</td>\n",
              "      <td>200fad69-1e40-4de6-9222-df84d8925000</td>\n",
              "      <td>Oakland</td>\n",
              "      <td>TN</td>\n",
              "      <td>Fayette</td>\n",
              "      <td>38060</td>\n",
              "      <td>35.20910</td>\n",
              "      <td>-89.50332</td>\n",
              "      <td>9463</td>\n",
              "      <td>Rural</td>\n",
              "      <td>America/Chicago</td>\n",
              "      <td>Engineer, electrical</td>\n",
              "      <td>3.0</td>\n",
              "      <td>61.0</td>\n",
              "      <td>Regular High School Diploma</td>\n",
              "      <td>Full Time</td>\n",
              "      <td>39262.14</td>\n",
              "      <td>Widowed</td>\n",
              "      <td>Female</td>\n",
              "      <td>No</td>\n",
              "      <td>11.101068</td>\n",
              "      <td>11</td>\n",
              "      <td>1</td>\n",
              "      <td>0</td>\n",
              "      <td>Yes</td>\n",
              "      <td>Two Year</td>\n",
              "      <td>Yes</td>\n",
              "      <td>No</td>\n",
              "      <td>None</td>\n",
              "      <td>Yes</td>\n",
              "      <td>No</td>\n",
              "      <td>No</td>\n",
              "      <td>Yes</td>\n",
              "      <td>Yes</td>\n",
              "      <td>Yes</td>\n",
              "      <td>Yes</td>\n",
              "      <td>No</td>\n",
              "      <td>Yes</td>\n",
              "      <td>Bank Transfer(automatic)</td>\n",
              "      <td>17.109956</td>\n",
              "      <td>154.017102</td>\n",
              "      <td>1833.096700</td>\n",
              "      <td>3</td>\n",
              "      <td>4</td>\n",
              "      <td>3</td>\n",
              "      <td>4</td>\n",
              "      <td>3</td>\n",
              "      <td>2</td>\n",
              "      <td>3</td>\n",
              "      <td>5</td>\n",
              "    </tr>\n",
              "    <tr>\n",
              "      <th>20</th>\n",
              "      <td>B561228</td>\n",
              "      <td>5ff2d3a8-6e9f-4bfa-af2b-04e5cdc0a1e0</td>\n",
              "      <td>Trafford</td>\n",
              "      <td>AL</td>\n",
              "      <td>Blount</td>\n",
              "      <td>35172</td>\n",
              "      <td>33.84469</td>\n",
              "      <td>-86.69740</td>\n",
              "      <td>3177</td>\n",
              "      <td>Rural</td>\n",
              "      <td>America/Chicago</td>\n",
              "      <td>Broadcast presenter</td>\n",
              "      <td>3.0</td>\n",
              "      <td>23.0</td>\n",
              "      <td>Associate's Degree</td>\n",
              "      <td>Part Time</td>\n",
              "      <td>19494.75</td>\n",
              "      <td>Divorced</td>\n",
              "      <td>Male</td>\n",
              "      <td>Yes</td>\n",
              "      <td>11.088532</td>\n",
              "      <td>10</td>\n",
              "      <td>1</td>\n",
              "      <td>0</td>\n",
              "      <td>No</td>\n",
              "      <td>Month-to-month</td>\n",
              "      <td>Yes</td>\n",
              "      <td>No</td>\n",
              "      <td>DSL</td>\n",
              "      <td>Yes</td>\n",
              "      <td>Yes</td>\n",
              "      <td>No</td>\n",
              "      <td>No</td>\n",
              "      <td>No</td>\n",
              "      <td>No</td>\n",
              "      <td>Yes</td>\n",
              "      <td>No</td>\n",
              "      <td>Yes</td>\n",
              "      <td>Credit Card (automatic)</td>\n",
              "      <td>12.806158</td>\n",
              "      <td>150.110739</td>\n",
              "      <td>1954.080809</td>\n",
              "      <td>5</td>\n",
              "      <td>5</td>\n",
              "      <td>5</td>\n",
              "      <td>4</td>\n",
              "      <td>4</td>\n",
              "      <td>4</td>\n",
              "      <td>3</td>\n",
              "      <td>3</td>\n",
              "    </tr>\n",
              "  </tbody>\n",
              "</table>\n",
              "</div>\n",
              "    <div class=\"colab-df-buttons\">\n",
              "\n",
              "  <div class=\"colab-df-container\">\n",
              "    <button class=\"colab-df-convert\" onclick=\"convertToInteractive('df-6315ad76-3316-415c-89be-0e096cc35399')\"\n",
              "            title=\"Convert this dataframe to an interactive table.\"\n",
              "            style=\"display:none;\">\n",
              "\n",
              "  <svg xmlns=\"http://www.w3.org/2000/svg\" height=\"24px\" viewBox=\"0 -960 960 960\">\n",
              "    <path d=\"M120-120v-720h720v720H120Zm60-500h600v-160H180v160Zm220 220h160v-160H400v160Zm0 220h160v-160H400v160ZM180-400h160v-160H180v160Zm440 0h160v-160H620v160ZM180-180h160v-160H180v160Zm440 0h160v-160H620v160Z\"/>\n",
              "  </svg>\n",
              "    </button>\n",
              "\n",
              "  <style>\n",
              "    .colab-df-container {\n",
              "      display:flex;\n",
              "      gap: 12px;\n",
              "    }\n",
              "\n",
              "    .colab-df-convert {\n",
              "      background-color: #E8F0FE;\n",
              "      border: none;\n",
              "      border-radius: 50%;\n",
              "      cursor: pointer;\n",
              "      display: none;\n",
              "      fill: #1967D2;\n",
              "      height: 32px;\n",
              "      padding: 0 0 0 0;\n",
              "      width: 32px;\n",
              "    }\n",
              "\n",
              "    .colab-df-convert:hover {\n",
              "      background-color: #E2EBFA;\n",
              "      box-shadow: 0px 1px 2px rgba(60, 64, 67, 0.3), 0px 1px 3px 1px rgba(60, 64, 67, 0.15);\n",
              "      fill: #174EA6;\n",
              "    }\n",
              "\n",
              "    .colab-df-buttons div {\n",
              "      margin-bottom: 4px;\n",
              "    }\n",
              "\n",
              "    [theme=dark] .colab-df-convert {\n",
              "      background-color: #3B4455;\n",
              "      fill: #D2E3FC;\n",
              "    }\n",
              "\n",
              "    [theme=dark] .colab-df-convert:hover {\n",
              "      background-color: #434B5C;\n",
              "      box-shadow: 0px 1px 3px 1px rgba(0, 0, 0, 0.15);\n",
              "      filter: drop-shadow(0px 1px 2px rgba(0, 0, 0, 0.3));\n",
              "      fill: #FFFFFF;\n",
              "    }\n",
              "  </style>\n",
              "\n",
              "    <script>\n",
              "      const buttonEl =\n",
              "        document.querySelector('#df-6315ad76-3316-415c-89be-0e096cc35399 button.colab-df-convert');\n",
              "      buttonEl.style.display =\n",
              "        google.colab.kernel.accessAllowed ? 'block' : 'none';\n",
              "\n",
              "      async function convertToInteractive(key) {\n",
              "        const element = document.querySelector('#df-6315ad76-3316-415c-89be-0e096cc35399');\n",
              "        const dataTable =\n",
              "          await google.colab.kernel.invokeFunction('convertToInteractive',\n",
              "                                                    [key], {});\n",
              "        if (!dataTable) return;\n",
              "\n",
              "        const docLinkHtml = 'Like what you see? Visit the ' +\n",
              "          '<a target=\"_blank\" href=https://colab.research.google.com/notebooks/data_table.ipynb>data table notebook</a>'\n",
              "          + ' to learn more about interactive tables.';\n",
              "        element.innerHTML = '';\n",
              "        dataTable['output_type'] = 'display_data';\n",
              "        await google.colab.output.renderOutput(dataTable, element);\n",
              "        const docLink = document.createElement('div');\n",
              "        docLink.innerHTML = docLinkHtml;\n",
              "        element.appendChild(docLink);\n",
              "      }\n",
              "    </script>\n",
              "  </div>\n",
              "\n",
              "\n",
              "<div id=\"df-47625d7a-626b-4417-9923-2cbffde58049\">\n",
              "  <button class=\"colab-df-quickchart\" onclick=\"quickchart('df-47625d7a-626b-4417-9923-2cbffde58049')\"\n",
              "            title=\"Suggest charts\"\n",
              "            style=\"display:none;\">\n",
              "\n",
              "<svg xmlns=\"http://www.w3.org/2000/svg\" height=\"24px\"viewBox=\"0 0 24 24\"\n",
              "     width=\"24px\">\n",
              "    <g>\n",
              "        <path d=\"M19 3H5c-1.1 0-2 .9-2 2v14c0 1.1.9 2 2 2h14c1.1 0 2-.9 2-2V5c0-1.1-.9-2-2-2zM9 17H7v-7h2v7zm4 0h-2V7h2v10zm4 0h-2v-4h2v4z\"/>\n",
              "    </g>\n",
              "</svg>\n",
              "  </button>\n",
              "\n",
              "<style>\n",
              "  .colab-df-quickchart {\n",
              "      --bg-color: #E8F0FE;\n",
              "      --fill-color: #1967D2;\n",
              "      --hover-bg-color: #E2EBFA;\n",
              "      --hover-fill-color: #174EA6;\n",
              "      --disabled-fill-color: #AAA;\n",
              "      --disabled-bg-color: #DDD;\n",
              "  }\n",
              "\n",
              "  [theme=dark] .colab-df-quickchart {\n",
              "      --bg-color: #3B4455;\n",
              "      --fill-color: #D2E3FC;\n",
              "      --hover-bg-color: #434B5C;\n",
              "      --hover-fill-color: #FFFFFF;\n",
              "      --disabled-bg-color: #3B4455;\n",
              "      --disabled-fill-color: #666;\n",
              "  }\n",
              "\n",
              "  .colab-df-quickchart {\n",
              "    background-color: var(--bg-color);\n",
              "    border: none;\n",
              "    border-radius: 50%;\n",
              "    cursor: pointer;\n",
              "    display: none;\n",
              "    fill: var(--fill-color);\n",
              "    height: 32px;\n",
              "    padding: 0;\n",
              "    width: 32px;\n",
              "  }\n",
              "\n",
              "  .colab-df-quickchart:hover {\n",
              "    background-color: var(--hover-bg-color);\n",
              "    box-shadow: 0 1px 2px rgba(60, 64, 67, 0.3), 0 1px 3px 1px rgba(60, 64, 67, 0.15);\n",
              "    fill: var(--button-hover-fill-color);\n",
              "  }\n",
              "\n",
              "  .colab-df-quickchart-complete:disabled,\n",
              "  .colab-df-quickchart-complete:disabled:hover {\n",
              "    background-color: var(--disabled-bg-color);\n",
              "    fill: var(--disabled-fill-color);\n",
              "    box-shadow: none;\n",
              "  }\n",
              "\n",
              "  .colab-df-spinner {\n",
              "    border: 2px solid var(--fill-color);\n",
              "    border-color: transparent;\n",
              "    border-bottom-color: var(--fill-color);\n",
              "    animation:\n",
              "      spin 1s steps(1) infinite;\n",
              "  }\n",
              "\n",
              "  @keyframes spin {\n",
              "    0% {\n",
              "      border-color: transparent;\n",
              "      border-bottom-color: var(--fill-color);\n",
              "      border-left-color: var(--fill-color);\n",
              "    }\n",
              "    20% {\n",
              "      border-color: transparent;\n",
              "      border-left-color: var(--fill-color);\n",
              "      border-top-color: var(--fill-color);\n",
              "    }\n",
              "    30% {\n",
              "      border-color: transparent;\n",
              "      border-left-color: var(--fill-color);\n",
              "      border-top-color: var(--fill-color);\n",
              "      border-right-color: var(--fill-color);\n",
              "    }\n",
              "    40% {\n",
              "      border-color: transparent;\n",
              "      border-right-color: var(--fill-color);\n",
              "      border-top-color: var(--fill-color);\n",
              "    }\n",
              "    60% {\n",
              "      border-color: transparent;\n",
              "      border-right-color: var(--fill-color);\n",
              "    }\n",
              "    80% {\n",
              "      border-color: transparent;\n",
              "      border-right-color: var(--fill-color);\n",
              "      border-bottom-color: var(--fill-color);\n",
              "    }\n",
              "    90% {\n",
              "      border-color: transparent;\n",
              "      border-bottom-color: var(--fill-color);\n",
              "    }\n",
              "  }\n",
              "</style>\n",
              "\n",
              "  <script>\n",
              "    async function quickchart(key) {\n",
              "      const quickchartButtonEl =\n",
              "        document.querySelector('#' + key + ' button');\n",
              "      quickchartButtonEl.disabled = true;  // To prevent multiple clicks.\n",
              "      quickchartButtonEl.classList.add('colab-df-spinner');\n",
              "      try {\n",
              "        const charts = await google.colab.kernel.invokeFunction(\n",
              "            'suggestCharts', [key], {});\n",
              "      } catch (error) {\n",
              "        console.error('Error during call to suggestCharts:', error);\n",
              "      }\n",
              "      quickchartButtonEl.classList.remove('colab-df-spinner');\n",
              "      quickchartButtonEl.classList.add('colab-df-quickchart-complete');\n",
              "    }\n",
              "    (() => {\n",
              "      let quickchartButtonEl =\n",
              "        document.querySelector('#df-47625d7a-626b-4417-9923-2cbffde58049 button');\n",
              "      quickchartButtonEl.style.display =\n",
              "        google.colab.kernel.accessAllowed ? 'block' : 'none';\n",
              "    })();\n",
              "  </script>\n",
              "</div>\n",
              "\n",
              "    </div>\n",
              "  </div>\n"
            ],
            "application/vnd.google.colaboratory.intrinsic+json": {
              "type": "dataframe",
              "variable_name": "churndf"
            }
          },
          "metadata": {},
          "execution_count": 201
        }
      ]
    },
    {
      "cell_type": "code",
      "source": [
        "unique_data = churndf.nunique()\n",
        "print(unique_data)"
      ],
      "metadata": {
        "colab": {
          "base_uri": "https://localhost:8080/"
        },
        "id": "eUlvQbJk36zK",
        "outputId": "42c12e3f-e308-4b6d-c2d8-3e031c9f0aa7"
      },
      "execution_count": 202,
      "outputs": [
        {
          "output_type": "stream",
          "name": "stdout",
          "text": [
            "Customer_id             10000\n",
            "Interaction             10000\n",
            "City                     6058\n",
            "State                      52\n",
            "County                   1620\n",
            "Zip                      8583\n",
            "Lat                      8563\n",
            "Lng                      8655\n",
            "Population               5933\n",
            "Area                        3\n",
            "Timezone                   25\n",
            "Job                       639\n",
            "Children                   11\n",
            "Age                        72\n",
            "Education                  12\n",
            "Employment                  5\n",
            "Income                   7506\n",
            "Marital                     5\n",
            "Gender                      3\n",
            "Churn                       2\n",
            "Outage_sec_perweek       9993\n",
            "Email                      23\n",
            "Contacts                    8\n",
            "Yearly_equip_failure        6\n",
            "Techie                      2\n",
            "Contract                    3\n",
            "Port_modem                  2\n",
            "Tablet                      2\n",
            "InternetService             3\n",
            "Phone                       2\n",
            "Multiple                    2\n",
            "OnlineSecurity              2\n",
            "OnlineBackup                2\n",
            "DeviceProtection            2\n",
            "TechSupport                 2\n",
            "StreamingTV                 2\n",
            "StreamingMovies             2\n",
            "PaperlessBilling            2\n",
            "PaymentMethod               4\n",
            "Tenure                   9065\n",
            "MonthlyCharge            9984\n",
            "Bandwidth_GB_Year        8972\n",
            "item1                       7\n",
            "item2                       7\n",
            "item3                       8\n",
            "item4                       7\n",
            "item5                       7\n",
            "item6                       8\n",
            "item7                       7\n",
            "item8                       8\n",
            "dtype: int64\n"
          ]
        }
      ]
    },
    {
      "cell_type": "markdown",
      "source": [
        "# Format"
      ],
      "metadata": {
        "id": "5-98J3c_bQi-"
      }
    },
    {
      "cell_type": "markdown",
      "source": [
        "## Standard Python Names"
      ],
      "metadata": {
        "id": "VMxaWHppcpg9"
      }
    },
    {
      "cell_type": "code",
      "source": [
        "python_columns = [\"customer_id\", \"uid\", \"city\", \"state\", \"county\", \"zip_code\",\n",
        "                  \"latitude\", \"longitude\", \"population\", \"area\", \"timezone\", \"job\", \"children\", \"age\",\n",
        "                  \"education\", \"employment\", \"income\", \"marital_status\", \"gender\", \"churn\", \"outage_sec_perweek\",\n",
        "                  \"email\", \"contacts\", \"yearly_equip_failure\", \"techie\", \"contract\", \"port_modem\",\n",
        "                  \"tablet\", \"internet_service\", \"phone_service\", \"multiple_lines\", \"online_security\",\n",
        "                  \"online_backup\", \"device_protection\", \"tech_support\", \"streaming_tv\", \"streaming_movies\",\n",
        "                  \"paperless_billing\", \"payment_method\", \"tenure\", \"monthly_charge\", \"bandwidth_gb_year\",\n",
        "                  \"survey1_response\", \"survey2_fixes\", \"survey3_replacements\", \"survey4_reliability\", \"survey5_options\",\n",
        "                  \"survey6_respectful\", \"survey7_courteous\", \"survey8_listening\"]\n",
        "\n",
        "churndf.set_axis(python_columns, axis=1, inplace=True)"
      ],
      "metadata": {
        "colab": {
          "base_uri": "https://localhost:8080/"
        },
        "id": "JzDN1yWUcrTT",
        "outputId": "14ebb1e5-24cf-4bd2-eb6d-eeca59930c9c"
      },
      "execution_count": 203,
      "outputs": [
        {
          "output_type": "stream",
          "name": "stderr",
          "text": [
            "<ipython-input-203-140e9e4addad>:11: FutureWarning: DataFrame.set_axis 'inplace' keyword is deprecated and will be removed in a future version. Use `obj = obj.set_axis(..., copy=False)` instead\n",
            "  churndf.set_axis(python_columns, axis=1, inplace=True)\n"
          ]
        }
      ]
    },
    {
      "cell_type": "markdown",
      "source": [
        "## Zip"
      ],
      "metadata": {
        "id": "5ht7jbxXbSOn"
      }
    },
    {
      "cell_type": "code",
      "source": [
        "churndf['zip_code']=churndf['zip_code'].astype(\"str\").str.zfill(5)"
      ],
      "metadata": {
        "id": "M7_CAGEybV9T"
      },
      "execution_count": 204,
      "outputs": []
    },
    {
      "cell_type": "code",
      "source": [
        "print(churndf['zip_code'])"
      ],
      "metadata": {
        "id": "7CtipCCJePFB",
        "colab": {
          "base_uri": "https://localhost:8080/"
        },
        "outputId": "ec403492-4af6-4c7d-92bd-95293b626867"
      },
      "execution_count": 205,
      "outputs": [
        {
          "output_type": "stream",
          "name": "stdout",
          "text": [
            "CaseOrder\n",
            "1        99927\n",
            "2        48661\n",
            "3        97148\n",
            "4        92014\n",
            "5        77461\n",
            "         ...  \n",
            "9996     05758\n",
            "9997     37042\n",
            "9998     79061\n",
            "9999     30117\n",
            "10000    30523\n",
            "Name: zip_code, Length: 10000, dtype: object\n"
          ]
        }
      ]
    },
    {
      "cell_type": "markdown",
      "source": [
        "## Change columns to category\n",
        "* Area\n",
        "* Timezone\n",
        "* Education\n",
        "* Employment\n",
        "* Marital\n",
        "* Gender\n",
        "* Contract\n",
        "* Internet Service\n",
        "* Payment Method\n",
        "\n"
      ],
      "metadata": {
        "id": "FME-EkV0bvSw"
      }
    },
    {
      "cell_type": "code",
      "source": [
        "churndf['area']=churndf['area'].astype('category')\n",
        "churndf['marital_status']=churndf['marital_status'].astype('category')\n",
        "churndf['gender']=churndf['gender'].astype('category')\n",
        "churndf['contract']=churndf['contract'].astype('category')\n",
        "churndf['internet_service']=churndf['internet_service'].astype('category')\n",
        "churndf['payment_method']=churndf['payment_method'].astype('category')"
      ],
      "metadata": {
        "id": "kxvgHDb1EFML"
      },
      "execution_count": 206,
      "outputs": []
    },
    {
      "cell_type": "code",
      "source": [
        "category_columns = churndf.select_dtypes(include=['category']).columns\n",
        "\n",
        "for column in category_columns:\n",
        "  print(f\"Column: {column}\")\n",
        "  print(churndf[column].unique())\n",
        "  print()"
      ],
      "metadata": {
        "colab": {
          "base_uri": "https://localhost:8080/"
        },
        "id": "-Abi4hHkDK7F",
        "outputId": "6154cd91-9c44-416c-bd9d-da323abe7370"
      },
      "execution_count": 207,
      "outputs": [
        {
          "output_type": "stream",
          "name": "stdout",
          "text": [
            "Column: area\n",
            "['Urban', 'Suburban', 'Rural']\n",
            "Categories (3, object): ['Rural', 'Suburban', 'Urban']\n",
            "\n",
            "Column: marital_status\n",
            "['Widowed', 'Married', 'Separated', 'Never Married', 'Divorced']\n",
            "Categories (5, object): ['Divorced', 'Married', 'Never Married', 'Separated', 'Widowed']\n",
            "\n",
            "Column: gender\n",
            "['Male', 'Female', 'Prefer not to answer']\n",
            "Categories (3, object): ['Female', 'Male', 'Prefer not to answer']\n",
            "\n",
            "Column: contract\n",
            "['One year', 'Month-to-month', 'Two Year']\n",
            "Categories (3, object): ['Month-to-month', 'One year', 'Two Year']\n",
            "\n",
            "Column: internet_service\n",
            "['Fiber Optic', 'DSL', 'None']\n",
            "Categories (3, object): ['DSL', 'Fiber Optic', 'None']\n",
            "\n",
            "Column: payment_method\n",
            "['Credit Card (automatic)', 'Bank Transfer(automatic)', 'Mailed Check', 'Electronic Check']\n",
            "Categories (4, object): ['Bank Transfer(automatic)', 'Credit Card (automatic)', 'Electronic Check',\n",
            "                         'Mailed Check']\n",
            "\n"
          ]
        }
      ]
    },
    {
      "cell_type": "code",
      "source": [
        "churndf.timezone.value_counts()"
      ],
      "metadata": {
        "colab": {
          "base_uri": "https://localhost:8080/"
        },
        "id": "SYSKHVZ8dLen",
        "outputId": "98867a55-b26e-4977-c9bf-1d7a68f5e8e0"
      },
      "execution_count": 208,
      "outputs": [
        {
          "output_type": "execute_result",
          "data": {
            "text/plain": [
              "America/New_York                  4072\n",
              "America/Chicago                   3672\n",
              "America/Los_Angeles                887\n",
              "America/Denver                     552\n",
              "America/Detroit                    265\n",
              "America/Indiana/Indianapolis       186\n",
              "America/Phoenix                    104\n",
              "America/Boise                       57\n",
              "America/Anchorage                   55\n",
              "America/Puerto_Rico                 40\n",
              "Pacific/Honolulu                    35\n",
              "America/Menominee                   16\n",
              "America/Nome                        12\n",
              "America/Kentucky/Louisville         10\n",
              "America/Sitka                        8\n",
              "America/Indiana/Vincennes            6\n",
              "America/Indiana/Tell_City            6\n",
              "America/Toronto                      5\n",
              "America/Indiana/Petersburg           4\n",
              "America/Juneau                       2\n",
              "America/North_Dakota/New_Salem       2\n",
              "America/Indiana/Knox                 1\n",
              "America/Indiana/Winamac              1\n",
              "America/Indiana/Marengo              1\n",
              "America/Ojinaga                      1\n",
              "Name: timezone, dtype: int64"
            ]
          },
          "metadata": {},
          "execution_count": 208
        }
      ]
    },
    {
      "cell_type": "markdown",
      "source": [
        "## Change Timezone to Category and Merge Categories"
      ],
      "metadata": {
        "id": "Xd-JHq7WI3Gh"
      }
    },
    {
      "cell_type": "code",
      "source": [
        "churndf['timezone']=churndf['timezone'].astype('category')"
      ],
      "metadata": {
        "id": "3dlsA0V0J_HJ"
      },
      "execution_count": 209,
      "outputs": []
    },
    {
      "cell_type": "code",
      "source": [
        "churndf.timezone.replace({\n",
        "    #Atlantic\n",
        "    \"America/Puerto_Rico\": \"atlantic\",\n",
        "\n",
        "    #Eastern\n",
        "    \"America/New_York\": \"eastern\",\n",
        "    \"America/Detroit\": \"eastern\",\n",
        "    \"America/Indiana/Indianapolis\": \"eastern\",\n",
        "    \"America/Kentucky/Louisville\": \"eastern\",\n",
        "    \"America/Indiana/Vincennes\": \"eastern\",\n",
        "    \"America/Toronto\": \"eastern\",\n",
        "    \"America/Indiana/Petersburg\": \"eastern\",\n",
        "    \"America/Indiana/Winamac\": \"eastern\",\n",
        "    \"America/Indiana/Marengo\": \"eastern\",\n",
        "\n",
        "    #Central\n",
        "    \"America/Chicago\": \"central\",\n",
        "    \"America/Menominee\": \"central\",\n",
        "    \"America/Indiana/Tell_City\": \"central\",\n",
        "    \"America/North_Dakota/New_Salem\": \"central\",\n",
        "    \"America/Ojinaga\": \"central\",\n",
        "    \"America/Indiana/Knox\": \"central\",\n",
        "\n",
        "    #Mountain\n",
        "    \"America/Denver\": \"mountain\",\n",
        "    \"America/Boise\": \"mountain\",\n",
        "\n",
        "    #Arizona - Mountain/No Daylight Savings\n",
        "    \"America/Phoenix\": \"arizona\",\n",
        "\n",
        "    #Pacific\n",
        "    \"America/Los_Angeles\": \"pacific\",\n",
        "\n",
        "    #Alaska\n",
        "    \"America/Anchorage\": \"alaska\",\n",
        "    \"America/Nome\": \"alaska\",\n",
        "    \"America/Sitka\": \"alaska\",\n",
        "    \"America/Juneau\": \"alaska\",\n",
        "\n",
        "    #Hawaii-Aleutian\n",
        "    \"Pacific/Honolulu\": \"hawaii_aleutian\",\n",
        "\n",
        "}, inplace=True)"
      ],
      "metadata": {
        "id": "k-7EpKu45LNP"
      },
      "execution_count": 210,
      "outputs": []
    },
    {
      "cell_type": "code",
      "source": [
        "churndf.timezone.value_counts()"
      ],
      "metadata": {
        "colab": {
          "base_uri": "https://localhost:8080/"
        },
        "outputId": "a1e8f7f7-b5f3-4534-877f-3b7f2d7b1119",
        "id": "qElxs4Xdcizz"
      },
      "execution_count": 211,
      "outputs": [
        {
          "output_type": "execute_result",
          "data": {
            "text/plain": [
              "eastern            4550\n",
              "central            3698\n",
              "pacific             887\n",
              "mountain            609\n",
              "arizona             104\n",
              "alaska               77\n",
              "atlantic             40\n",
              "hawaii_aleutian      35\n",
              "Name: timezone, dtype: int64"
            ]
          },
          "metadata": {},
          "execution_count": 211
        }
      ]
    },
    {
      "cell_type": "markdown",
      "source": [
        "## Education to Ordered Categorical"
      ],
      "metadata": {
        "id": "gktJYsIqs40w"
      }
    },
    {
      "cell_type": "code",
      "source": [
        "churndf.education.value_counts()"
      ],
      "metadata": {
        "colab": {
          "base_uri": "https://localhost:8080/"
        },
        "id": "nSgDIsn_lTSb",
        "outputId": "1d529f25-39f1-4e05-9165-2211da252b1c"
      },
      "execution_count": 212,
      "outputs": [
        {
          "output_type": "execute_result",
          "data": {
            "text/plain": [
              "Regular High School Diploma                 2421\n",
              "Bachelor's Degree                           1703\n",
              "Some College, 1 or More Years, No Degree    1562\n",
              "9th Grade to 12th Grade, No Diploma          870\n",
              "Master's Degree                              764\n",
              "Associate's Degree                           760\n",
              "Some College, Less than 1 Year               652\n",
              "Nursery School to 8th Grade                  449\n",
              "GED or Alternative Credential                387\n",
              "Professional School Degree                   198\n",
              "No Schooling Completed                       118\n",
              "Doctorate Degree                             116\n",
              "Name: education, dtype: int64"
            ]
          },
          "metadata": {},
          "execution_count": 212
        }
      ]
    },
    {
      "cell_type": "code",
      "source": [
        "churndf['education'] = pd.Categorical(churndf['education'], categories=[\"No Schooling Completed\", \"Nursery School to 8th Grade\",\n",
        "                                        \"9th Grade to 12th Grade, No Diploma\",\n",
        "                                        \"GED or Alternative Credential\", \"Regular High School Diploma\", \"Some College, Less than 1 Year\",\n",
        "                                        \"Some College, 1 or More Years, No Degree\", \"Professional School Degree\", \"Associate's Degree\",\n",
        "                                        \"Bachelor's Degree\", \"Master's Degree\", \"Doctorate Degree\"], ordered=True)"
      ],
      "metadata": {
        "id": "2vqxiqwfAipP"
      },
      "execution_count": 213,
      "outputs": []
    },
    {
      "cell_type": "code",
      "source": [
        "education_counts = churndf.education.value_counts().sort_index()\n",
        "print(education_counts)"
      ],
      "metadata": {
        "colab": {
          "base_uri": "https://localhost:8080/"
        },
        "id": "FmYswygLGy0O",
        "outputId": "cdc911af-282e-46b3-eb69-ff2f93a428e6"
      },
      "execution_count": 214,
      "outputs": [
        {
          "output_type": "stream",
          "name": "stdout",
          "text": [
            "No Schooling Completed                       118\n",
            "Nursery School to 8th Grade                  449\n",
            "9th Grade to 12th Grade, No Diploma          870\n",
            "GED or Alternative Credential                387\n",
            "Regular High School Diploma                 2421\n",
            "Some College, Less than 1 Year               652\n",
            "Some College, 1 or More Years, No Degree    1562\n",
            "Professional School Degree                   198\n",
            "Associate's Degree                           760\n",
            "Bachelor's Degree                           1703\n",
            "Master's Degree                              764\n",
            "Doctorate Degree                             116\n",
            "Name: education, dtype: int64\n"
          ]
        }
      ]
    },
    {
      "cell_type": "code",
      "source": [
        "plt.figure(figsize=(15, 5))\n",
        "education_counts.plot(kind='bar')\n",
        "plt.title('Education Level Distribution')\n",
        "plt.xlabel('Education Level')\n",
        "plt.ylabel('Count')\n",
        "plt.xticks(rotation=45, ha='right')\n",
        "plt.tight_layout()\n",
        "plt.show()"
      ],
      "metadata": {
        "colab": {
          "base_uri": "https://localhost:8080/",
          "height": 325
        },
        "id": "NREhoNoeG-nr",
        "outputId": "26f024e5-89bd-48ee-c7b9-2642a6f1248d"
      },
      "execution_count": 215,
      "outputs": [
        {
          "output_type": "display_data",
          "data": {
            "text/plain": [
              "<Figure size 1500x500 with 1 Axes>"
            ],
            "image/png": "[encoded data removed]"
          },
          "metadata": {}
        }
      ]
    },
    {
      "cell_type": "markdown",
      "source": [
        "## Employment to Ordered Categorical"
      ],
      "metadata": {
        "id": "aXvgS1rkuInw"
      }
    },
    {
      "cell_type": "code",
      "source": [
        "churndf['employment'] = pd.Categorical(churndf['employment'], categories=[\"Unemployed\", \"Student\", \"Retired\", \"Part Time\", \"Full Time\"], ordered=True)"
      ],
      "metadata": {
        "id": "k6azM-G2uHRL"
      },
      "execution_count": 216,
      "outputs": []
    },
    {
      "cell_type": "code",
      "source": [
        "employment_counts = churndf.employment.value_counts().sort_index()\n",
        "print(employment_counts)"
      ],
      "metadata": {
        "colab": {
          "base_uri": "https://localhost:8080/"
        },
        "id": "WGPZWpWUIOpz",
        "outputId": "5b9b2ae9-1954-4a19-8c1e-644abec726ef"
      },
      "execution_count": 217,
      "outputs": [
        {
          "output_type": "stream",
          "name": "stdout",
          "text": [
            "Unemployed     991\n",
            "Student        964\n",
            "Retired       1011\n",
            "Part Time     1042\n",
            "Full Time     5992\n",
            "Name: employment, dtype: int64\n"
          ]
        }
      ]
    },
    {
      "cell_type": "code",
      "source": [
        "plt.figure(figsize=(15, 5))\n",
        "employment_counts.plot(kind='bar')\n",
        "plt.title('Employment Level Distribution')\n",
        "plt.xlabel('Employment Level')\n",
        "plt.ylabel('Count')\n",
        "plt.xticks(rotation=45, ha='right')\n",
        "plt.tight_layout()\n",
        "plt.show()"
      ],
      "metadata": {
        "colab": {
          "base_uri": "https://localhost:8080/",
          "height": 323
        },
        "outputId": "a2a71d19-d8f8-4f74-f001-9e1dee135c6d",
        "id": "sQP5uf1-Ia9d"
      },
      "execution_count": 218,
      "outputs": [
        {
          "output_type": "display_data",
          "data": {
            "text/plain": [
              "<Figure size 1500x500 with 1 Axes>"
            ],
            "image/png": "[encoded data removed]"
          },
          "metadata": {}
        }
      ]
    },
    {
      "cell_type": "markdown",
      "source": [
        "# Numerical View"
      ],
      "metadata": {
        "id": "WYC8CVhaEggV"
      }
    },
    {
      "cell_type": "code",
      "source": [
        "churndf.describe()"
      ],
      "metadata": {
        "colab": {
          "base_uri": "https://localhost:8080/",
          "height": 320
        },
        "id": "d2rUh5mEEi7G",
        "outputId": "34aa3ca6-0260-4f52-d2d5-b63e97671aea"
      },
      "execution_count": 219,
      "outputs": [
        {
          "output_type": "execute_result",
          "data": {
            "text/plain": [
              "           latitude     longitude     population     children          age  \\\n",
              "count  10000.000000  10000.000000   10000.000000  7505.000000  7525.000000   \n",
              "mean      38.757567    -90.782536    9756.562400     2.095936    53.275748   \n",
              "std        5.437389     15.156142   14432.698671     2.154758    20.753928   \n",
              "min       17.966120   -171.688150       0.000000     0.000000    18.000000   \n",
              "25%       35.341828    -97.082812     738.000000     0.000000    35.000000   \n",
              "50%       39.395800    -87.918800    2910.500000     1.000000    53.000000   \n",
              "75%       42.106908    -80.088745   13168.000000     3.000000    71.000000   \n",
              "max       70.640660    -65.667850  111850.000000    10.000000    89.000000   \n",
              "\n",
              "              income  outage_sec_perweek         email      contacts  \\\n",
              "count    7510.000000        10000.000000  10000.000000  10000.000000   \n",
              "mean    39936.762226           11.452955     12.016000      0.994200   \n",
              "std     28358.469482            7.025921      3.025898      0.988466   \n",
              "min       740.660000           -1.348571      1.000000      0.000000   \n",
              "25%     19285.522500            8.054362     10.000000      0.000000   \n",
              "50%     33186.785000           10.202896     12.000000      1.000000   \n",
              "75%     53472.395000           12.487644     14.000000      2.000000   \n",
              "max    258900.700000           47.049280     23.000000      7.000000   \n",
              "\n",
              "       yearly_equip_failure       tenure  monthly_charge  bandwidth_gb_year  \\\n",
              "count          10000.000000  9069.000000    10000.000000        8979.000000   \n",
              "mean               0.398000    34.498858      174.076305        3398.842752   \n",
              "std                0.635953    26.438904       43.335473        2187.396807   \n",
              "min                0.000000     1.000259       77.505230         155.506715   \n",
              "25%                0.000000     7.890442      141.071078        1234.110529   \n",
              "50%                0.000000    36.196030      169.915400        3382.424000   \n",
              "75%                1.000000    61.426670      203.777441        5587.096500   \n",
              "max                6.000000    71.999280      315.878600        7158.982000   \n",
              "\n",
              "       survey1_response  survey2_fixes  survey3_replacements  \\\n",
              "count      10000.000000   10000.000000          10000.000000   \n",
              "mean           3.490800       3.505100              3.487000   \n",
              "std            1.037797       1.034641              1.027977   \n",
              "min            1.000000       1.000000              1.000000   \n",
              "25%            3.000000       3.000000              3.000000   \n",
              "50%            3.000000       4.000000              3.000000   \n",
              "75%            4.000000       4.000000              4.000000   \n",
              "max            7.000000       7.000000              8.000000   \n",
              "\n",
              "       survey4_reliability  survey5_options  survey6_respectful  \\\n",
              "count         10000.000000     10000.000000        10000.000000   \n",
              "mean              3.497500         3.492900            3.497300   \n",
              "std               1.025816         1.024819            1.033586   \n",
              "min               1.000000         1.000000            1.000000   \n",
              "25%               3.000000         3.000000            3.000000   \n",
              "50%               3.000000         3.000000            3.000000   \n",
              "75%               4.000000         4.000000            4.000000   \n",
              "max               7.000000         7.000000            8.000000   \n",
              "\n",
              "       survey7_courteous  survey8_listening  \n",
              "count       10000.000000       10000.000000  \n",
              "mean            3.509500           3.495600  \n",
              "std             1.028502           1.028633  \n",
              "min             1.000000           1.000000  \n",
              "25%             3.000000           3.000000  \n",
              "50%             4.000000           3.000000  \n",
              "75%             4.000000           4.000000  \n",
              "max             7.000000           8.000000  "
            ],
            "text/html": [
              "\n",
              "  <div id=\"df-da3a4b9b-8e13-4b9f-bb75-e8545d916423\" class=\"colab-df-container\">\n",
              "    <div>\n",
              "<style scoped>\n",
              "    .dataframe tbody tr th:only-of-type {\n",
              "        vertical-align: middle;\n",
              "    }\n",
              "\n",
              "    .dataframe tbody tr th {\n",
              "        vertical-align: top;\n",
              "    }\n",
              "\n",
              "    .dataframe thead th {\n",
              "        text-align: right;\n",
              "    }\n",
              "</style>\n",
              "<table border=\"1\" class=\"dataframe\">\n",
              "  <thead>\n",
              "    <tr style=\"text-align: right;\">\n",
              "      <th></th>\n",
              "      <th>latitude</th>\n",
              "      <th>longitude</th>\n",
              "      <th>population</th>\n",
              "      <th>children</th>\n",
              "      <th>age</th>\n",
              "      <th>income</th>\n",
              "      <th>outage_sec_perweek</th>\n",
              "      <th>email</th>\n",
              "      <th>contacts</th>\n",
              "      <th>yearly_equip_failure</th>\n",
              "      <th>tenure</th>\n",
              "      <th>monthly_charge</th>\n",
              "      <th>bandwidth_gb_year</th>\n",
              "      <th>survey1_response</th>\n",
              "      <th>survey2_fixes</th>\n",
              "      <th>survey3_replacements</th>\n",
              "      <th>survey4_reliability</th>\n",
              "      <th>survey5_options</th>\n",
              "      <th>survey6_respectful</th>\n",
              "      <th>survey7_courteous</th>\n",
              "      <th>survey8_listening</th>\n",
              "    </tr>\n",
              "  </thead>\n",
              "  <tbody>\n",
              "    <tr>\n",
              "      <th>count</th>\n",
              "      <td>10000.000000</td>\n",
              "      <td>10000.000000</td>\n",
              "      <td>10000.000000</td>\n",
              "      <td>7505.000000</td>\n",
              "      <td>7525.000000</td>\n",
              "      <td>7510.000000</td>\n",
              "      <td>10000.000000</td>\n",
              "      <td>10000.000000</td>\n",
              "      <td>10000.000000</td>\n",
              "      <td>10000.000000</td>\n",
              "      <td>9069.000000</td>\n",
              "      <td>10000.000000</td>\n",
              "      <td>8979.000000</td>\n",
              "      <td>10000.000000</td>\n",
              "      <td>10000.000000</td>\n",
              "      <td>10000.000000</td>\n",
              "      <td>10000.000000</td>\n",
              "      <td>10000.000000</td>\n",
              "      <td>10000.000000</td>\n",
              "      <td>10000.000000</td>\n",
              "      <td>10000.000000</td>\n",
              "    </tr>\n",
              "    <tr>\n",
              "      <th>mean</th>\n",
              "      <td>38.757567</td>\n",
              "      <td>-90.782536</td>\n",
              "      <td>9756.562400</td>\n",
              "      <td>2.095936</td>\n",
              "      <td>53.275748</td>\n",
              "      <td>39936.762226</td>\n",
              "      <td>11.452955</td>\n",
              "      <td>12.016000</td>\n",
              "      <td>0.994200</td>\n",
              "      <td>0.398000</td>\n",
              "      <td>34.498858</td>\n",
              "      <td>174.076305</td>\n",
              "      <td>3398.842752</td>\n",
              "      <td>3.490800</td>\n",
              "      <td>3.505100</td>\n",
              "      <td>3.487000</td>\n",
              "      <td>3.497500</td>\n",
              "      <td>3.492900</td>\n",
              "      <td>3.497300</td>\n",
              "      <td>3.509500</td>\n",
              "      <td>3.495600</td>\n",
              "    </tr>\n",
              "    <tr>\n",
              "      <th>std</th>\n",
              "      <td>5.437389</td>\n",
              "      <td>15.156142</td>\n",
              "      <td>14432.698671</td>\n",
              "      <td>2.154758</td>\n",
              "      <td>20.753928</td>\n",
              "      <td>28358.469482</td>\n",
              "      <td>7.025921</td>\n",
              "      <td>3.025898</td>\n",
              "      <td>0.988466</td>\n",
              "      <td>0.635953</td>\n",
              "      <td>26.438904</td>\n",
              "      <td>43.335473</td>\n",
              "      <td>2187.396807</td>\n",
              "      <td>1.037797</td>\n",
              "      <td>1.034641</td>\n",
              "      <td>1.027977</td>\n",
              "      <td>1.025816</td>\n",
              "      <td>1.024819</td>\n",
              "      <td>1.033586</td>\n",
              "      <td>1.028502</td>\n",
              "      <td>1.028633</td>\n",
              "    </tr>\n",
              "    <tr>\n",
              "      <th>min</th>\n",
              "      <td>17.966120</td>\n",
              "      <td>-171.688150</td>\n",
              "      <td>0.000000</td>\n",
              "      <td>0.000000</td>\n",
              "      <td>18.000000</td>\n",
              "      <td>740.660000</td>\n",
              "      <td>-1.348571</td>\n",
              "      <td>1.000000</td>\n",
              "      <td>0.000000</td>\n",
              "      <td>0.000000</td>\n",
              "      <td>1.000259</td>\n",
              "      <td>77.505230</td>\n",
              "      <td>155.506715</td>\n",
              "      <td>1.000000</td>\n",
              "      <td>1.000000</td>\n",
              "      <td>1.000000</td>\n",
              "      <td>1.000000</td>\n",
              "      <td>1.000000</td>\n",
              "      <td>1.000000</td>\n",
              "      <td>1.000000</td>\n",
              "      <td>1.000000</td>\n",
              "    </tr>\n",
              "    <tr>\n",
              "      <th>25%</th>\n",
              "      <td>35.341828</td>\n",
              "      <td>-97.082812</td>\n",
              "      <td>738.000000</td>\n",
              "      <td>0.000000</td>\n",
              "      <td>35.000000</td>\n",
              "      <td>19285.522500</td>\n",
              "      <td>8.054362</td>\n",
              "      <td>10.000000</td>\n",
              "      <td>0.000000</td>\n",
              "      <td>0.000000</td>\n",
              "      <td>7.890442</td>\n",
              "      <td>141.071078</td>\n",
              "      <td>1234.110529</td>\n",
              "      <td>3.000000</td>\n",
              "      <td>3.000000</td>\n",
              "      <td>3.000000</td>\n",
              "      <td>3.000000</td>\n",
              "      <td>3.000000</td>\n",
              "      <td>3.000000</td>\n",
              "      <td>3.000000</td>\n",
              "      <td>3.000000</td>\n",
              "    </tr>\n",
              "    <tr>\n",
              "      <th>50%</th>\n",
              "      <td>39.395800</td>\n",
              "      <td>-87.918800</td>\n",
              "      <td>2910.500000</td>\n",
              "      <td>1.000000</td>\n",
              "      <td>53.000000</td>\n",
              "      <td>33186.785000</td>\n",
              "      <td>10.202896</td>\n",
              "      <td>12.000000</td>\n",
              "      <td>1.000000</td>\n",
              "      <td>0.000000</td>\n",
              "      <td>36.196030</td>\n",
              "      <td>169.915400</td>\n",
              "      <td>3382.424000</td>\n",
              "      <td>3.000000</td>\n",
              "      <td>4.000000</td>\n",
              "      <td>3.000000</td>\n",
              "      <td>3.000000</td>\n",
              "      <td>3.000000</td>\n",
              "      <td>3.000000</td>\n",
              "      <td>4.000000</td>\n",
              "      <td>3.000000</td>\n",
              "    </tr>\n",
              "    <tr>\n",
              "      <th>75%</th>\n",
              "      <td>42.106908</td>\n",
              "      <td>-80.088745</td>\n",
              "      <td>13168.000000</td>\n",
              "      <td>3.000000</td>\n",
              "      <td>71.000000</td>\n",
              "      <td>53472.395000</td>\n",
              "      <td>12.487644</td>\n",
              "      <td>14.000000</td>\n",
              "      <td>2.000000</td>\n",
              "      <td>1.000000</td>\n",
              "      <td>61.426670</td>\n",
              "      <td>203.777441</td>\n",
              "      <td>5587.096500</td>\n",
              "      <td>4.000000</td>\n",
              "      <td>4.000000</td>\n",
              "      <td>4.000000</td>\n",
              "      <td>4.000000</td>\n",
              "      <td>4.000000</td>\n",
              "      <td>4.000000</td>\n",
              "      <td>4.000000</td>\n",
              "      <td>4.000000</td>\n",
              "    </tr>\n",
              "    <tr>\n",
              "      <th>max</th>\n",
              "      <td>70.640660</td>\n",
              "      <td>-65.667850</td>\n",
              "      <td>111850.000000</td>\n",
              "      <td>10.000000</td>\n",
              "      <td>89.000000</td>\n",
              "      <td>258900.700000</td>\n",
              "      <td>47.049280</td>\n",
              "      <td>23.000000</td>\n",
              "      <td>7.000000</td>\n",
              "      <td>6.000000</td>\n",
              "      <td>71.999280</td>\n",
              "      <td>315.878600</td>\n",
              "      <td>7158.982000</td>\n",
              "      <td>7.000000</td>\n",
              "      <td>7.000000</td>\n",
              "      <td>8.000000</td>\n",
              "      <td>7.000000</td>\n",
              "      <td>7.000000</td>\n",
              "      <td>8.000000</td>\n",
              "      <td>7.000000</td>\n",
              "      <td>8.000000</td>\n",
              "    </tr>\n",
              "  </tbody>\n",
              "</table>\n",
              "</div>\n",
              "    <div class=\"colab-df-buttons\">\n",
              "\n",
              "  <div class=\"colab-df-container\">\n",
              "    <button class=\"colab-df-convert\" onclick=\"convertToInteractive('df-da3a4b9b-8e13-4b9f-bb75-e8545d916423')\"\n",
              "            title=\"Convert this dataframe to an interactive table.\"\n",
              "            style=\"display:none;\">\n",
              "\n",
              "  <svg xmlns=\"http://www.w3.org/2000/svg\" height=\"24px\" viewBox=\"0 -960 960 960\">\n",
              "    <path d=\"M120-120v-720h720v720H120Zm60-500h600v-160H180v160Zm220 220h160v-160H400v160Zm0 220h160v-160H400v160ZM180-400h160v-160H180v160Zm440 0h160v-160H620v160ZM180-180h160v-160H180v160Zm440 0h160v-160H620v160Z\"/>\n",
              "  </svg>\n",
              "    </button>\n",
              "\n",
              "  <style>\n",
              "    .colab-df-container {\n",
              "      display:flex;\n",
              "      gap: 12px;\n",
              "    }\n",
              "\n",
              "    .colab-df-convert {\n",
              "      background-color: #E8F0FE;\n",
              "      border: none;\n",
              "      border-radius: 50%;\n",
              "      cursor: pointer;\n",
              "      display: none;\n",
              "      fill: #1967D2;\n",
              "      height: 32px;\n",
              "      padding: 0 0 0 0;\n",
              "      width: 32px;\n",
              "    }\n",
              "\n",
              "    .colab-df-convert:hover {\n",
              "      background-color: #E2EBFA;\n",
              "      box-shadow: 0px 1px 2px rgba(60, 64, 67, 0.3), 0px 1px 3px 1px rgba(60, 64, 67, 0.15);\n",
              "      fill: #174EA6;\n",
              "    }\n",
              "\n",
              "    .colab-df-buttons div {\n",
              "      margin-bottom: 4px;\n",
              "    }\n",
              "\n",
              "    [theme=dark] .colab-df-convert {\n",
              "      background-color: #3B4455;\n",
              "      fill: #D2E3FC;\n",
              "    }\n",
              "\n",
              "    [theme=dark] .colab-df-convert:hover {\n",
              "      background-color: #434B5C;\n",
              "      box-shadow: 0px 1px 3px 1px rgba(0, 0, 0, 0.15);\n",
              "      filter: drop-shadow(0px 1px 2px rgba(0, 0, 0, 0.3));\n",
              "      fill: #FFFFFF;\n",
              "    }\n",
              "  </style>\n",
              "\n",
              "    <script>\n",
              "      const buttonEl =\n",
              "        document.querySelector('#df-da3a4b9b-8e13-4b9f-bb75-e8545d916423 button.colab-df-convert');\n",
              "      buttonEl.style.display =\n",
              "        google.colab.kernel.accessAllowed ? 'block' : 'none';\n",
              "\n",
              "      async function convertToInteractive(key) {\n",
              "        const element = document.querySelector('#df-da3a4b9b-8e13-4b9f-bb75-e8545d916423');\n",
              "        const dataTable =\n",
              "          await google.colab.kernel.invokeFunction('convertToInteractive',\n",
              "                                                    [key], {});\n",
              "        if (!dataTable) return;\n",
              "\n",
              "        const docLinkHtml = 'Like what you see? Visit the ' +\n",
              "          '<a target=\"_blank\" href=https://colab.research.google.com/notebooks/data_table.ipynb>data table notebook</a>'\n",
              "          + ' to learn more about interactive tables.';\n",
              "        element.innerHTML = '';\n",
              "        dataTable['output_type'] = 'display_data';\n",
              "        await google.colab.output.renderOutput(dataTable, element);\n",
              "        const docLink = document.createElement('div');\n",
              "        docLink.innerHTML = docLinkHtml;\n",
              "        element.appendChild(docLink);\n",
              "      }\n",
              "    </script>\n",
              "  </div>\n",
              "\n",
              "\n",
              "<div id=\"df-e2457521-f76a-492d-ac1c-706fb8d61f50\">\n",
              "  <button class=\"colab-df-quickchart\" onclick=\"quickchart('df-e2457521-f76a-492d-ac1c-706fb8d61f50')\"\n",
              "            title=\"Suggest charts\"\n",
              "            style=\"display:none;\">\n",
              "\n",
              "<svg xmlns=\"http://www.w3.org/2000/svg\" height=\"24px\"viewBox=\"0 0 24 24\"\n",
              "     width=\"24px\">\n",
              "    <g>\n",
              "        <path d=\"M19 3H5c-1.1 0-2 .9-2 2v14c0 1.1.9 2 2 2h14c1.1 0 2-.9 2-2V5c0-1.1-.9-2-2-2zM9 17H7v-7h2v7zm4 0h-2V7h2v10zm4 0h-2v-4h2v4z\"/>\n",
              "    </g>\n",
              "</svg>\n",
              "  </button>\n",
              "\n",
              "<style>\n",
              "  .colab-df-quickchart {\n",
              "      --bg-color: #E8F0FE;\n",
              "      --fill-color: #1967D2;\n",
              "      --hover-bg-color: #E2EBFA;\n",
              "      --hover-fill-color: #174EA6;\n",
              "      --disabled-fill-color: #AAA;\n",
              "      --disabled-bg-color: #DDD;\n",
              "  }\n",
              "\n",
              "  [theme=dark] .colab-df-quickchart {\n",
              "      --bg-color: #3B4455;\n",
              "      --fill-color: #D2E3FC;\n",
              "      --hover-bg-color: #434B5C;\n",
              "      --hover-fill-color: #FFFFFF;\n",
              "      --disabled-bg-color: #3B4455;\n",
              "      --disabled-fill-color: #666;\n",
              "  }\n",
              "\n",
              "  .colab-df-quickchart {\n",
              "    background-color: var(--bg-color);\n",
              "    border: none;\n",
              "    border-radius: 50%;\n",
              "    cursor: pointer;\n",
              "    display: none;\n",
              "    fill: var(--fill-color);\n",
              "    height: 32px;\n",
              "    padding: 0;\n",
              "    width: 32px;\n",
              "  }\n",
              "\n",
              "  .colab-df-quickchart:hover {\n",
              "    background-color: var(--hover-bg-color);\n",
              "    box-shadow: 0 1px 2px rgba(60, 64, 67, 0.3), 0 1px 3px 1px rgba(60, 64, 67, 0.15);\n",
              "    fill: var(--button-hover-fill-color);\n",
              "  }\n",
              "\n",
              "  .colab-df-quickchart-complete:disabled,\n",
              "  .colab-df-quickchart-complete:disabled:hover {\n",
              "    background-color: var(--disabled-bg-color);\n",
              "    fill: var(--disabled-fill-color);\n",
              "    box-shadow: none;\n",
              "  }\n",
              "\n",
              "  .colab-df-spinner {\n",
              "    border: 2px solid var(--fill-color);\n",
              "    border-color: transparent;\n",
              "    border-bottom-color: var(--fill-color);\n",
              "    animation:\n",
              "      spin 1s steps(1) infinite;\n",
              "  }\n",
              "\n",
              "  @keyframes spin {\n",
              "    0% {\n",
              "      border-color: transparent;\n",
              "      border-bottom-color: var(--fill-color);\n",
              "      border-left-color: var(--fill-color);\n",
              "    }\n",
              "    20% {\n",
              "      border-color: transparent;\n",
              "      border-left-color: var(--fill-color);\n",
              "      border-top-color: var(--fill-color);\n",
              "    }\n",
              "    30% {\n",
              "      border-color: transparent;\n",
              "      border-left-color: var(--fill-color);\n",
              "      border-top-color: var(--fill-color);\n",
              "      border-right-color: var(--fill-color);\n",
              "    }\n",
              "    40% {\n",
              "      border-color: transparent;\n",
              "      border-right-color: var(--fill-color);\n",
              "      border-top-color: var(--fill-color);\n",
              "    }\n",
              "    60% {\n",
              "      border-color: transparent;\n",
              "      border-right-color: var(--fill-color);\n",
              "    }\n",
              "    80% {\n",
              "      border-color: transparent;\n",
              "      border-right-color: var(--fill-color);\n",
              "      border-bottom-color: var(--fill-color);\n",
              "    }\n",
              "    90% {\n",
              "      border-color: transparent;\n",
              "      border-bottom-color: var(--fill-color);\n",
              "    }\n",
              "  }\n",
              "</style>\n",
              "\n",
              "  <script>\n",
              "    async function quickchart(key) {\n",
              "      const quickchartButtonEl =\n",
              "        document.querySelector('#' + key + ' button');\n",
              "      quickchartButtonEl.disabled = true;  // To prevent multiple clicks.\n",
              "      quickchartButtonEl.classList.add('colab-df-spinner');\n",
              "      try {\n",
              "        const charts = await google.colab.kernel.invokeFunction(\n",
              "            'suggestCharts', [key], {});\n",
              "      } catch (error) {\n",
              "        console.error('Error during call to suggestCharts:', error);\n",
              "      }\n",
              "      quickchartButtonEl.classList.remove('colab-df-spinner');\n",
              "      quickchartButtonEl.classList.add('colab-df-quickchart-complete');\n",
              "    }\n",
              "    (() => {\n",
              "      let quickchartButtonEl =\n",
              "        document.querySelector('#df-e2457521-f76a-492d-ac1c-706fb8d61f50 button');\n",
              "      quickchartButtonEl.style.display =\n",
              "        google.colab.kernel.accessAllowed ? 'block' : 'none';\n",
              "    })();\n",
              "  </script>\n",
              "</div>\n",
              "\n",
              "    </div>\n",
              "  </div>\n"
            ],
            "application/vnd.google.colaboratory.intrinsic+json": {
              "type": "dataframe"
            }
          },
          "metadata": {},
          "execution_count": 219
        }
      ]
    },
    {
      "cell_type": "markdown",
      "source": [
        "## Population Inquiries"
      ],
      "metadata": {
        "id": "ugwpnfiOnmn-"
      }
    },
    {
      "cell_type": "code",
      "source": [
        "count_population_0 = (churndf['population']==0).sum()\n",
        "print(count_population_0)"
      ],
      "metadata": {
        "colab": {
          "base_uri": "https://localhost:8080/"
        },
        "id": "evmw8IZsi13V",
        "outputId": "48660d2b-04dc-4c04-df10-ce7bcfaa5335"
      },
      "execution_count": 220,
      "outputs": [
        {
          "output_type": "stream",
          "name": "stdout",
          "text": [
            "97\n"
          ]
        }
      ]
    },
    {
      "cell_type": "code",
      "source": [
        "cities_population_0 = churndf[churndf['population'] == 0]['city']\n",
        "print(cities_population_0)"
      ],
      "metadata": {
        "colab": {
          "base_uri": "https://localhost:8080/"
        },
        "id": "2rxVmCcZlqx4",
        "outputId": "3949504b-e5d6-4e3a-d728-63a96ad9cf4f"
      },
      "execution_count": 221,
      "outputs": [
        {
          "output_type": "stream",
          "name": "stdout",
          "text": [
            "CaseOrder\n",
            "14      East Livermore\n",
            "423             Warren\n",
            "429            Bayside\n",
            "435            Memphis\n",
            "447           Caroleen\n",
            "             ...      \n",
            "9217           Memphis\n",
            "9442          New York\n",
            "9658        Oak Island\n",
            "9703           Vidalia\n",
            "9945              Rome\n",
            "Name: city, Length: 97, dtype: object\n"
          ]
        }
      ]
    },
    {
      "cell_type": "markdown",
      "source": [
        "# Duplicates"
      ],
      "metadata": {
        "id": "ntCujzvno5d4"
      }
    },
    {
      "cell_type": "code",
      "source": [
        "churndf.duplicated()"
      ],
      "metadata": {
        "id": "JOQmbHqroAWY",
        "outputId": "5b283c37-6181-4a6d-b59e-7b60531d8475",
        "colab": {
          "base_uri": "https://localhost:8080/"
        }
      },
      "execution_count": 222,
      "outputs": [
        {
          "output_type": "execute_result",
          "data": {
            "text/plain": [
              "CaseOrder\n",
              "1        False\n",
              "2        False\n",
              "3        False\n",
              "4        False\n",
              "5        False\n",
              "         ...  \n",
              "9996     False\n",
              "9997     False\n",
              "9998     False\n",
              "9999     False\n",
              "10000    False\n",
              "Length: 10000, dtype: bool"
            ]
          },
          "metadata": {},
          "execution_count": 222
        }
      ]
    },
    {
      "cell_type": "code",
      "source": [
        "print(churndf.duplicated().value_counts())"
      ],
      "metadata": {
        "colab": {
          "base_uri": "https://localhost:8080/"
        },
        "id": "esR3gx-7ot_Y",
        "outputId": "d97b06f2-cea4-416c-bcd7-0a22931c64c6"
      },
      "execution_count": 223,
      "outputs": [
        {
          "output_type": "stream",
          "name": "stdout",
          "text": [
            "False    10000\n",
            "dtype: int64\n"
          ]
        }
      ]
    },
    {
      "cell_type": "markdown",
      "source": [
        "# Missing Values"
      ],
      "metadata": {
        "id": "hxNw7O9-pv7C"
      }
    },
    {
      "cell_type": "code",
      "source": [
        "churndf.isnull().sum()"
      ],
      "metadata": {
        "colab": {
          "base_uri": "https://localhost:8080/"
        },
        "id": "iAYceRZjpybd",
        "outputId": "6bbf9926-5040-4080-a94f-4d5d3d5c267e"
      },
      "execution_count": 224,
      "outputs": [
        {
          "output_type": "execute_result",
          "data": {
            "text/plain": [
              "customer_id                0\n",
              "uid                        0\n",
              "city                       0\n",
              "state                      0\n",
              "county                     0\n",
              "zip_code                   0\n",
              "latitude                   0\n",
              "longitude                  0\n",
              "population                 0\n",
              "area                       0\n",
              "timezone                   0\n",
              "job                        0\n",
              "children                2495\n",
              "age                     2475\n",
              "education                  0\n",
              "employment                 0\n",
              "income                  2490\n",
              "marital_status             0\n",
              "gender                     0\n",
              "churn                      0\n",
              "outage_sec_perweek         0\n",
              "email                      0\n",
              "contacts                   0\n",
              "yearly_equip_failure       0\n",
              "techie                  2477\n",
              "contract                   0\n",
              "port_modem                 0\n",
              "tablet                     0\n",
              "internet_service           0\n",
              "phone_service           1026\n",
              "multiple_lines             0\n",
              "online_security            0\n",
              "online_backup              0\n",
              "device_protection          0\n",
              "tech_support             991\n",
              "streaming_tv               0\n",
              "streaming_movies           0\n",
              "paperless_billing          0\n",
              "payment_method             0\n",
              "tenure                   931\n",
              "monthly_charge             0\n",
              "bandwidth_gb_year       1021\n",
              "survey1_response           0\n",
              "survey2_fixes              0\n",
              "survey3_replacements       0\n",
              "survey4_reliability        0\n",
              "survey5_options            0\n",
              "survey6_respectful         0\n",
              "survey7_courteous          0\n",
              "survey8_listening          0\n",
              "dtype: int64"
            ]
          },
          "metadata": {},
          "execution_count": 224
        }
      ]
    },
    {
      "cell_type": "code",
      "source": [
        "plt.figure(figsize=(15,5))\n",
        "sns.heatmap(churndf.isnull())"
      ],
      "metadata": {
        "colab": {
          "base_uri": "https://localhost:8080/",
          "height": 513
        },
        "id": "uGqtzE6oqrCE",
        "outputId": "960e56c1-6e41-4fae-c385-e7a56143052a"
      },
      "execution_count": 225,
      "outputs": [
        {
          "output_type": "execute_result",
          "data": {
            "text/plain": [
              "<Axes: ylabel='CaseOrder'>"
            ]
          },
          "metadata": {},
          "execution_count": 225
        },
        {
          "output_type": "display_data",
          "data": {
            "text/plain": [
              "<Figure size 1500x500 with 2 Axes>"
            ],
            "image/png": "[encoded data removed]"
          },
          "metadata": {}
        }
      ]
    },
    {
      "cell_type": "markdown",
      "source": [
        "## Children - Random"
      ],
      "metadata": {
        "id": "NBUq8MUK-kn9"
      }
    },
    {
      "cell_type": "code",
      "source": [
        "churndf.children.info()"
      ],
      "metadata": {
        "colab": {
          "base_uri": "https://localhost:8080/"
        },
        "id": "iYsMJcwMjDrl",
        "outputId": "cbb26aa5-e49c-400c-9f38-78572e11d382"
      },
      "execution_count": 226,
      "outputs": [
        {
          "output_type": "stream",
          "name": "stdout",
          "text": [
            "<class 'pandas.core.series.Series'>\n",
            "Int64Index: 10000 entries, 1 to 10000\n",
            "Series name: children\n",
            "Non-Null Count  Dtype  \n",
            "--------------  -----  \n",
            "7505 non-null   float64\n",
            "dtypes: float64(1)\n",
            "memory usage: 156.2 KB\n"
          ]
        }
      ]
    },
    {
      "cell_type": "code",
      "source": [
        "churndf.children.value_counts(normalize=True)"
      ],
      "metadata": {
        "colab": {
          "base_uri": "https://localhost:8080/"
        },
        "id": "Qr9DqN51jF5r",
        "outputId": "1c3bcaa4-58c7-4807-916b-e41ee4c5ed9a"
      },
      "execution_count": 227,
      "outputs": [
        {
          "output_type": "execute_result",
          "data": {
            "text/plain": [
              "0.0     0.255696\n",
              "1.0     0.249700\n",
              "2.0     0.146569\n",
              "3.0     0.146036\n",
              "4.0     0.102465\n",
              "5.0     0.021452\n",
              "8.0     0.021053\n",
              "7.0     0.019853\n",
              "6.0     0.017988\n",
              "10.0    0.009860\n",
              "9.0     0.009327\n",
              "Name: children, dtype: float64"
            ]
          },
          "metadata": {},
          "execution_count": 227
        }
      ]
    },
    {
      "cell_type": "code",
      "source": [
        "plt.hist(churndf['children'])"
      ],
      "metadata": {
        "colab": {
          "base_uri": "https://localhost:8080/",
          "height": 502
        },
        "id": "zAObthUQ_mAJ",
        "outputId": "4ac1dcf4-8ba3-42d4-db6b-84dab80fa03c"
      },
      "execution_count": 228,
      "outputs": [
        {
          "output_type": "execute_result",
          "data": {
            "text/plain": [
              "(array([1919., 1874., 1100., 1096.,  769.,  161.,  135.,  149.,  158.,\n",
              "         144.]),\n",
              " array([ 0.,  1.,  2.,  3.,  4.,  5.,  6.,  7.,  8.,  9., 10.]),\n",
              " <BarContainer object of 10 artists>)"
            ]
          },
          "metadata": {},
          "execution_count": 228
        },
        {
          "output_type": "display_data",
          "data": {
            "text/plain": [
              "<Figure size 640x480 with 1 Axes>"
            ],
            "image/png": "[encoded data removed]"
          },
          "metadata": {}
        }
      ]
    },
    {
      "cell_type": "code",
      "source": [
        "churndf['children'].median()"
      ],
      "metadata": {
        "colab": {
          "base_uri": "https://localhost:8080/"
        },
        "id": "sDYengEsdniW",
        "outputId": "f496877a-cd1e-441a-bab8-f77e9e7d9e96"
      },
      "execution_count": 229,
      "outputs": [
        {
          "output_type": "execute_result",
          "data": {
            "text/plain": [
              "1.0"
            ]
          },
          "metadata": {},
          "execution_count": 229
        }
      ]
    },
    {
      "cell_type": "markdown",
      "source": [
        "Randomly assign 0 or 1 children to the missing values in the children column."
      ],
      "metadata": {
        "id": "9LFbWkLiemxC"
      }
    },
    {
      "cell_type": "code",
      "source": [
        "churndf.loc[churndf['children'].isna(), 'children'] = np.random.choice([0,1], len(churndf.loc[churndf['children'].isna(), 'children']))"
      ],
      "metadata": {
        "id": "W0yQY5SZd23d"
      },
      "execution_count": 230,
      "outputs": []
    },
    {
      "cell_type": "markdown",
      "source": [
        "## Age - Random"
      ],
      "metadata": {
        "id": "CyeJZAAv-nQM"
      }
    },
    {
      "cell_type": "code",
      "source": [
        "churndf.age.info()"
      ],
      "metadata": {
        "colab": {
          "base_uri": "https://localhost:8080/"
        },
        "outputId": "452c43bc-2bc0-42fb-e041-a5bc3b816f3e",
        "id": "_vzq79gW4XnT"
      },
      "execution_count": 231,
      "outputs": [
        {
          "output_type": "stream",
          "name": "stdout",
          "text": [
            "<class 'pandas.core.series.Series'>\n",
            "Int64Index: 10000 entries, 1 to 10000\n",
            "Series name: age\n",
            "Non-Null Count  Dtype  \n",
            "--------------  -----  \n",
            "7525 non-null   float64\n",
            "dtypes: float64(1)\n",
            "memory usage: 156.2 KB\n"
          ]
        }
      ]
    },
    {
      "cell_type": "code",
      "source": [
        "churndf.age.value_counts()"
      ],
      "metadata": {
        "colab": {
          "base_uri": "https://localhost:8080/"
        },
        "outputId": "baf2c5b9-0ce1-4869-a736-4d751d05cc39",
        "id": "ChtPTL7_4cbt"
      },
      "execution_count": 232,
      "outputs": [
        {
          "output_type": "execute_result",
          "data": {
            "text/plain": [
              "55.0    128\n",
              "41.0    122\n",
              "77.0    121\n",
              "80.0    120\n",
              "57.0    120\n",
              "       ... \n",
              "59.0     92\n",
              "78.0     92\n",
              "87.0     92\n",
              "18.0     90\n",
              "47.0     87\n",
              "Name: age, Length: 72, dtype: int64"
            ]
          },
          "metadata": {},
          "execution_count": 232
        }
      ]
    },
    {
      "cell_type": "code",
      "source": [
        "plt.hist(churndf['age'])"
      ],
      "metadata": {
        "colab": {
          "base_uri": "https://localhost:8080/",
          "height": 482
        },
        "id": "g7BeSOrU_w9R",
        "outputId": "ad576ec5-bb5c-439f-9679-23193bca1b8c"
      },
      "execution_count": 233,
      "outputs": [
        {
          "output_type": "execute_result",
          "data": {
            "text/plain": [
              "(array([853., 756., 714., 739., 708., 739., 728., 728., 761., 799.]),\n",
              " array([18. , 25.1, 32.2, 39.3, 46.4, 53.5, 60.6, 67.7, 74.8, 81.9, 89. ]),\n",
              " <BarContainer object of 10 artists>)"
            ]
          },
          "metadata": {},
          "execution_count": 233
        },
        {
          "output_type": "display_data",
          "data": {
            "text/plain": [
              "<Figure size 640x480 with 1 Axes>"
            ],
            "image/png": "[encoded data removed]"
          },
          "metadata": {}
        }
      ]
    },
    {
      "cell_type": "code",
      "source": [
        "churndf['age'].describe()"
      ],
      "metadata": {
        "colab": {
          "base_uri": "https://localhost:8080/"
        },
        "id": "7Dpa5KxngG-s",
        "outputId": "fc2d23ed-782e-4dd3-f26d-a8a3a612f2e5"
      },
      "execution_count": 234,
      "outputs": [
        {
          "output_type": "execute_result",
          "data": {
            "text/plain": [
              "count    7525.000000\n",
              "mean       53.275748\n",
              "std        20.753928\n",
              "min        18.000000\n",
              "25%        35.000000\n",
              "50%        53.000000\n",
              "75%        71.000000\n",
              "max        89.000000\n",
              "Name: age, dtype: float64"
            ]
          },
          "metadata": {},
          "execution_count": 234
        }
      ]
    },
    {
      "cell_type": "markdown",
      "source": [
        "Randomly assign age from 18-89"
      ],
      "metadata": {
        "id": "edhsdf0NhIpV"
      }
    },
    {
      "cell_type": "code",
      "source": [
        "random_age = np.arange(start=18, stop=89)\n",
        "churndf.loc[churndf.age.isna(), 'age'] = np.random.choice(random_age, len(churndf.loc[churndf.age.isna(), 'age']))"
      ],
      "metadata": {
        "id": "KlnkHSY3ggtf"
      },
      "execution_count": 235,
      "outputs": []
    },
    {
      "cell_type": "markdown",
      "source": [
        "## Income - Median"
      ],
      "metadata": {
        "id": "EQGdS4pO-og5"
      }
    },
    {
      "cell_type": "code",
      "source": [
        "churndf.income.info()"
      ],
      "metadata": {
        "colab": {
          "base_uri": "https://localhost:8080/"
        },
        "id": "6s27ovQa6jl5",
        "outputId": "bbbb0cd5-459d-4565-979e-a99d23aa0f89"
      },
      "execution_count": 236,
      "outputs": [
        {
          "output_type": "stream",
          "name": "stdout",
          "text": [
            "<class 'pandas.core.series.Series'>\n",
            "Int64Index: 10000 entries, 1 to 10000\n",
            "Series name: income\n",
            "Non-Null Count  Dtype  \n",
            "--------------  -----  \n",
            "7510 non-null   float64\n",
            "dtypes: float64(1)\n",
            "memory usage: 156.2 KB\n"
          ]
        }
      ]
    },
    {
      "cell_type": "code",
      "source": [
        "churndf.income.value_counts()"
      ],
      "metadata": {
        "colab": {
          "base_uri": "https://localhost:8080/"
        },
        "id": "qd0hflz26mSw",
        "outputId": "c5410188-3d05-43c5-c63a-85ddbf086d46"
      },
      "execution_count": 237,
      "outputs": [
        {
          "output_type": "execute_result",
          "data": {
            "text/plain": [
              "61325.92    2\n",
              "36461.20    2\n",
              "25598.66    2\n",
              "10530.09    2\n",
              "28561.99    1\n",
              "           ..\n",
              "23947.08    1\n",
              "25781.26    1\n",
              "28955.02    1\n",
              "57295.46    1\n",
              "16667.58    1\n",
              "Name: income, Length: 7506, dtype: int64"
            ]
          },
          "metadata": {},
          "execution_count": 237
        }
      ]
    },
    {
      "cell_type": "code",
      "source": [
        "plt.hist(churndf['income'])"
      ],
      "metadata": {
        "colab": {
          "base_uri": "https://localhost:8080/",
          "height": 534
        },
        "id": "ygNswuWNAQ4h",
        "outputId": "c6ef4c8e-87d1-429a-cd56-147862b6e099"
      },
      "execution_count": 238,
      "outputs": [
        {
          "output_type": "execute_result",
          "data": {
            "text/plain": [
              "(array([2.912e+03, 2.642e+03, 1.193e+03, 5.080e+02, 1.670e+02, 6.000e+01,\n",
              "        2.100e+01, 4.000e+00, 1.000e+00, 2.000e+00]),\n",
              " array([   740.66 ,  26556.664,  52372.668,  78188.672, 104004.676,\n",
              "        129820.68 , 155636.684, 181452.688, 207268.692, 233084.696,\n",
              "        258900.7  ]),\n",
              " <BarContainer object of 10 artists>)"
            ]
          },
          "metadata": {},
          "execution_count": 238
        },
        {
          "output_type": "display_data",
          "data": {
            "text/plain": [
              "<Figure size 640x480 with 1 Axes>"
            ],
            "image/png": "[encoded data removed]"
          },
          "metadata": {}
        }
      ]
    },
    {
      "cell_type": "code",
      "source": [
        "churndf['income'].describe()"
      ],
      "metadata": {
        "colab": {
          "base_uri": "https://localhost:8080/"
        },
        "id": "zWfLw-Jshpfc",
        "outputId": "74ed8e8d-7899-4d2c-bc2a-3f16e29ef714"
      },
      "execution_count": 239,
      "outputs": [
        {
          "output_type": "execute_result",
          "data": {
            "text/plain": [
              "count      7510.000000\n",
              "mean      39936.762226\n",
              "std       28358.469482\n",
              "min         740.660000\n",
              "25%       19285.522500\n",
              "50%       33186.785000\n",
              "75%       53472.395000\n",
              "max      258900.700000\n",
              "Name: income, dtype: float64"
            ]
          },
          "metadata": {},
          "execution_count": 239
        }
      ]
    },
    {
      "cell_type": "markdown",
      "source": [
        "Assign median income to missing incomes"
      ],
      "metadata": {
        "id": "ijHLdwQMiFgV"
      }
    },
    {
      "cell_type": "code",
      "source": [
        "churndf.loc[churndf['income'].isna(), 'income'] = churndf['income'].median()"
      ],
      "metadata": {
        "id": "XbyMqxQ-h8zb"
      },
      "execution_count": 240,
      "outputs": []
    },
    {
      "cell_type": "markdown",
      "source": [
        "## Technie - Y/N"
      ],
      "metadata": {
        "id": "Y1qkXOC--qAG"
      }
    },
    {
      "cell_type": "code",
      "source": [
        "churndf.techie.info()"
      ],
      "metadata": {
        "colab": {
          "base_uri": "https://localhost:8080/"
        },
        "id": "_rLzOC4S6uqt",
        "outputId": "7b54c2e7-55fb-4717-ec01-004437bd1b76"
      },
      "execution_count": 241,
      "outputs": [
        {
          "output_type": "stream",
          "name": "stdout",
          "text": [
            "<class 'pandas.core.series.Series'>\n",
            "Int64Index: 10000 entries, 1 to 10000\n",
            "Series name: techie\n",
            "Non-Null Count  Dtype \n",
            "--------------  ----- \n",
            "7523 non-null   object\n",
            "dtypes: object(1)\n",
            "memory usage: 156.2+ KB\n"
          ]
        }
      ]
    },
    {
      "cell_type": "code",
      "source": [
        "churndf.techie.value_counts(normalize=True)"
      ],
      "metadata": {
        "colab": {
          "base_uri": "https://localhost:8080/"
        },
        "id": "p2wliMmw6yHp",
        "outputId": "53df2a68-d13d-44f2-e7b9-b4f70b085620"
      },
      "execution_count": 242,
      "outputs": [
        {
          "output_type": "execute_result",
          "data": {
            "text/plain": [
              "No     0.832912\n",
              "Yes    0.167088\n",
              "Name: techie, dtype: float64"
            ]
          },
          "metadata": {},
          "execution_count": 242
        }
      ]
    },
    {
      "cell_type": "code",
      "source": [
        "churndf.loc[churndf['techie'].isna(), 'techie'] = np.random.choice(['Yes', 'No'], len(churndf.loc[churndf['techie'].isna(), 'techie']))"
      ],
      "metadata": {
        "id": "TkYjPh5LkKwV"
      },
      "execution_count": 243,
      "outputs": []
    },
    {
      "cell_type": "code",
      "source": [
        "mapping_dict = {'No': 0, 'Yes': 1}\n",
        "churndf['techie'] = churndf['techie'].replace(mapping_dict)\n",
        "plt.hist(churndf['techie'])"
      ],
      "metadata": {
        "colab": {
          "base_uri": "https://localhost:8080/",
          "height": 499
        },
        "id": "v3Tw1MPjhScY",
        "outputId": "8ee9c598-a1cb-4c2b-a311-1879794e7dd6"
      },
      "execution_count": 244,
      "outputs": [
        {
          "output_type": "execute_result",
          "data": {
            "text/plain": [
              "(array([7499.,    0.,    0.,    0.,    0.,    0.,    0.,    0.,    0.,\n",
              "        2501.]),\n",
              " array([0. , 0.1, 0.2, 0.3, 0.4, 0.5, 0.6, 0.7, 0.8, 0.9, 1. ]),\n",
              " <BarContainer object of 10 artists>)"
            ]
          },
          "metadata": {},
          "execution_count": 244
        },
        {
          "output_type": "display_data",
          "data": {
            "text/plain": [
              "<Figure size 640x480 with 1 Axes>"
            ],
            "image/png": "[encoded data removed]"
          },
          "metadata": {}
        }
      ]
    },
    {
      "cell_type": "markdown",
      "source": [
        "## Phone - Y/N"
      ],
      "metadata": {
        "id": "sVd0JFM5-rTo"
      }
    },
    {
      "cell_type": "code",
      "source": [
        "churndf.phone_service.info()"
      ],
      "metadata": {
        "colab": {
          "base_uri": "https://localhost:8080/"
        },
        "id": "zm0Qc5kPiuz6",
        "outputId": "f7cc4f52-74f8-46d4-db4f-18d8759cde02"
      },
      "execution_count": 245,
      "outputs": [
        {
          "output_type": "stream",
          "name": "stdout",
          "text": [
            "<class 'pandas.core.series.Series'>\n",
            "Int64Index: 10000 entries, 1 to 10000\n",
            "Series name: phone_service\n",
            "Non-Null Count  Dtype \n",
            "--------------  ----- \n",
            "8974 non-null   object\n",
            "dtypes: object(1)\n",
            "memory usage: 156.2+ KB\n"
          ]
        }
      ]
    },
    {
      "cell_type": "code",
      "source": [
        "churndf.phone_service.value_counts(normalize=1)"
      ],
      "metadata": {
        "colab": {
          "base_uri": "https://localhost:8080/"
        },
        "id": "qnXQHETAix6k",
        "outputId": "d595346b-b9fa-451e-c939-2864243c242a"
      },
      "execution_count": 246,
      "outputs": [
        {
          "output_type": "execute_result",
          "data": {
            "text/plain": [
              "Yes    0.905728\n",
              "No     0.094272\n",
              "Name: phone_service, dtype: float64"
            ]
          },
          "metadata": {},
          "execution_count": 246
        }
      ]
    },
    {
      "cell_type": "code",
      "source": [
        "churndf.loc[churndf['phone_service'].isna(), 'phone_service'] = np.random.choice(['Yes', 'No'], len(churndf.loc[churndf['phone_service'].isna(), 'phone_service']))"
      ],
      "metadata": {
        "id": "1SP7vPIql9uf"
      },
      "execution_count": 247,
      "outputs": []
    },
    {
      "cell_type": "code",
      "source": [
        "mapping_dict = {'No': 0, 'Yes': 1}\n",
        "churndf['phone_service'] = churndf['phone_service'].replace(mapping_dict)\n",
        "plt.hist(churndf['phone_service'])"
      ],
      "metadata": {
        "colab": {
          "base_uri": "https://localhost:8080/",
          "height": 499
        },
        "id": "-ddDUcfVhfhk",
        "outputId": "deaaace0-3d91-4328-9b43-fb243162fd17"
      },
      "execution_count": 248,
      "outputs": [
        {
          "output_type": "execute_result",
          "data": {
            "text/plain": [
              "(array([1348.,    0.,    0.,    0.,    0.,    0.,    0.,    0.,    0.,\n",
              "        8652.]),\n",
              " array([0. , 0.1, 0.2, 0.3, 0.4, 0.5, 0.6, 0.7, 0.8, 0.9, 1. ]),\n",
              " <BarContainer object of 10 artists>)"
            ]
          },
          "metadata": {},
          "execution_count": 248
        },
        {
          "output_type": "display_data",
          "data": {
            "text/plain": [
              "<Figure size 640x480 with 1 Axes>"
            ],
            "image/png": "[encoded data removed]"
          },
          "metadata": {}
        }
      ]
    },
    {
      "cell_type": "markdown",
      "source": [
        "## TechSupport - Y/N"
      ],
      "metadata": {
        "id": "8HLwzcWb-vYj"
      }
    },
    {
      "cell_type": "code",
      "source": [
        "churndf.tech_support.info()"
      ],
      "metadata": {
        "colab": {
          "base_uri": "https://localhost:8080/"
        },
        "id": "X8boHB8I7O_s",
        "outputId": "652e413e-160a-4abd-cb8a-77a85cc146a7"
      },
      "execution_count": 249,
      "outputs": [
        {
          "output_type": "stream",
          "name": "stdout",
          "text": [
            "<class 'pandas.core.series.Series'>\n",
            "Int64Index: 10000 entries, 1 to 10000\n",
            "Series name: tech_support\n",
            "Non-Null Count  Dtype \n",
            "--------------  ----- \n",
            "9009 non-null   object\n",
            "dtypes: object(1)\n",
            "memory usage: 156.2+ KB\n"
          ]
        }
      ]
    },
    {
      "cell_type": "code",
      "source": [
        "churndf.tech_support.value_counts(normalize=1)"
      ],
      "metadata": {
        "colab": {
          "base_uri": "https://localhost:8080/"
        },
        "id": "C6v9BovQ7ScP",
        "outputId": "277bd46b-aa1d-46cc-b10d-0c221a4ac483"
      },
      "execution_count": 250,
      "outputs": [
        {
          "output_type": "execute_result",
          "data": {
            "text/plain": [
              "No     0.625486\n",
              "Yes    0.374514\n",
              "Name: tech_support, dtype: float64"
            ]
          },
          "metadata": {},
          "execution_count": 250
        }
      ]
    },
    {
      "cell_type": "code",
      "source": [
        "churndf.loc[churndf['tech_support'].isna(), 'tech_support'] = np.random.choice(['Yes', 'No'], len(churndf.loc[churndf['tech_support'].isna(), 'tech_support']))"
      ],
      "metadata": {
        "id": "9Wa3n6CDmbl1"
      },
      "execution_count": 251,
      "outputs": []
    },
    {
      "cell_type": "code",
      "source": [
        "mapping_dict = {'No': 0, 'Yes': 1}\n",
        "churndf['tech_support'] = churndf['tech_support'].replace(mapping_dict)\n",
        "plt.hist(churndf['tech_support'])"
      ],
      "metadata": {
        "colab": {
          "base_uri": "https://localhost:8080/",
          "height": 499
        },
        "id": "qJYfwCxEg95z",
        "outputId": "849a82ce-a061-4a44-d9f5-9d24f3167704"
      },
      "execution_count": 252,
      "outputs": [
        {
          "output_type": "execute_result",
          "data": {
            "text/plain": [
              "(array([6143.,    0.,    0.,    0.,    0.,    0.,    0.,    0.,    0.,\n",
              "        3857.]),\n",
              " array([0. , 0.1, 0.2, 0.3, 0.4, 0.5, 0.6, 0.7, 0.8, 0.9, 1. ]),\n",
              " <BarContainer object of 10 artists>)"
            ]
          },
          "metadata": {},
          "execution_count": 252
        },
        {
          "output_type": "display_data",
          "data": {
            "text/plain": [
              "<Figure size 640x480 with 1 Axes>"
            ],
            "image/png": "[encoded data removed]"
          },
          "metadata": {}
        }
      ]
    },
    {
      "cell_type": "markdown",
      "source": [
        "## Tenure - Median\n"
      ],
      "metadata": {
        "id": "RfJCLFAb-xY7"
      }
    },
    {
      "cell_type": "code",
      "source": [
        "churndf.tenure.info()"
      ],
      "metadata": {
        "colab": {
          "base_uri": "https://localhost:8080/"
        },
        "id": "qeg8qaIf7iDg",
        "outputId": "612bab5a-7c73-4197-ced1-b70195e02c69"
      },
      "execution_count": 253,
      "outputs": [
        {
          "output_type": "stream",
          "name": "stdout",
          "text": [
            "<class 'pandas.core.series.Series'>\n",
            "Int64Index: 10000 entries, 1 to 10000\n",
            "Series name: tenure\n",
            "Non-Null Count  Dtype  \n",
            "--------------  -----  \n",
            "9069 non-null   float64\n",
            "dtypes: float64(1)\n",
            "memory usage: 156.2 KB\n"
          ]
        }
      ]
    },
    {
      "cell_type": "code",
      "source": [
        "churndf.tenure.describe()"
      ],
      "metadata": {
        "colab": {
          "base_uri": "https://localhost:8080/"
        },
        "id": "n7LXZU2U7kkx",
        "outputId": "02db1ab5-6bf6-4807-dcdf-a06aa0d9e3f3"
      },
      "execution_count": 254,
      "outputs": [
        {
          "output_type": "execute_result",
          "data": {
            "text/plain": [
              "count    9069.000000\n",
              "mean       34.498858\n",
              "std        26.438904\n",
              "min         1.000259\n",
              "25%         7.890442\n",
              "50%        36.196030\n",
              "75%        61.426670\n",
              "max        71.999280\n",
              "Name: tenure, dtype: float64"
            ]
          },
          "metadata": {},
          "execution_count": 254
        }
      ]
    },
    {
      "cell_type": "code",
      "source": [
        "churndf.loc[churndf['tenure'].isna(), 'tenure'] = churndf['tenure'].median()"
      ],
      "metadata": {
        "id": "aAddkkEFf1sJ"
      },
      "execution_count": 255,
      "outputs": []
    },
    {
      "cell_type": "markdown",
      "source": [
        "## Bandwidth GB Year - Median"
      ],
      "metadata": {
        "id": "SAJTaua0-zYS"
      }
    },
    {
      "cell_type": "code",
      "source": [
        "churndf.bandwidth_gb_year.info()"
      ],
      "metadata": {
        "colab": {
          "base_uri": "https://localhost:8080/"
        },
        "id": "OYMmIgq87se_",
        "outputId": "410a3400-26af-4a47-f7b4-022e299c1157"
      },
      "execution_count": 256,
      "outputs": [
        {
          "output_type": "stream",
          "name": "stdout",
          "text": [
            "<class 'pandas.core.series.Series'>\n",
            "Int64Index: 10000 entries, 1 to 10000\n",
            "Series name: bandwidth_gb_year\n",
            "Non-Null Count  Dtype  \n",
            "--------------  -----  \n",
            "8979 non-null   float64\n",
            "dtypes: float64(1)\n",
            "memory usage: 156.2 KB\n"
          ]
        }
      ]
    },
    {
      "cell_type": "code",
      "source": [
        "churndf.bandwidth_gb_year.describe()"
      ],
      "metadata": {
        "colab": {
          "base_uri": "https://localhost:8080/"
        },
        "id": "TTb2nsvE7vjB",
        "outputId": "9acb32f5-03a5-43e5-93ac-4444a658198c"
      },
      "execution_count": 257,
      "outputs": [
        {
          "output_type": "execute_result",
          "data": {
            "text/plain": [
              "count    8979.000000\n",
              "mean     3398.842752\n",
              "std      2187.396807\n",
              "min       155.506715\n",
              "25%      1234.110529\n",
              "50%      3382.424000\n",
              "75%      5587.096500\n",
              "max      7158.982000\n",
              "Name: bandwidth_gb_year, dtype: float64"
            ]
          },
          "metadata": {},
          "execution_count": 257
        }
      ]
    },
    {
      "cell_type": "code",
      "source": [
        "churndf.loc[churndf['bandwidth_gb_year'].isna(), 'bandwidth_gb_year'] = churndf['bandwidth_gb_year'].median()"
      ],
      "metadata": {
        "id": "5B-Bhh0cnv78"
      },
      "execution_count": 258,
      "outputs": []
    },
    {
      "cell_type": "markdown",
      "source": [
        "# Outliers"
      ],
      "metadata": {
        "id": "wcjH0RgtyAtr"
      }
    },
    {
      "cell_type": "markdown",
      "source": [
        "## Population **"
      ],
      "metadata": {
        "id": "OCNQLGCqHgYR"
      }
    },
    {
      "cell_type": "code",
      "source": [
        "boxplot=sns.boxplot(x='population', data=churndf)"
      ],
      "metadata": {
        "colab": {
          "base_uri": "https://localhost:8080/",
          "height": 449
        },
        "id": "jAre8jKrFkYY",
        "outputId": "de0dcc85-5bb3-4e08-b078-8a47516ead06"
      },
      "execution_count": 259,
      "outputs": [
        {
          "output_type": "display_data",
          "data": {
            "text/plain": [
              "<Figure size 640x480 with 1 Axes>"
            ],
            "image/png": "[encoded data removed]"
          },
          "metadata": {}
        }
      ]
    },
    {
      "cell_type": "markdown",
      "source": [
        "## Children *\n"
      ],
      "metadata": {
        "id": "0yZ2ia7vHy_7"
      }
    },
    {
      "cell_type": "code",
      "source": [
        "boxplot=sns.boxplot(x='children', data=churndf)"
      ],
      "metadata": {
        "colab": {
          "base_uri": "https://localhost:8080/",
          "height": 449
        },
        "id": "ZsBpcyUdGfsW",
        "outputId": "051c2bb0-5a8f-476e-d36b-1ae3b01ccb4f"
      },
      "execution_count": null,
      "outputs": [
        {
          "output_type": "display_data",
          "data": {
            "text/plain": [
              "<Figure size 640x480 with 1 Axes>"
            ],
            "image/png": "[encoded data removed]"
          },
          "metadata": {}
        }
      ]
    },
    {
      "cell_type": "code",
      "source": [
        "count_more_than_6_children = (churndf['children'] > 7).sum()\n",
        "print(\"Count of people with more than 6 children:\", count_more_than_6_children)"
      ],
      "metadata": {
        "id": "Ud1A_J8sx744"
      },
      "execution_count": null,
      "outputs": []
    },
    {
      "cell_type": "markdown",
      "source": [
        "## Age"
      ],
      "metadata": {
        "id": "nSDv9zSyH1qR"
      }
    },
    {
      "cell_type": "code",
      "source": [
        "boxplot=sns.boxplot(x='age', data=churndf)"
      ],
      "metadata": {
        "id": "AzeBJ8mQIYpe"
      },
      "execution_count": null,
      "outputs": []
    },
    {
      "cell_type": "markdown",
      "source": [
        "## Income *"
      ],
      "metadata": {
        "id": "BFqPw7QYH43w"
      }
    },
    {
      "cell_type": "code",
      "source": [
        "boxplot=sns.boxplot(x='income', data=churndf)"
      ],
      "metadata": {
        "id": "xkd8ox-dIbIf"
      },
      "execution_count": null,
      "outputs": []
    },
    {
      "cell_type": "code",
      "source": [
        "high_income_individuals = churndf[churndf['income'] > 250000]\n",
        "high_income_individuals.head()"
      ],
      "metadata": {
        "id": "E1ax1J0G0H-P"
      },
      "execution_count": null,
      "outputs": []
    },
    {
      "cell_type": "markdown",
      "source": [
        "## Outage_sec_perweek *"
      ],
      "metadata": {
        "id": "hyPTO1XuH6sR"
      }
    },
    {
      "cell_type": "code",
      "source": [
        "boxplot=sns.boxplot(x='outage_sec_perweek', data=churndf)"
      ],
      "metadata": {
        "id": "nEX74GOeIeA1"
      },
      "execution_count": null,
      "outputs": []
    },
    {
      "cell_type": "code",
      "source": [
        "churndf.outage_sec_perweek.describe()"
      ],
      "metadata": {
        "id": "ctwLrO1n3Ra3"
      },
      "execution_count": null,
      "outputs": []
    },
    {
      "cell_type": "code",
      "source": [
        "count_below_zero = (churndf['outage_sec_perweek'] < 0).sum()\n",
        "print(\"Count of values below zero in 'outage_sec_perweek':\", count_below_zero)"
      ],
      "metadata": {
        "id": "RTMT11jn2S1b"
      },
      "execution_count": null,
      "outputs": []
    },
    {
      "cell_type": "code",
      "source": [
        "churndf.loc[churndf['outage_sec_perweek'] < 0, 'outage_sec_perweek'] = 0"
      ],
      "metadata": {
        "id": "i9yzdwwj3Mxu"
      },
      "execution_count": null,
      "outputs": []
    },
    {
      "cell_type": "markdown",
      "source": [
        "## Email *"
      ],
      "metadata": {
        "id": "HrM8gvYmH_cd"
      }
    },
    {
      "cell_type": "code",
      "source": [
        "boxplot=sns.boxplot(x='email', data=churndf)"
      ],
      "metadata": {
        "id": "31eHuKcCIijk"
      },
      "execution_count": null,
      "outputs": []
    },
    {
      "cell_type": "code",
      "source": [
        "churndf.email.describe()"
      ],
      "metadata": {
        "id": "zGntmhPi31a1"
      },
      "execution_count": null,
      "outputs": []
    },
    {
      "cell_type": "markdown",
      "source": [
        "## Contacts *"
      ],
      "metadata": {
        "id": "gBaTO24hIDvL"
      }
    },
    {
      "cell_type": "code",
      "source": [
        "boxplot=sns.boxplot(x='contacts', data=churndf)"
      ],
      "metadata": {
        "id": "B2lyt5KSIlR7"
      },
      "execution_count": null,
      "outputs": []
    },
    {
      "cell_type": "code",
      "source": [
        "churndf.contacts.describe()"
      ],
      "metadata": {
        "id": "0XLbSp1X4Kds"
      },
      "execution_count": null,
      "outputs": []
    },
    {
      "cell_type": "markdown",
      "source": [
        "## Yearly_equip_failure *"
      ],
      "metadata": {
        "id": "chBJNHr3IFrR"
      }
    },
    {
      "cell_type": "code",
      "source": [
        "boxplot=sns.boxplot(x='yearly_equip_failure', data=churndf)"
      ],
      "metadata": {
        "id": "Lsvv3zHkIoKL"
      },
      "execution_count": null,
      "outputs": []
    },
    {
      "cell_type": "code",
      "source": [
        "churndf.yearly_equip_failure.describe()"
      ],
      "metadata": {
        "id": "abV9V7FV4ZbD"
      },
      "execution_count": null,
      "outputs": []
    },
    {
      "cell_type": "markdown",
      "source": [
        "## Tenure"
      ],
      "metadata": {
        "id": "WLYCc71UIJB-"
      }
    },
    {
      "cell_type": "code",
      "source": [
        "boxplot=sns.boxplot(x='tenure', data=churndf)"
      ],
      "metadata": {
        "id": "KMPGUnczIsEH"
      },
      "execution_count": null,
      "outputs": []
    },
    {
      "cell_type": "markdown",
      "source": [
        "## Monthly Charge *"
      ],
      "metadata": {
        "id": "sj6FpFZ8IMC9"
      }
    },
    {
      "cell_type": "code",
      "source": [
        "boxplot=sns.boxplot(x='monthly_charge', data=churndf)"
      ],
      "metadata": {
        "id": "t_SGwsqtIu6W"
      },
      "execution_count": null,
      "outputs": []
    },
    {
      "cell_type": "code",
      "source": [
        "churndf.monthly_charge.describe()"
      ],
      "metadata": {
        "id": "EvwXKI2u4qae"
      },
      "execution_count": null,
      "outputs": []
    },
    {
      "cell_type": "code",
      "source": [
        "monthly_charge_above_300 = churndf[churndf['monthly_charge'] > 300]\n",
        "monthly_charge_above_300.head()"
      ],
      "metadata": {
        "id": "ZBUXnqjY6BUz"
      },
      "execution_count": null,
      "outputs": []
    },
    {
      "cell_type": "markdown",
      "source": [
        "## Bandwidth_GB_Year"
      ],
      "metadata": {
        "id": "WM_bu5d3IObc"
      }
    },
    {
      "cell_type": "code",
      "source": [
        "boxplot=sns.boxplot(x='bandwidth_gb_year', data=churndf)"
      ],
      "metadata": {
        "id": "W6TLSZmOIzp3"
      },
      "execution_count": null,
      "outputs": []
    },
    {
      "cell_type": "markdown",
      "source": [
        "# PCA"
      ],
      "metadata": {
        "id": "XwvUsMf9Frbz"
      }
    },
    {
      "cell_type": "code",
      "source": [
        "churndf.describe()"
      ],
      "metadata": {
        "id": "DHI8JaZs_eu5"
      },
      "execution_count": null,
      "outputs": []
    },
    {
      "cell_type": "code",
      "source": [
        "# Select numeric columns\n",
        "pca_data = churndf[['population', 'children', 'age', 'income', 'outage_sec_perweek',\n",
        "                         'email', 'contacts', 'yearly_equip_failure', 'techie', 'phone_service', 'tech_support',\n",
        "                         'tenure', 'monthly_charge', 'bandwidth_gb_year', 'survey1_response', 'survey2_fixes',\n",
        "                         'survey3_replacements', 'survey4_reliability', 'survey5_options', 'survey6_respectful',\n",
        "                         'survey7_courteous', 'survey8_listening']]\n",
        "\n",
        "# Normalize data\n",
        "pca_data_normalized = (pca_data - pca_data.mean()) / pca_data.std()\n",
        "\n",
        "# PCA .shape[1] extracts all components or use (n_components=#) for specific #\n",
        "pca = PCA(n_components=pca_data.shape[1])\n",
        "\n",
        "# new data set variables - components\n",
        "pca.fit(pca_data_normalized)\n",
        "transform_pca = pd.DataFrame(pca.transform(pca_data_normalized), columns=['PC1', 'PC2', 'PC3', 'PC4','PC5', 'PC6', 'PC7', 'PC8','PC9', 'PC10',\n",
        "                                                                      'PC11', 'PC12','PC13', 'PC14', 'PC15', 'PC16', 'PC17', 'PC18','PC19',\n",
        "                                                                      'PC20', 'PC21', 'PC22'])"
      ],
      "metadata": {
        "id": "zjcKyGWCSTt4"
      },
      "execution_count": null,
      "outputs": []
    },
    {
      "cell_type": "markdown",
      "source": [
        "## Explained Variance / Number of Components"
      ],
      "metadata": {
        "id": "i-N-W9Iqi66W"
      }
    },
    {
      "cell_type": "code",
      "source": [
        "plt.plot(pca.explained_variance_ratio_)\n",
        "plt.xlabel('Number of Components')\n",
        "plt.ylabel('Explained Variance')\n",
        "plt.show()"
      ],
      "metadata": {
        "id": "jlGwjShQimDF"
      },
      "execution_count": null,
      "outputs": []
    },
    {
      "cell_type": "markdown",
      "source": [
        "## Eigenvalues vs. Number of Components"
      ],
      "metadata": {
        "id": "hcuzHGzDjG18"
      }
    },
    {
      "cell_type": "code",
      "source": [
        "# Compute the covariance matrix\n",
        "cov_matrix = np.dot(pca_data_normalized.T, pca_data_normalized) / pca_data.shape[0]\n",
        "\n",
        "# Compute eigenvalues\n",
        "eigenvalues = [np.dot(eigenvector.T, np.dot(cov_matrix, eigenvector)) for eigenvector in pca.components_]\n",
        "\n",
        "# Plot eigenvalues\n",
        "plt.plot(eigenvalues)\n",
        "plt.xlabel('Number of Components')\n",
        "plt.ylabel('Eigenvalues')\n",
        "plt.axhline(y=1, color=\"red\")\n",
        "plt.show()\n"
      ],
      "metadata": {
        "id": "REPu2o_2TQ-V"
      },
      "execution_count": null,
      "outputs": []
    },
    {
      "cell_type": "code",
      "source": [
        "# Create a DataFrame with column names and eigenvalues\n",
        "eigen_df = pd.DataFrame({'Column': pca_data_normalized.columns, 'Eigenvalue': eigenvalues})\n",
        "\n",
        "# Sort the DataFrame by eigenvalues in descending order\n",
        "eigen_df_sorted = eigen_df.sort_values(by='Eigenvalue', ascending=False)\n",
        "\n",
        "# Print the sorted DataFrame\n",
        "print(\"Column Names and Eigenvalues (Ordered by Highest Eigenvalue):\")\n",
        "print(eigen_df_sorted)\n"
      ],
      "metadata": {
        "id": "XILQVmzbaitj"
      },
      "execution_count": null,
      "outputs": []
    },
    {
      "cell_type": "code",
      "source": [
        "# Compute loadings\n",
        "loadings = pd.DataFrame(pca.components_.T, columns=['PC1', 'PC2', 'PC3', 'PC4','PC5', 'PC6', 'PC7', 'PC8','PC9', 'PC10',\n",
        "                                                                      'PC11', 'PC12','PC13', 'PC14', 'PC15', 'PC16', 'PC17', 'PC18','PC19',\n",
        "                                                                      'PC20', 'PC21', 'PC22'], index=pca_data_normalized.columns)\n",
        "\n",
        "# Print the transformed data and loadings\n",
        "print(\"Transformed Data:\")\n",
        "print(transform_pca)\n",
        "print(\"\\nLoadings:\")\n",
        "print(loadings)"
      ],
      "metadata": {
        "id": "z-a-cPX4hWqz"
      },
      "execution_count": null,
      "outputs": []
    },
    {
      "cell_type": "markdown",
      "source": [
        "# Extract CSV File"
      ],
      "metadata": {
        "id": "vnUolsEqky2z"
      }
    },
    {
      "cell_type": "code",
      "source": [
        "churndf.to_csv('churndf_clean.csv', index=False)"
      ],
      "metadata": {
        "id": "yP4Zh_Jmk43H"
      },
      "execution_count": null,
      "outputs": []
    },
    {
      "cell_type": "markdown",
      "source": [
        "# Random Data Proof"
      ],
      "metadata": {
        "id": "a714LflzofYz"
      }
    },
    {
      "cell_type": "markdown",
      "source": [
        "## Young Doctorates"
      ],
      "metadata": {
        "id": "vDAoWK1GorQU"
      }
    },
    {
      "cell_type": "code",
      "source": [
        "# Filter rows where 'education' is equal to 'Doctorate Degree'\n",
        "doctorate_df = churndf[churndf['education'] == 'Doctorate Degree']\n",
        "\n",
        "# Create a new DataFrame with 'education' and 'age' columns from the filtered DataFrame\n",
        "doctorate_education_age_df = doctorate_df[['education', 'age']]\n",
        "\n",
        "# Sort the DataFrame by the 'age' column in ascending order\n",
        "sorted_doctorate_education_age_df = doctorate_education_age_df.sort_values(by='age')\n",
        "\n",
        "# Display the sorted DataFrame\n",
        "sorted_doctorate_education_age_df.head(30)"
      ],
      "metadata": {
        "id": "XyeVnx7ynX7i"
      },
      "execution_count": null,
      "outputs": []
    },
    {
      "cell_type": "markdown",
      "source": [
        "## Young Retirees"
      ],
      "metadata": {
        "id": "oy8BoyVEoqCX"
      }
    },
    {
      "cell_type": "code",
      "source": [
        "# Filter rows where 'employment' is equal to 'Retired'\n",
        "retired_df = churndf[churndf['employment'] == 'Retired']\n",
        "\n",
        "# Create a new DataFrame with 'employment' and 'age' columns from the filtered DataFrame\n",
        "retired_age_df = retired_df[['employment', 'age']]\n",
        "\n",
        "# Sort the DataFrame by the 'age' column in ascending order\n",
        "sorted_retired_age_df = retired_age_df.sort_values(by='age')\n",
        "\n",
        "# Display the sorted DataFrame\n",
        "print(sorted_retired_age_df.head(30))\n"
      ],
      "metadata": {
        "id": "uOu2fK_4qkKs"
      },
      "execution_count": null,
      "outputs": []
    },
    {
      "cell_type": "markdown",
      "source": [
        "## Incorrect City Data"
      ],
      "metadata": {
        "id": "gPLNqUEUrDdv"
      }
    },
    {
      "cell_type": "code",
      "source": [
        "# Group the data by 'city' and calculate the sum of population size for each city\n",
        "city_population = churndf.groupby('city')['population'].sum().reset_index()\n",
        "\n",
        "# Sort the cities based on total population size in descending order\n",
        "sorted_city_population = city_population.sort_values(by='population', ascending=False)\n",
        "\n",
        "# Create a new DataFrame with sorted cities and their corresponding total population size\n",
        "sorted_city_population_df = pd.DataFrame(sorted_city_population)\n",
        "\n",
        "# Display the sorted DataFrame\n",
        "sorted_city_population_df.head(25)"
      ],
      "metadata": {
        "id": "lMFbzvnIqw6a"
      },
      "execution_count": null,
      "outputs": []
    }
  ]
}